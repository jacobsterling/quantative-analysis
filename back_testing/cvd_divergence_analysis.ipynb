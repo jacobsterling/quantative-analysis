{
    "cells": [
        {
            "cell_type": "markdown",
            "metadata": {},
            "source": [
                "# CVDDivergence Strategy Analysis\n",
                "\n",
                "This notebook provides an in-depth analysis of the CVDDivergence strategy, including its logic, indicators, and backtest results."
            ]
        },
        {
            "cell_type": "markdown",
            "metadata": {},
            "source": [
                "## Setup\n",
                "\n",
                "### Change Working directory to repository root"
            ]
        },
        {
            "cell_type": "code",
            "execution_count": 1,
            "metadata": {},
            "outputs": [],
            "source": [
                "from constants import set_cwd_to_project_root, CONFIG_DIR\n",
                "from main import generate_config\n",
                "\n",
                "generate_config(\"binance\")\n",
                "\n",
                "set_cwd_to_project_root()"
            ]
        },
        {
            "cell_type": "markdown",
            "metadata": {},
            "source": [
                "### Configure Freqtrade environment"
            ]
        },
        {
            "cell_type": "code",
            "execution_count": 2,
            "metadata": {},
            "outputs": [],
            "source": [
                "from freqtrade.configuration import Configuration\n",
                "\n",
                "config = Configuration.from_files([CONFIG_DIR])\n",
                "\n",
                "config.update(\n",
                "    {\n",
                "        \"timeframe\": \"5m\",\n",
                "        \"strategy\": \"CVDDivergence\"\n",
                "    }\n",
                ")\n",
                "\n",
                "# Pair to analyze - Only use one pair here\n",
                "PAIR = \"BTC/USDT:USDT\""
            ]
        },
        {
            "cell_type": "code",
            "execution_count": 3,
            "metadata": {},
            "outputs": [
                {
                    "name": "stdout",
                    "output_type": "stream",
                    "text": [
                        "Loaded 77949 rows of data for BTC/USDT:USDT from F:\\quantative-analysis\\data\n"
                    ]
                },
                {
                    "data": {
                        "text/html": [
                            "<div>\n",
                            "<style scoped>\n",
                            "    .dataframe tbody tr th:only-of-type {\n",
                            "        vertical-align: middle;\n",
                            "    }\n",
                            "\n",
                            "    .dataframe tbody tr th {\n",
                            "        vertical-align: top;\n",
                            "    }\n",
                            "\n",
                            "    .dataframe thead th {\n",
                            "        text-align: right;\n",
                            "    }\n",
                            "</style>\n",
                            "<table border=\"1\" class=\"dataframe\">\n",
                            "  <thead>\n",
                            "    <tr style=\"text-align: right;\">\n",
                            "      <th></th>\n",
                            "      <th>date</th>\n",
                            "      <th>open</th>\n",
                            "      <th>high</th>\n",
                            "      <th>low</th>\n",
                            "      <th>close</th>\n",
                            "      <th>volume</th>\n",
                            "    </tr>\n",
                            "  </thead>\n",
                            "  <tbody>\n",
                            "    <tr>\n",
                            "      <th>0</th>\n",
                            "      <td>2024-01-01 00:00:00+00:00</td>\n",
                            "      <td>42314.0</td>\n",
                            "      <td>42437.2</td>\n",
                            "      <td>42289.6</td>\n",
                            "      <td>42437.1</td>\n",
                            "      <td>1724.210</td>\n",
                            "    </tr>\n",
                            "    <tr>\n",
                            "      <th>1</th>\n",
                            "      <td>2024-01-01 00:05:00+00:00</td>\n",
                            "      <td>42437.2</td>\n",
                            "      <td>42474.1</td>\n",
                            "      <td>42420.5</td>\n",
                            "      <td>42446.8</td>\n",
                            "      <td>994.003</td>\n",
                            "    </tr>\n",
                            "    <tr>\n",
                            "      <th>2</th>\n",
                            "      <td>2024-01-01 00:10:00+00:00</td>\n",
                            "      <td>42446.8</td>\n",
                            "      <td>42535.0</td>\n",
                            "      <td>42445.2</td>\n",
                            "      <td>42532.5</td>\n",
                            "      <td>899.775</td>\n",
                            "    </tr>\n",
                            "    <tr>\n",
                            "      <th>3</th>\n",
                            "      <td>2024-01-01 00:15:00+00:00</td>\n",
                            "      <td>42532.4</td>\n",
                            "      <td>42603.2</td>\n",
                            "      <td>42494.1</td>\n",
                            "      <td>42494.1</td>\n",
                            "      <td>1291.232</td>\n",
                            "    </tr>\n",
                            "    <tr>\n",
                            "      <th>4</th>\n",
                            "      <td>2024-01-01 00:20:00+00:00</td>\n",
                            "      <td>42494.1</td>\n",
                            "      <td>42533.1</td>\n",
                            "      <td>42484.4</td>\n",
                            "      <td>42509.4</td>\n",
                            "      <td>418.463</td>\n",
                            "    </tr>\n",
                            "  </tbody>\n",
                            "</table>\n",
                            "</div>"
                        ],
                        "text/plain": [
                            "                       date     open     high      low    close    volume\n",
                            "0 2024-01-01 00:00:00+00:00  42314.0  42437.2  42289.6  42437.1  1724.210\n",
                            "1 2024-01-01 00:05:00+00:00  42437.2  42474.1  42420.5  42446.8   994.003\n",
                            "2 2024-01-01 00:10:00+00:00  42446.8  42535.0  42445.2  42532.5   899.775\n",
                            "3 2024-01-01 00:15:00+00:00  42532.4  42603.2  42494.1  42494.1  1291.232\n",
                            "4 2024-01-01 00:20:00+00:00  42494.1  42533.1  42484.4  42509.4   418.463"
                        ]
                    },
                    "execution_count": 3,
                    "metadata": {},
                    "output_type": "execute_result"
                }
            ],
            "source": [
                "# Load data using values set above\n",
                "from freqtrade.data.history import load_pair_history\n",
                "from freqtrade.enums import CandleType\n",
                "from constants import DATA_DIR\n",
                "\n",
                "candles = load_pair_history(\n",
                "    datadir=DATA_DIR / \"binance\",\n",
                "    timeframe=config[\"timeframe\"],\n",
                "    pair=PAIR,\n",
                "    data_format=\"feather\",\n",
                "    candle_type=CandleType.FUTURES,\n",
                ")\n",
                "\n",
                "# Confirm success\n",
                "print(f\"Loaded {len(candles)} rows of data for {PAIR} from {DATA_DIR}\")\n",
                "candles.head()"
            ]
        },
        {
            "cell_type": "markdown",
            "metadata": {},
            "source": [
                "### Load and run strategy"
            ]
        },
        {
            "cell_type": "code",
            "execution_count": 4,
            "metadata": {},
            "outputs": [
                {
                    "name": "stdout",
                    "output_type": "stream",
                    "text": [
                        "<class 'pandas.core.frame.DataFrame'>\n",
                        "RangeIndex: 77949 entries, 0 to 77948\n",
                        "Data columns (total 40 columns):\n",
                        " #   Column                  Non-Null Count  Dtype              \n",
                        "---  ------                  --------------  -----              \n",
                        " 0   date                    77949 non-null  datetime64[ns, UTC]\n",
                        " 1   open                    77949 non-null  float64            \n",
                        " 2   high                    77949 non-null  float64            \n",
                        " 3   low                     77949 non-null  float64            \n",
                        " 4   close                   77949 non-null  float64            \n",
                        " 5   volume                  77949 non-null  float64            \n",
                        " 6   trades                  3000 non-null   object             \n",
                        " 7   orderflow               3000 non-null   object             \n",
                        " 8   imbalances              3000 non-null   object             \n",
                        " 9   stacked_imbalances_bid  611 non-null    object             \n",
                        " 10  stacked_imbalances_ask  519 non-null    object             \n",
                        " 11  max_delta               3000 non-null   float64            \n",
                        " 12  min_delta               3000 non-null   float64            \n",
                        " 13  bid                     3000 non-null   float64            \n",
                        " 14  ask                     3000 non-null   float64            \n",
                        " 15  delta                   3000 non-null   float64            \n",
                        " 16  total_trades            3000 non-null   float64            \n",
                        " 17  day                     77949 non-null  object             \n",
                        " 18  cvd                     3000 non-null   float64            \n",
                        " 19  vwap                    77949 non-null  float64            \n",
                        " 20  vwap_upper_1            77949 non-null  float64            \n",
                        " 21  vwap_lower_1            77949 non-null  float64            \n",
                        " 22  vwap_upper_2            77949 non-null  float64            \n",
                        " 23  vwap_lower_2            77949 non-null  float64            \n",
                        " 24  bull_poc_lower          77949 non-null  float64            \n",
                        " 25  bull_poc_upper          77949 non-null  float64            \n",
                        " 26  bear_poc_lower          77949 non-null  float64            \n",
                        " 27  bear_poc_upper          77949 non-null  float64            \n",
                        " 28  atr                     77935 non-null  float64            \n",
                        " 29  rsi                     77935 non-null  float64            \n",
                        " 30  enter_tag               77949 non-null  object             \n",
                        " 31  price_returns           77948 non-null  float64            \n",
                        " 32  cvd_returns             2999 non-null   float64            \n",
                        " 33  price_roc               77944 non-null  float64            \n",
                        " 34  cvd_roc                 2995 non-null   float64            \n",
                        " 35  enter_long              0 non-null      float64            \n",
                        " 36  enter_short             0 non-null      float64            \n",
                        " 37  exit_tag                77949 non-null  object             \n",
                        " 38  exit_long               7478 non-null   float64            \n",
                        " 39  exit_short              7461 non-null   float64            \n",
                        "dtypes: datetime64[ns, UTC](1), float64(31), object(8)\n",
                        "memory usage: 23.8+ MB\n"
                    ]
                }
            ],
            "source": [
                "# Load strategy using values set above\n",
                "from freqtrade.data.dataprovider import DataProvider\n",
                "from freqtrade.resolvers import StrategyResolver\n",
                "\n",
                "strategy = StrategyResolver.load_strategy(config)\n",
                "strategy.dp = DataProvider(config, None, None)\n",
                "\n",
                "strategy.ft_bot_start()\n",
                "\n",
                "# Generate buy/sell signals using strategy\n",
                "df = strategy.analyze_ticker(candles, {\"pair\": PAIR})\n",
                "df.info()"
            ]
        },
        {
            "cell_type": "markdown",
            "metadata": {},
            "source": [
                "### Display the trade details"
            ]
        },
        {
            "cell_type": "code",
            "execution_count": 5,
            "metadata": {},
            "outputs": [
                {
                    "name": "stdout",
                    "output_type": "stream",
                    "text": [
                        "Generated 0.0 long entry signals\n",
                        "Generated 0.0 short entry signals\n"
                    ]
                }
            ],
            "source": [
                "# Report results\n",
                "print(f\"Generated {df['enter_long'].sum()} long entry signals\")\n",
                "print(f\"Generated {df['enter_short'].sum()} short entry signals\")\n",
                "data = df.set_index(\"date\", drop=False)"
            ]
        },
        {
            "cell_type": "markdown",
            "metadata": {},
            "source": [
                "## Load backtest results"
            ]
        },
        {
            "cell_type": "code",
            "execution_count": 6,
            "metadata": {},
            "outputs": [
                {
                    "name": "stdout",
                    "output_type": "stream",
                    "text": [
                        "Results per pair:\n"
                    ]
                },
                {
                    "ename": "KeyError",
                    "evalue": "'CVDDivergence'",
                    "output_type": "error",
                    "traceback": [
                        "\u001b[1;31m---------------------------------------------------------------------------\u001b[0m",
                        "\u001b[1;31mKeyError\u001b[0m                                  Traceback (most recent call last)",
                        "Cell \u001b[1;32mIn[6], line 10\u001b[0m\n\u001b[0;32m      8\u001b[0m \u001b[38;5;66;03m# Example usages:\u001b[39;00m\n\u001b[0;32m      9\u001b[0m \u001b[38;5;28mprint\u001b[39m(\u001b[38;5;124m\"\u001b[39m\u001b[38;5;124mResults per pair:\u001b[39m\u001b[38;5;124m\"\u001b[39m)\n\u001b[1;32m---> 10\u001b[0m \u001b[38;5;28mprint\u001b[39m(\u001b[43mstats\u001b[49m\u001b[43m[\u001b[49m\u001b[38;5;124;43m\"\u001b[39;49m\u001b[38;5;124;43mstrategy\u001b[39;49m\u001b[38;5;124;43m\"\u001b[39;49m\u001b[43m]\u001b[49m\u001b[43m[\u001b[49m\u001b[43mstrategy\u001b[49m\u001b[43m]\u001b[49m[\u001b[38;5;124m\"\u001b[39m\u001b[38;5;124mresults_per_pair\u001b[39m\u001b[38;5;124m\"\u001b[39m])\n\u001b[0;32m     11\u001b[0m \u001b[38;5;28mprint\u001b[39m(\u001b[38;5;124m\"\u001b[39m\u001b[38;5;130;01m\\n\u001b[39;00m\u001b[38;5;124mPairlist:\u001b[39m\u001b[38;5;124m\"\u001b[39m)\n\u001b[0;32m     12\u001b[0m \u001b[38;5;28mprint\u001b[39m(stats[\u001b[38;5;124m\"\u001b[39m\u001b[38;5;124mstrategy\u001b[39m\u001b[38;5;124m\"\u001b[39m][strategy][\u001b[38;5;124m\"\u001b[39m\u001b[38;5;124mpairlist\u001b[39m\u001b[38;5;124m\"\u001b[39m])\n",
                        "\u001b[1;31mKeyError\u001b[0m: 'CVDDivergence'"
                    ]
                }
            ],
            "source": [
                "from freqtrade.data.btanalysis import load_backtest_data, load_backtest_stats\n",
                "from constants import BACKTEST_RESULTS_DIR\n",
                "\n",
                "# Load backtest statistics\n",
                "stats = load_backtest_stats(BACKTEST_RESULTS_DIR)\n",
                "\n",
                "strategy = \"CVDDivergence\"\n",
                "# Example usages:\n",
                "print(\"Results per pair:\")\n",
                "print(stats[\"strategy\"][strategy][\"results_per_pair\"])\n",
                "print(\"\\nPairlist:\")\n",
                "print(stats[\"strategy\"][strategy][\"pairlist\"])\n",
                "print(f\"\\nMarket change: {stats['strategy'][strategy]['market_change']}\")\n",
                "print(f\"Drawdown start: {stats['strategy'][strategy]['drawdown_start']}\")\n",
                "print(f\"Drawdown end: {stats['strategy'][strategy]['drawdown_end']}\")\n",
                "\n",
                "# Load backtested trades as dataframe\n",
                "trades = load_backtest_data(BACKTEST_RESULTS_DIR)\n",
                "\n",
                "if len(trades) > 0:\n",
                "    print(\"\\nExit reasons per pair:\")\n",
                "    print(trades.groupby(\"pair\")[\"exit_reason\"].value_counts())"
            ]
        },
        {
            "cell_type": "markdown",
            "metadata": {},
            "source": [
                "## Plot results"
            ]
        },
        {
            "cell_type": "code",
            "execution_count": 7,
            "metadata": {},
            "outputs": [
                {
                    "ename": "NameError",
                    "evalue": "name 'trades' is not defined",
                    "output_type": "error",
                    "traceback": [
                        "\u001b[1;31m---------------------------------------------------------------------------\u001b[0m",
                        "\u001b[1;31mNameError\u001b[0m                                 Traceback (most recent call last)",
                        "Cell \u001b[1;32mIn[7], line 15\u001b[0m\n\u001b[0;32m      9\u001b[0m data_filtered \u001b[38;5;241m=\u001b[39m data[from_date:to_date]\u001b[38;5;241m.\u001b[39mdrop(columns\u001b[38;5;241m=\u001b[39m[\u001b[38;5;124m\"\u001b[39m\u001b[38;5;124mexit_short\u001b[39m\u001b[38;5;124m\"\u001b[39m, \u001b[38;5;124m\"\u001b[39m\u001b[38;5;124mexit_long\u001b[39m\u001b[38;5;124m\"\u001b[39m])\n\u001b[0;32m     11\u001b[0m \u001b[38;5;66;03m# Generate candlestick graph with indicators for trade entry and losses\u001b[39;00m\n\u001b[0;32m     12\u001b[0m graph \u001b[38;5;241m=\u001b[39m generate_candlestick_graph(\n\u001b[0;32m     13\u001b[0m     pair\u001b[38;5;241m=\u001b[39mPAIR,\n\u001b[0;32m     14\u001b[0m     data\u001b[38;5;241m=\u001b[39mdata_filtered,\n\u001b[1;32m---> 15\u001b[0m     trades\u001b[38;5;241m=\u001b[39m\u001b[43mtrades\u001b[49m,\n\u001b[0;32m     16\u001b[0m     indicators1\u001b[38;5;241m=\u001b[39m[\u001b[38;5;124m\"\u001b[39m\u001b[38;5;124mvwap\u001b[39m\u001b[38;5;124m\"\u001b[39m, \u001b[38;5;124m\"\u001b[39m\u001b[38;5;124mvwap_lower_2\u001b[39m\u001b[38;5;124m\"\u001b[39m, \u001b[38;5;124m\"\u001b[39m\u001b[38;5;124mvwap_upper_2\u001b[39m\u001b[38;5;124m\"\u001b[39m, \u001b[38;5;124m\"\u001b[39m\u001b[38;5;124mbull_poc_upper\u001b[39m\u001b[38;5;124m\"\u001b[39m, \u001b[38;5;124m\"\u001b[39m\u001b[38;5;124mbull_poc_lower\u001b[39m\u001b[38;5;124m\"\u001b[39m, \u001b[38;5;124m\"\u001b[39m\u001b[38;5;124mbear_poc_lower\u001b[39m\u001b[38;5;124m\"\u001b[39m, \u001b[38;5;124m\"\u001b[39m\u001b[38;5;124mbear_poc_upper\u001b[39m\u001b[38;5;124m\"\u001b[39m, \u001b[38;5;124m\"\u001b[39m\u001b[38;5;124mpivot\u001b[39m\u001b[38;5;124m\"\u001b[39m],\n\u001b[0;32m     17\u001b[0m     indicators2\u001b[38;5;241m=\u001b[39m[\u001b[38;5;124m\"\u001b[39m\u001b[38;5;124mcvd\u001b[39m\u001b[38;5;124m\"\u001b[39m]\n\u001b[0;32m     18\u001b[0m )\n\u001b[0;32m     20\u001b[0m \u001b[38;5;66;03m# graph.add_trace(\u001b[39;00m\n\u001b[0;32m     21\u001b[0m \u001b[38;5;66;03m#     go.Scatter(\u001b[39;00m\n\u001b[0;32m     22\u001b[0m \u001b[38;5;66;03m#         x=data_filtered.index,\u001b[39;00m\n\u001b[1;32m   (...)\u001b[0m\n\u001b[0;32m     79\u001b[0m \n\u001b[0;32m     80\u001b[0m \u001b[38;5;66;03m# Render graph in a separate window\u001b[39;00m\n\u001b[0;32m     81\u001b[0m graph\u001b[38;5;241m.\u001b[39mshow(renderer\u001b[38;5;241m=\u001b[39m\u001b[38;5;124m\"\u001b[39m\u001b[38;5;124mbrowser\u001b[39m\u001b[38;5;124m\"\u001b[39m)\n",
                        "\u001b[1;31mNameError\u001b[0m: name 'trades' is not defined"
                    ]
                }
            ],
            "source": [
                "from freqtrade.plot.plotting import generate_candlestick_graph\n",
                "import plotly.graph_objs as go\n",
                "from pandas import notna\n",
                "\n",
                "from_date = data[\"delta\"].dropna().index.min()\n",
                "to_date = data[\"delta\"].dropna().index.max()\n",
                "\n",
                "# Filter data for a specific date range\n",
                "data_filtered = data[from_date:to_date].drop(columns=[\"exit_short\", \"exit_long\"])\n",
                "\n",
                "# Generate candlestick graph with indicators for trade entry and losses\n",
                "graph = generate_candlestick_graph(\n",
                "    pair=PAIR,\n",
                "    data=data_filtered,\n",
                "    trades=trades,\n",
                "    indicators1=[\"vwap\", \"vwap_lower_2\", \"vwap_upper_2\", \"bull_poc_upper\", \"bull_poc_lower\", \"bear_poc_lower\", \"bear_poc_upper\", \"pivot\"],\n",
                "    indicators2=[\"cvd\"]\n",
                ")\n",
                "\n",
                "# graph.add_trace(\n",
                "#     go.Scatter(\n",
                "#         x=data_filtered.index,\n",
                "#         y=data_filtered['close'],\n",
                "#         text=data_filtered['pivot'],\n",
                "#         mode='text',\n",
                "#         textposition='top center',\n",
                "#         textfont=dict(size=8),\n",
                "#         showlegend=False\n",
                "#     )\n",
                "# )\n",
                "\n",
                "# # Adjust layout to prevent overlap\n",
                "# graph.update_layout(\n",
                "#     annotations=[\n",
                "#         dict(\n",
                "#             x=data_filtered.index[i],\n",
                "#             y=data_filtered['close'].iloc[i],\n",
                "#             text=str(data_filtered['pivot'].iloc[i]),\n",
                "#             showarrow=False,\n",
                "#             yshift=10,\n",
                "#             font=dict(size=8)\n",
                "#         )\n",
                "#         for i in range(len(data_filtered)) if notna(data_filtered['pivot'].iloc[i])\n",
                "#     ]\n",
                "# )\n",
                "\n",
                "# # Add price_trend label to the graph\n",
                "# graph.add_trace(\n",
                "#     go.Scatter(\n",
                "#         x=data_filtered.index,\n",
                "#         y=data_filtered['close'],\n",
                "#         mode='markers+text',\n",
                "#         text=data_filtered['price_trend'],\n",
                "#         textposition='top right',\n",
                "#         textfont=dict(size=8),\n",
                "#         marker=dict(size=2, color='rgba(0,0,0,0)'),\n",
                "#         name='Price Trend',\n",
                "#         showlegend=False\n",
                "#     )\n",
                "# )\n",
                "\n",
                "# Adjust layout to prevent overlap\n",
                "# graph.update_layout(\n",
                "#     annotations=[\n",
                "#         dict(\n",
                "#             x=data_filtered.index[i],\n",
                "#             y=data_filtered['close'].iloc[i],\n",
                "#             text=data_filtered['price_trend'].iloc[i],\n",
                "#             showarrow=False,\n",
                "#             yshift=20,\n",
                "#             xshift=10,\n",
                "#             font=dict(size=8)\n",
                "#         )\n",
                "#         for i in range(len(data_filtered)) if notna(data_filtered['price_trend'].iloc[i])\n",
                "#     ]\n",
                "# )\n",
                "\n",
                "\n",
                "\n",
                "# Render graph in a separate window\n",
                "graph.show(renderer=\"browser\")"
            ]
        },
        {
            "cell_type": "markdown",
            "metadata": {},
            "source": [
                "## Plotting daily profit / equity line"
            ]
        },
        {
            "cell_type": "code",
            "execution_count": 8,
            "metadata": {},
            "outputs": [
                {
                    "ename": "ValueError",
                    "evalue": "Value of 'x' is not the name of a column in 'data_frame'. Expected one of ['date', 'open', 'high', 'low', 'close', 'volume', 'trades', 'orderflow', 'imbalances', 'stacked_imbalances_bid', 'stacked_imbalances_ask', 'max_delta', 'min_delta', 'bid', 'ask', 'delta', 'total_trades', 'day', 'cvd', 'vwap', 'vwap_upper_1', 'vwap_lower_1', 'vwap_upper_2', 'vwap_lower_2', 'bull_poc_lower', 'bull_poc_upper', 'bear_poc_lower', 'bear_poc_upper', 'atr', 'rsi', 'enter_tag', 'low_sma', 'cvd_sma', 'high_sma', 'enter_long', 'enter_short', 'exit_tag', 'exit_long', 'exit_short'] but received: dates",
                    "output_type": "error",
                    "traceback": [
                        "\u001b[1;31m---------------------------------------------------------------------------\u001b[0m",
                        "\u001b[1;31mValueError\u001b[0m                                Traceback (most recent call last)",
                        "Cell \u001b[1;32mIn[8], line 9\u001b[0m\n\u001b[0;32m      6\u001b[0m equity \u001b[38;5;241m=\u001b[39m pd\u001b[38;5;241m.\u001b[39mDataFrame(columns\u001b[38;5;241m=\u001b[39m[\u001b[38;5;124m\"\u001b[39m\u001b[38;5;124mdates\u001b[39m\u001b[38;5;124m\"\u001b[39m, \u001b[38;5;124m\"\u001b[39m\u001b[38;5;124mequity\u001b[39m\u001b[38;5;124m\"\u001b[39m], data\u001b[38;5;241m=\u001b[39mstrategy_stats[\u001b[38;5;124m\"\u001b[39m\u001b[38;5;124mdaily_profit\u001b[39m\u001b[38;5;124m\"\u001b[39m])\n\u001b[0;32m      7\u001b[0m equity[\u001b[38;5;124m\"\u001b[39m\u001b[38;5;124mequity_daily\u001b[39m\u001b[38;5;124m\"\u001b[39m] \u001b[38;5;241m=\u001b[39m equity[\u001b[38;5;124m\"\u001b[39m\u001b[38;5;124mequity\u001b[39m\u001b[38;5;124m\"\u001b[39m]\u001b[38;5;241m.\u001b[39mcumsum()\n\u001b[1;32m----> 9\u001b[0m fig \u001b[38;5;241m=\u001b[39m \u001b[43mpx\u001b[49m\u001b[38;5;241;43m.\u001b[39;49m\u001b[43mline\u001b[49m\u001b[43m(\u001b[49m\u001b[43mdf\u001b[49m\u001b[43m,\u001b[49m\u001b[43m \u001b[49m\u001b[43mx\u001b[49m\u001b[38;5;241;43m=\u001b[39;49m\u001b[38;5;124;43m\"\u001b[39;49m\u001b[38;5;124;43mdates\u001b[39;49m\u001b[38;5;124;43m\"\u001b[39;49m\u001b[43m,\u001b[49m\u001b[43m \u001b[49m\u001b[43my\u001b[49m\u001b[38;5;241;43m=\u001b[39;49m\u001b[38;5;124;43m\"\u001b[39;49m\u001b[38;5;124;43mequity_daily\u001b[39;49m\u001b[38;5;124;43m\"\u001b[39;49m\u001b[43m,\u001b[49m\u001b[43m \u001b[49m\u001b[43mtitle\u001b[49m\u001b[38;5;241;43m=\u001b[39;49m\u001b[38;5;124;43m\"\u001b[39;49m\u001b[38;5;124;43mCVDDivergence Strategy - Equity Curve\u001b[39;49m\u001b[38;5;124;43m\"\u001b[39;49m\u001b[43m)\u001b[49m\n\u001b[0;32m     10\u001b[0m fig\u001b[38;5;241m.\u001b[39mshow()\n",
                        "File \u001b[1;32mc:\\Users\\j10st\\AppData\\Local\\Programs\\Python\\Python312\\Lib\\site-packages\\plotly\\express\\_chart_types.py:264\u001b[0m, in \u001b[0;36mline\u001b[1;34m(data_frame, x, y, line_group, color, line_dash, symbol, hover_name, hover_data, custom_data, text, facet_row, facet_col, facet_col_wrap, facet_row_spacing, facet_col_spacing, error_x, error_x_minus, error_y, error_y_minus, animation_frame, animation_group, category_orders, labels, orientation, color_discrete_sequence, color_discrete_map, line_dash_sequence, line_dash_map, symbol_sequence, symbol_map, markers, log_x, log_y, range_x, range_y, line_shape, render_mode, title, template, width, height)\u001b[0m\n\u001b[0;32m    216\u001b[0m \u001b[38;5;28;01mdef\u001b[39;00m \u001b[38;5;21mline\u001b[39m(\n\u001b[0;32m    217\u001b[0m     data_frame\u001b[38;5;241m=\u001b[39m\u001b[38;5;28;01mNone\u001b[39;00m,\n\u001b[0;32m    218\u001b[0m     x\u001b[38;5;241m=\u001b[39m\u001b[38;5;28;01mNone\u001b[39;00m,\n\u001b[1;32m   (...)\u001b[0m\n\u001b[0;32m    258\u001b[0m     height\u001b[38;5;241m=\u001b[39m\u001b[38;5;28;01mNone\u001b[39;00m,\n\u001b[0;32m    259\u001b[0m ) \u001b[38;5;241m-\u001b[39m\u001b[38;5;241m>\u001b[39m go\u001b[38;5;241m.\u001b[39mFigure:\n\u001b[0;32m    260\u001b[0m \u001b[38;5;250m    \u001b[39m\u001b[38;5;124;03m\"\"\"\u001b[39;00m\n\u001b[0;32m    261\u001b[0m \u001b[38;5;124;03m    In a 2D line plot, each row of `data_frame` is represented as vertex of\u001b[39;00m\n\u001b[0;32m    262\u001b[0m \u001b[38;5;124;03m    a polyline mark in 2D space.\u001b[39;00m\n\u001b[0;32m    263\u001b[0m \u001b[38;5;124;03m    \"\"\"\u001b[39;00m\n\u001b[1;32m--> 264\u001b[0m     \u001b[38;5;28;01mreturn\u001b[39;00m \u001b[43mmake_figure\u001b[49m\u001b[43m(\u001b[49m\u001b[43margs\u001b[49m\u001b[38;5;241;43m=\u001b[39;49m\u001b[38;5;28;43mlocals\u001b[39;49m\u001b[43m(\u001b[49m\u001b[43m)\u001b[49m\u001b[43m,\u001b[49m\u001b[43m \u001b[49m\u001b[43mconstructor\u001b[49m\u001b[38;5;241;43m=\u001b[39;49m\u001b[43mgo\u001b[49m\u001b[38;5;241;43m.\u001b[39;49m\u001b[43mScatter\u001b[49m\u001b[43m)\u001b[49m\n",
                        "File \u001b[1;32mc:\\Users\\j10st\\AppData\\Local\\Programs\\Python\\Python312\\Lib\\site-packages\\plotly\\express\\_core.py:2090\u001b[0m, in \u001b[0;36mmake_figure\u001b[1;34m(args, constructor, trace_patch, layout_patch)\u001b[0m\n\u001b[0;32m   2087\u001b[0m layout_patch \u001b[38;5;241m=\u001b[39m layout_patch \u001b[38;5;129;01mor\u001b[39;00m {}\n\u001b[0;32m   2088\u001b[0m apply_default_cascade(args)\n\u001b[1;32m-> 2090\u001b[0m args \u001b[38;5;241m=\u001b[39m \u001b[43mbuild_dataframe\u001b[49m\u001b[43m(\u001b[49m\u001b[43margs\u001b[49m\u001b[43m,\u001b[49m\u001b[43m \u001b[49m\u001b[43mconstructor\u001b[49m\u001b[43m)\u001b[49m\n\u001b[0;32m   2091\u001b[0m \u001b[38;5;28;01mif\u001b[39;00m constructor \u001b[38;5;129;01min\u001b[39;00m [go\u001b[38;5;241m.\u001b[39mTreemap, go\u001b[38;5;241m.\u001b[39mSunburst, go\u001b[38;5;241m.\u001b[39mIcicle] \u001b[38;5;129;01mand\u001b[39;00m args[\u001b[38;5;124m\"\u001b[39m\u001b[38;5;124mpath\u001b[39m\u001b[38;5;124m\"\u001b[39m] \u001b[38;5;129;01mis\u001b[39;00m \u001b[38;5;129;01mnot\u001b[39;00m \u001b[38;5;28;01mNone\u001b[39;00m:\n\u001b[0;32m   2092\u001b[0m     args \u001b[38;5;241m=\u001b[39m process_dataframe_hierarchy(args)\n",
                        "File \u001b[1;32mc:\\Users\\j10st\\AppData\\Local\\Programs\\Python\\Python312\\Lib\\site-packages\\plotly\\express\\_core.py:1492\u001b[0m, in \u001b[0;36mbuild_dataframe\u001b[1;34m(args, constructor)\u001b[0m\n\u001b[0;32m   1489\u001b[0m     args[\u001b[38;5;124m\"\u001b[39m\u001b[38;5;124mcolor\u001b[39m\u001b[38;5;124m\"\u001b[39m] \u001b[38;5;241m=\u001b[39m \u001b[38;5;28;01mNone\u001b[39;00m\n\u001b[0;32m   1490\u001b[0m \u001b[38;5;66;03m# now that things have been prepped, we do the systematic rewriting of `args`\u001b[39;00m\n\u001b[1;32m-> 1492\u001b[0m df_output, wide_id_vars \u001b[38;5;241m=\u001b[39m \u001b[43mprocess_args_into_dataframe\u001b[49m\u001b[43m(\u001b[49m\n\u001b[0;32m   1493\u001b[0m \u001b[43m    \u001b[49m\u001b[43margs\u001b[49m\u001b[43m,\u001b[49m\u001b[43m \u001b[49m\u001b[43mwide_mode\u001b[49m\u001b[43m,\u001b[49m\u001b[43m \u001b[49m\u001b[43mvar_name\u001b[49m\u001b[43m,\u001b[49m\u001b[43m \u001b[49m\u001b[43mvalue_name\u001b[49m\n\u001b[0;32m   1494\u001b[0m \u001b[43m\u001b[49m\u001b[43m)\u001b[49m\n\u001b[0;32m   1496\u001b[0m \u001b[38;5;66;03m# now that `df_output` exists and `args` contains only references, we complete\u001b[39;00m\n\u001b[0;32m   1497\u001b[0m \u001b[38;5;66;03m# the special-case and wide-mode handling by further rewriting args and/or mutating\u001b[39;00m\n\u001b[0;32m   1498\u001b[0m \u001b[38;5;66;03m# df_output\u001b[39;00m\n\u001b[0;32m   1500\u001b[0m count_name \u001b[38;5;241m=\u001b[39m _escape_col_name(df_output, \u001b[38;5;124m\"\u001b[39m\u001b[38;5;124mcount\u001b[39m\u001b[38;5;124m\"\u001b[39m, [var_name, value_name])\n",
                        "File \u001b[1;32mc:\\Users\\j10st\\AppData\\Local\\Programs\\Python\\Python312\\Lib\\site-packages\\plotly\\express\\_core.py:1213\u001b[0m, in \u001b[0;36mprocess_args_into_dataframe\u001b[1;34m(args, wide_mode, var_name, value_name)\u001b[0m\n\u001b[0;32m   1211\u001b[0m         \u001b[38;5;28;01mif\u001b[39;00m argument \u001b[38;5;241m==\u001b[39m \u001b[38;5;124m\"\u001b[39m\u001b[38;5;124mindex\u001b[39m\u001b[38;5;124m\"\u001b[39m:\n\u001b[0;32m   1212\u001b[0m             err_msg \u001b[38;5;241m+\u001b[39m\u001b[38;5;241m=\u001b[39m \u001b[38;5;124m\"\u001b[39m\u001b[38;5;130;01m\\n\u001b[39;00m\u001b[38;5;124m To use the index, pass it in directly as `df.index`.\u001b[39m\u001b[38;5;124m\"\u001b[39m\n\u001b[1;32m-> 1213\u001b[0m         \u001b[38;5;28;01mraise\u001b[39;00m \u001b[38;5;167;01mValueError\u001b[39;00m(err_msg)\n\u001b[0;32m   1214\u001b[0m \u001b[38;5;28;01melif\u001b[39;00m length \u001b[38;5;129;01mand\u001b[39;00m \u001b[38;5;28mlen\u001b[39m(df_input[argument]) \u001b[38;5;241m!=\u001b[39m length:\n\u001b[0;32m   1215\u001b[0m     \u001b[38;5;28;01mraise\u001b[39;00m \u001b[38;5;167;01mValueError\u001b[39;00m(\n\u001b[0;32m   1216\u001b[0m         \u001b[38;5;124m\"\u001b[39m\u001b[38;5;124mAll arguments should have the same length. \u001b[39m\u001b[38;5;124m\"\u001b[39m\n\u001b[0;32m   1217\u001b[0m         \u001b[38;5;124m\"\u001b[39m\u001b[38;5;124mThe length of column argument `df[\u001b[39m\u001b[38;5;132;01m%s\u001b[39;00m\u001b[38;5;124m]` is \u001b[39m\u001b[38;5;132;01m%d\u001b[39;00m\u001b[38;5;124m, whereas the \u001b[39m\u001b[38;5;124m\"\u001b[39m\n\u001b[1;32m   (...)\u001b[0m\n\u001b[0;32m   1224\u001b[0m         )\n\u001b[0;32m   1225\u001b[0m     )\n",
                        "\u001b[1;31mValueError\u001b[0m: Value of 'x' is not the name of a column in 'data_frame'. Expected one of ['date', 'open', 'high', 'low', 'close', 'volume', 'trades', 'orderflow', 'imbalances', 'stacked_imbalances_bid', 'stacked_imbalances_ask', 'max_delta', 'min_delta', 'bid', 'ask', 'delta', 'total_trades', 'day', 'cvd', 'vwap', 'vwap_upper_1', 'vwap_lower_1', 'vwap_upper_2', 'vwap_lower_2', 'bull_poc_lower', 'bull_poc_upper', 'bear_poc_lower', 'bear_poc_upper', 'atr', 'rsi', 'enter_tag', 'low_sma', 'cvd_sma', 'high_sma', 'enter_long', 'enter_short', 'exit_tag', 'exit_long', 'exit_short'] but received: dates"
                    ]
                }
            ],
            "source": [
                "import pandas as pd\n",
                "import plotly.express as px\n",
                "\n",
                "strategy_stats = stats[\"strategy\"][strategy]\n",
                "\n",
                "equity = pd.DataFrame(columns=[\"dates\", \"equity\"], data=strategy_stats[\"daily_profit\"])\n",
                "equity[\"equity_daily\"] = equity[\"equity\"].cumsum()\n",
                "\n",
                "fig = px.line(df, x=\"dates\", y=\"equity_daily\", title=\"CVDDivergence Strategy - Equity Curve\")\n",
                "fig.show()"
            ]
        }
    ],
    "metadata": {
        "kernelspec": {
            "display_name": "Python 3",
            "language": "python",
            "name": "python3"
        },
        "language_info": {
            "codemirror_mode": {
                "name": "ipython",
                "version": 3
            },
            "file_extension": ".py",
            "mimetype": "text/x-python",
            "name": "python",
            "nbconvert_exporter": "python",
            "pygments_lexer": "ipython3",
            "version": "3.12.6"
        }
    },
    "nbformat": 4,
    "nbformat_minor": 4
}
