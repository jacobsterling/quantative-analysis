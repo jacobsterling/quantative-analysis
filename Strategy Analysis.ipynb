{
 "cells": [
  {
   "cell_type": "markdown",
   "metadata": {},
   "source": [
    "# Strategy analysis example\n",
    "\n",
    "Debugging a strategy can be time-consuming. Freqtrade offers helper functions to visualize raw data.\n",
    "The following assumes you work with SampleStrategy, data for 5m timeframe from Binance and have downloaded them into the data directory in the default location.\n",
    "Please follow the [documentation](https://www.freqtrade.io/en/stable/data-download/) for more details."
   ]
  },
  {
   "cell_type": "markdown",
   "metadata": {},
   "source": [
    "### Configure Freqtrade environment"
   ]
  },
  {
   "cell_type": "code",
   "execution_count": 5,
   "metadata": {},
   "outputs": [
    {
     "data": {
      "text/html": [
       "<div>\n",
       "<style scoped>\n",
       "    .dataframe tbody tr th:only-of-type {\n",
       "        vertical-align: middle;\n",
       "    }\n",
       "\n",
       "    .dataframe tbody tr th {\n",
       "        vertical-align: top;\n",
       "    }\n",
       "\n",
       "    .dataframe thead th {\n",
       "        text-align: right;\n",
       "    }\n",
       "</style>\n",
       "<table border=\"1\" class=\"dataframe\">\n",
       "  <thead>\n",
       "    <tr style=\"text-align: right;\">\n",
       "      <th></th>\n",
       "      <th>date</th>\n",
       "      <th>open</th>\n",
       "      <th>high</th>\n",
       "      <th>low</th>\n",
       "      <th>close</th>\n",
       "      <th>volume</th>\n",
       "    </tr>\n",
       "  </thead>\n",
       "  <tbody>\n",
       "    <tr>\n",
       "      <th>74858</th>\n",
       "      <td>2023-02-19 18:30:00+00:00</td>\n",
       "      <td>1686.0</td>\n",
       "      <td>1687.95</td>\n",
       "      <td>1682.25</td>\n",
       "      <td>1683.00</td>\n",
       "      <td>351600.0</td>\n",
       "    </tr>\n",
       "    <tr>\n",
       "      <th>74859</th>\n",
       "      <td>2023-02-19 18:45:00+00:00</td>\n",
       "      <td>1683.0</td>\n",
       "      <td>1686.50</td>\n",
       "      <td>1682.65</td>\n",
       "      <td>1685.50</td>\n",
       "      <td>251952.0</td>\n",
       "    </tr>\n",
       "    <tr>\n",
       "      <th>74860</th>\n",
       "      <td>2023-02-19 19:00:00+00:00</td>\n",
       "      <td>1685.5</td>\n",
       "      <td>1689.15</td>\n",
       "      <td>1685.10</td>\n",
       "      <td>1688.30</td>\n",
       "      <td>274280.0</td>\n",
       "    </tr>\n",
       "    <tr>\n",
       "      <th>74861</th>\n",
       "      <td>2023-02-19 19:15:00+00:00</td>\n",
       "      <td>1688.3</td>\n",
       "      <td>1690.10</td>\n",
       "      <td>1686.45</td>\n",
       "      <td>1688.95</td>\n",
       "      <td>142148.0</td>\n",
       "    </tr>\n",
       "    <tr>\n",
       "      <th>74862</th>\n",
       "      <td>2023-02-19 19:30:00+00:00</td>\n",
       "      <td>1688.8</td>\n",
       "      <td>1690.15</td>\n",
       "      <td>1685.50</td>\n",
       "      <td>1686.80</td>\n",
       "      <td>189809.0</td>\n",
       "    </tr>\n",
       "  </tbody>\n",
       "</table>\n",
       "</div>"
      ],
      "text/plain": [
       "                           date    open     high      low    close    volume\n",
       "74858 2023-02-19 18:30:00+00:00  1686.0  1687.95  1682.25  1683.00  351600.0\n",
       "74859 2023-02-19 18:45:00+00:00  1683.0  1686.50  1682.65  1685.50  251952.0\n",
       "74860 2023-02-19 19:00:00+00:00  1685.5  1689.15  1685.10  1688.30  274280.0\n",
       "74861 2023-02-19 19:15:00+00:00  1688.3  1690.10  1686.45  1688.95  142148.0\n",
       "74862 2023-02-19 19:30:00+00:00  1688.8  1690.15  1685.50  1686.80  189809.0"
      ]
     },
     "execution_count": 5,
     "metadata": {},
     "output_type": "execute_result"
    }
   ],
   "source": [
    "from freqtrade.configuration import Configuration\n",
    "from freqtrade.data.history import load_pair_history\n",
    "from freqtrade.enums import CandleType\n",
    "from pathlib import Path\n",
    "import talib.abstract as ta\n",
    "\n",
    "cwd = Path().cwd().parent\n",
    "\n",
    "config = Configuration.from_files([cwd / \"config.json\"])\n",
    "\n",
    "config[\"strategy\"] = \"VWAPRL\"\n",
    "config[\"freqaimodel\"] = \"CatboostClassifier\"\n",
    "config[\"timerange\"] = \"20210216-20230212\"\n",
    "\n",
    "pair=\"ETH/USDT:USDT\"\n",
    "\n",
    "datadir = cwd / rf\"data/{ config['exchange']['name'] }\"\n",
    "\n",
    "candles = load_pair_history(pair,\n",
    "                            config[\"timeframe\"],\n",
    "                            datadir,\n",
    "                            data_format = \"hdf5\",  # Make sure to update this to your data\n",
    "                            candle_type=CandleType.FUTURES)\n",
    "\n",
    "candles.tail()\n"
   ]
  },
  {
   "attachments": {},
   "cell_type": "markdown",
   "metadata": {},
   "source": []
  },
  {
   "cell_type": "markdown",
   "metadata": {},
   "source": [
    "## Load and run strategy\n",
    "* Rerun each time the strategy file is changed"
   ]
  },
  {
   "cell_type": "code",
   "execution_count": 6,
   "metadata": {},
   "outputs": [
    {
     "ename": "AttributeError",
     "evalue": "'CatboostClassifier' object has no attribute 'model'",
     "output_type": "error",
     "traceback": [
      "\u001b[1;31m---------------------------------------------------------------------------\u001b[0m",
      "\u001b[1;31mAttributeError\u001b[0m                            Traceback (most recent call last)",
      "Cell \u001b[1;32mIn[6], line 10\u001b[0m\n\u001b[0;32m      6\u001b[0m strategy\u001b[39m.\u001b[39mload_freqAI_model()\n\u001b[0;32m      8\u001b[0m strategy\u001b[39m.\u001b[39mdp \u001b[39m=\u001b[39m DataProvider(config, \u001b[39mNone\u001b[39;00m, \u001b[39mNone\u001b[39;00m)\n\u001b[1;32m---> 10\u001b[0m df \u001b[39m=\u001b[39m strategy\u001b[39m.\u001b[39;49manalyze_ticker(candles, {\u001b[39m'\u001b[39;49m\u001b[39mpair\u001b[39;49m\u001b[39m'\u001b[39;49m: pair})\n\u001b[0;32m     12\u001b[0m df\u001b[39m.\u001b[39mtail()\n",
      "File \u001b[1;32mc:\\Users\\j10st\\AppData\\Local\\Programs\\Python\\Python310\\lib\\site-packages\\freqtrade\\strategy\\interface.py:828\u001b[0m, in \u001b[0;36mIStrategy.analyze_ticker\u001b[1;34m(self, dataframe, metadata)\u001b[0m\n\u001b[0;32m    820\u001b[0m \u001b[39m\u001b[39m\u001b[39m\"\"\"\u001b[39;00m\n\u001b[0;32m    821\u001b[0m \u001b[39mParses the given candle (OHLCV) data and returns a populated DataFrame\u001b[39;00m\n\u001b[0;32m    822\u001b[0m \u001b[39madd several TA indicators and entry order signal to it\u001b[39;00m\n\u001b[1;32m   (...)\u001b[0m\n\u001b[0;32m    825\u001b[0m \u001b[39m:return: DataFrame of candle (OHLCV) data with indicator data and signals added\u001b[39;00m\n\u001b[0;32m    826\u001b[0m \u001b[39m\"\"\"\u001b[39;00m\n\u001b[0;32m    827\u001b[0m logger\u001b[39m.\u001b[39mdebug(\u001b[39m\"\u001b[39m\u001b[39mTA Analysis Launched\u001b[39m\u001b[39m\"\u001b[39m)\n\u001b[1;32m--> 828\u001b[0m dataframe \u001b[39m=\u001b[39m \u001b[39mself\u001b[39;49m\u001b[39m.\u001b[39;49madvise_indicators(dataframe, metadata)\n\u001b[0;32m    829\u001b[0m dataframe \u001b[39m=\u001b[39m \u001b[39mself\u001b[39m\u001b[39m.\u001b[39madvise_entry(dataframe, metadata)\n\u001b[0;32m    830\u001b[0m dataframe \u001b[39m=\u001b[39m \u001b[39mself\u001b[39m\u001b[39m.\u001b[39madvise_exit(dataframe, metadata)\n",
      "File \u001b[1;32mc:\\Users\\j10st\\AppData\\Local\\Programs\\Python\\Python310\\lib\\site-packages\\freqtrade\\strategy\\interface.py:1323\u001b[0m, in \u001b[0;36mIStrategy.advise_indicators\u001b[1;34m(self, dataframe, metadata)\u001b[0m\n\u001b[0;32m   1319\u001b[0m \u001b[39mfor\u001b[39;00m inf_data, populate_fn \u001b[39min\u001b[39;00m \u001b[39mself\u001b[39m\u001b[39m.\u001b[39m_ft_informative:\n\u001b[0;32m   1320\u001b[0m     dataframe \u001b[39m=\u001b[39m _create_and_merge_informative_pair(\n\u001b[0;32m   1321\u001b[0m         \u001b[39mself\u001b[39m, dataframe, metadata, inf_data, populate_fn)\n\u001b[1;32m-> 1323\u001b[0m \u001b[39mreturn\u001b[39;00m \u001b[39mself\u001b[39;49m\u001b[39m.\u001b[39;49mpopulate_indicators(dataframe, metadata)\n",
      "File \u001b[1;32mF:\\AiQuant\\strategies\\VWAPRL.py:111\u001b[0m, in \u001b[0;36mVWAPRL.populate_indicators\u001b[1;34m(self, df, metadata)\u001b[0m\n\u001b[0;32m    109\u001b[0m \u001b[39mdef\u001b[39;00m \u001b[39mpopulate_indicators\u001b[39m(\u001b[39mself\u001b[39m, df: DataFrame, metadata: \u001b[39mdict\u001b[39m) \u001b[39m-\u001b[39m\u001b[39m>\u001b[39m DataFrame:\n\u001b[1;32m--> 111\u001b[0m     df \u001b[39m=\u001b[39m \u001b[39mself\u001b[39;49m\u001b[39m.\u001b[39;49mfreqai\u001b[39m.\u001b[39;49mstart(df, metadata, \u001b[39mself\u001b[39;49m)\n\u001b[0;32m    113\u001b[0m     df\u001b[39m.\u001b[39mset_index(\u001b[39m'\u001b[39m\u001b[39mdate\u001b[39m\u001b[39m'\u001b[39m, inplace\u001b[39m=\u001b[39m\u001b[39mTrue\u001b[39;00m)\n\u001b[0;32m    115\u001b[0m     \u001b[39m# daily, weekly, monthly, and yearly frequencies\u001b[39;00m\n",
      "File \u001b[1;32mc:\\Users\\j10st\\AppData\\Local\\Programs\\Python\\Python310\\lib\\site-packages\\freqtrade\\freqai\\freqai_interface.py:159\u001b[0m, in \u001b[0;36mIFreqaiModel.start\u001b[1;34m(self, dataframe, metadata, strategy)\u001b[0m\n\u001b[0;32m    157\u001b[0m \u001b[39mif\u001b[39;00m \u001b[39mnot\u001b[39;00m \u001b[39mself\u001b[39m\u001b[39m.\u001b[39mconfig\u001b[39m.\u001b[39mget(\u001b[39m\"\u001b[39m\u001b[39mfreqai_backtest_live_models\u001b[39m\u001b[39m\"\u001b[39m, \u001b[39mFalse\u001b[39;00m):\n\u001b[0;32m    158\u001b[0m     logger\u001b[39m.\u001b[39minfo(\u001b[39mf\u001b[39m\u001b[39m\"\u001b[39m\u001b[39mTraining \u001b[39m\u001b[39m{\u001b[39;00m\u001b[39mlen\u001b[39m(\u001b[39mself\u001b[39m\u001b[39m.\u001b[39mdk\u001b[39m.\u001b[39mtraining_timeranges)\u001b[39m}\u001b[39;00m\u001b[39m timeranges\u001b[39m\u001b[39m\"\u001b[39m)\n\u001b[1;32m--> 159\u001b[0m     dk \u001b[39m=\u001b[39m \u001b[39mself\u001b[39;49m\u001b[39m.\u001b[39;49mstart_backtesting(dataframe, metadata, \u001b[39mself\u001b[39;49m\u001b[39m.\u001b[39;49mdk, strategy)\n\u001b[0;32m    160\u001b[0m     dataframe \u001b[39m=\u001b[39m dk\u001b[39m.\u001b[39mremove_features_from_df(dk\u001b[39m.\u001b[39mreturn_dataframe)\n\u001b[0;32m    161\u001b[0m \u001b[39melse\u001b[39;00m:\n",
      "File \u001b[1;32mc:\\Users\\j10st\\AppData\\Local\\Programs\\Python\\Python310\\lib\\site-packages\\freqtrade\\freqai\\freqai_interface.py:353\u001b[0m, in \u001b[0;36mIFreqaiModel.start_backtesting\u001b[1;34m(self, dataframe, metadata, dk, strategy)\u001b[0m\n\u001b[0;32m    351\u001b[0m \u001b[39mif\u001b[39;00m \u001b[39mself\u001b[39m\u001b[39m.\u001b[39msave_backtest_models:\n\u001b[0;32m    352\u001b[0m     logger\u001b[39m.\u001b[39minfo(\u001b[39m'\u001b[39m\u001b[39mSaving backtest model to disk.\u001b[39m\u001b[39m'\u001b[39m)\n\u001b[1;32m--> 353\u001b[0m     \u001b[39mself\u001b[39m\u001b[39m.\u001b[39mdd\u001b[39m.\u001b[39msave_data(\u001b[39mself\u001b[39;49m\u001b[39m.\u001b[39;49mmodel, pair, dk)\n\u001b[0;32m    354\u001b[0m \u001b[39melse\u001b[39;00m:\n\u001b[0;32m    355\u001b[0m     logger\u001b[39m.\u001b[39minfo(\u001b[39m'\u001b[39m\u001b[39mSaving metadata to disk.\u001b[39m\u001b[39m'\u001b[39m)\n",
      "\u001b[1;31mAttributeError\u001b[0m: 'CatboostClassifier' object has no attribute 'model'"
     ]
    }
   ],
   "source": [
    "from freqtrade.resolvers import StrategyResolver\n",
    "from freqtrade.data.dataprovider import DataProvider\n",
    "\n",
    "strategy = StrategyResolver.load_strategy(config)\n",
    "\n",
    "strategy.load_freqAI_model()\n",
    "\n",
    "strategy.dp = DataProvider(config, None, None)\n",
    "\n",
    "df = strategy.analyze_ticker(candles, {'pair': pair})\n",
    "\n",
    "df.tail()"
   ]
  },
  {
   "attachments": {},
   "cell_type": "markdown",
   "metadata": {},
   "source": [
    "### Display the trade details"
   ]
  },
  {
   "cell_type": "code",
   "execution_count": null,
   "metadata": {},
   "outputs": [],
   "source": [
    "# Report results\n",
    "print(f\"Generated {df['enter_long'].sum()} entry signals\")\n",
    "data = df.set_index('date', drop=False)\n",
    "data.tail()"
   ]
  },
  {
   "attachments": {},
   "cell_type": "markdown",
   "metadata": {},
   "source": [
    "## Load Existing Backtest Data "
   ]
  },
  {
   "cell_type": "code",
   "execution_count": null,
   "metadata": {},
   "outputs": [],
   "source": [
    "from freqtrade.data.btanalysis import load_backtest_data, load_backtest_stats\n",
    "\n",
    "backtest_dir = config[\"user_data_dir\"] / \"backtest_results\"\n",
    "# backtest_dir = backtest_dir / \"backtest-result-2020-07-01_20-04-22.json\"\n",
    "\n",
    "# You can get the full backtest statistics by using the following command.\n",
    "# This contains all information used to generate the backtest result.\n",
    "stats = load_backtest_stats(backtest_dir)\n",
    "\n",
    "# All statistics are available per strategy, so if `--strategy-list` was used during backtest, this will be reflected here as well.\n",
    "# Example usages:\n",
    "print(stats['strategy'][config[\"strategy\"]]['results_per_pair'])\n",
    "# Get pairlist used for this backtest\n",
    "print(stats['strategy'][config[\"strategy\"]]['pairlist'])\n",
    "# Get market change (average change of all pairs from start to end of the backtest period)\n",
    "print(stats['strategy'][config[\"strategy\"]]['market_change'])\n",
    "# Maximum drawdown ()\n",
    "print(stats['strategy'][config[\"strategy\"]]['max_drawdown'])\n",
    "# Maximum drawdown start and end\n",
    "print(stats['strategy'][config[\"strategy\"]]['drawdown_start'])\n",
    "print(stats['strategy'][config[\"strategy\"]]['drawdown_end'])\n",
    "\n",
    "\n",
    "# Get strategy comparison (only relevant if multiple strategies were compared)\n",
    "print(stats['strategy_comparison'])\n"
   ]
  },
  {
   "cell_type": "code",
   "execution_count": null,
   "metadata": {},
   "outputs": [],
   "source": [
    "# Load backtested trades as dataframe\n",
    "trades = load_backtest_data(backtest_dir)\n",
    "\n",
    "# Show value-counts per pair\n",
    "trades.groupby(\"pair\")[\"exit_reason\"].value_counts()"
   ]
  },
  {
   "cell_type": "markdown",
   "metadata": {},
   "source": [
    "## Plotting daily profit / equity line"
   ]
  },
  {
   "cell_type": "code",
   "execution_count": null,
   "metadata": {},
   "outputs": [],
   "source": [
    "# Plotting equity line (starting with 0 on day 1 and adding daily profit for each backtested day)\n",
    "\n",
    "from freqtrade.configuration import Configuration\n",
    "from freqtrade.data.btanalysis import load_backtest_data, load_backtest_stats\n",
    "import plotly.express as px\n",
    "import pandas as pd\n",
    "\n",
    "# strategy = 'SampleStrategy'\n",
    "# config = Configuration.from_files([\"user_data/config.json\"])\n",
    "# backtest_dir = config[\"user_data_dir\"] / \"backtest_results\"\n",
    "\n",
    "stats = load_backtest_stats(backtest_dir)\n",
    "strategy_stats = stats['strategy'][config[\"strategy\"]]\n",
    "\n",
    "dates = []\n",
    "profits = []\n",
    "for date_profit in strategy_stats['daily_profit']:\n",
    "    dates.append(date_profit[0])\n",
    "    profits.append(date_profit[1])\n",
    "\n",
    "equity = 0\n",
    "equity_daily = []\n",
    "for daily_profit in profits:\n",
    "    equity_daily.append(equity)\n",
    "    equity += float(daily_profit)\n",
    "\n",
    "\n",
    "df = pd.DataFrame({'dates': dates,'equity_daily': equity_daily})\n",
    "\n",
    "fig = px.line(df, x=\"dates\", y=\"equity_daily\")\n",
    "fig.show()\n"
   ]
  },
  {
   "attachments": {},
   "cell_type": "markdown",
   "metadata": {},
   "source": [
    "### Load live trading results"
   ]
  },
  {
   "cell_type": "code",
   "execution_count": null,
   "metadata": {},
   "outputs": [],
   "source": [
    "from freqtrade.data.btanalysis import load_trades_from_db\n",
    "\n",
    "# Fetch trades from database\n",
    "trades = load_trades_from_db(\"sqlite:///tradesv3.sqlite\")\n",
    "\n",
    "# Display results\n",
    "trades.groupby(\"pair\")[\"exit_reason\"].value_counts()"
   ]
  },
  {
   "attachments": {},
   "cell_type": "markdown",
   "metadata": {},
   "source": [
    "## Analyze the loaded trades for trade parallelism\n",
    "This can be useful to find the best `max_open_trades` parameter, when used with backtesting in conjunction with `--disable-max-market-positions`."
   ]
  },
  {
   "cell_type": "code",
   "execution_count": null,
   "metadata": {},
   "outputs": [],
   "source": [
    "from freqtrade.data.btanalysis import analyze_trade_parallelism\n",
    "\n",
    "# Analyze the above\n",
    "parallel_trades = analyze_trade_parallelism(trades, '5m')\n",
    "\n",
    "parallel_trades.plot()"
   ]
  },
  {
   "cell_type": "markdown",
   "metadata": {},
   "source": [
    "## Plot results\n",
    "\n",
    "Freqtrade offers interactive plotting capabilities based on plotly."
   ]
  },
  {
   "cell_type": "code",
   "execution_count": null,
   "metadata": {},
   "outputs": [],
   "source": [
    "from freqtrade.plot.plotting import  generate_candlestick_graph\n",
    "# Limit graph period to keep plotly quick and reactive\n",
    "\n",
    "# Filter trades to one pair\n",
    "trades_red = trades.loc[trades['pair'] == pair]\n",
    "\n",
    "data_red = data['2019-06-01':'2019-06-10']\n",
    "# Generate candlestick graph\n",
    "graph = generate_candlestick_graph(pair=pair,\n",
    "                                   data=data_red,\n",
    "                                   trades=trades_red,\n",
    "                                   indicators1=['sma20', 'ema50', 'ema55'],\n",
    "                                   indicators2=['rsi', 'macd', 'macdsignal', 'macdhist']\n",
    "                                  )\n",
    "\n",
    "\n"
   ]
  },
  {
   "cell_type": "code",
   "execution_count": null,
   "metadata": {},
   "outputs": [],
   "source": [
    "# Show graph inline\n",
    "# graph.show()\n",
    "\n",
    "# Render graph in a separate window\n",
    "graph.show(renderer=\"browser\")\n"
   ]
  },
  {
   "cell_type": "markdown",
   "metadata": {},
   "source": [
    "## Plot average profit per trade as distribution graph"
   ]
  },
  {
   "cell_type": "code",
   "execution_count": null,
   "metadata": {},
   "outputs": [],
   "source": [
    "import plotly.figure_factory as ff\n",
    "\n",
    "hist_data = [trades.profit_ratio]\n",
    "group_labels = ['profit_ratio']  # name of the dataset\n",
    "\n",
    "fig = ff.create_distplot(hist_data, group_labels, bin_size=0.01)\n",
    "fig.show()\n"
   ]
  }
 ],
 "metadata": {
  "file_extension": ".py",
  "kernelspec": {
   "display_name": "Python 3",
   "language": "python",
   "name": "python3"
  },
  "language_info": {
   "codemirror_mode": {
    "name": "ipython",
    "version": 3
   },
   "file_extension": ".py",
   "mimetype": "text/x-python",
   "name": "python",
   "nbconvert_exporter": "python",
   "pygments_lexer": "ipython3",
   "version": "3.10.9"
  },
  "mimetype": "text/x-python",
  "name": "python",
  "npconvert_exporter": "python",
  "pygments_lexer": "ipython3",
  "toc": {
   "base_numbering": 1,
   "nav_menu": {},
   "number_sections": true,
   "sideBar": true,
   "skip_h1_title": false,
   "title_cell": "Table of Contents",
   "title_sidebar": "Contents",
   "toc_cell": false,
   "toc_position": {},
   "toc_section_display": true,
   "toc_window_display": false
  },
  "varInspector": {
   "cols": {
    "lenName": 16,
    "lenType": 16,
    "lenVar": 40
   },
   "kernels_config": {
    "python": {
     "delete_cmd_postfix": "",
     "delete_cmd_prefix": "del ",
     "library": "var_list.py",
     "varRefreshCmd": "print(var_dic_list())"
    },
    "r": {
     "delete_cmd_postfix": ") ",
     "delete_cmd_prefix": "rm(",
     "library": "var_list.r",
     "varRefreshCmd": "cat(var_dic_list()) "
    }
   },
   "types_to_exclude": [
    "module",
    "function",
    "builtin_function_or_method",
    "instance",
    "_Feature"
   ],
   "window_display": false
  },
  "version": 3,
  "vscode": {
   "interpreter": {
    "hash": "1abdcf89fc867bf823d2d71353d836c316dac78fe8858253374e82035766b8d5"
   }
  }
 },
 "nbformat": 4,
 "nbformat_minor": 4
}
