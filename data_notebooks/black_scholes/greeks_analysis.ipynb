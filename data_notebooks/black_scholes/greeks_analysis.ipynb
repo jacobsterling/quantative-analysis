{
 "cells": [
  {
   "cell_type": "code",
   "execution_count": null,
   "metadata": {},
   "outputs": [],
   "source": [
    "from models.options import black_scholes_greeks\n",
    "\n",
    "greeks = black_scholes_greeks(S, K, T, r, sigma, option_type='call')\n",
    "\n",
    "print(greeks.Gamma)"
   ]
  }
 ],
 "metadata": {
  "language_info": {
   "name": "python"
  }
 },
 "nbformat": 4,
 "nbformat_minor": 2
}
