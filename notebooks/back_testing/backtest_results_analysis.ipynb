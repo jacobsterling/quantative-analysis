{
 "cells": [
  {
   "cell_type": "markdown",
   "metadata": {},
   "source": [
    "### Importing Libraries"
   ]
  },
  {
   "cell_type": "code",
   "execution_count": 1,
   "metadata": {},
   "outputs": [],
   "source": [
    "import pandas as pd\n",
    "import plotly.express as px\n",
    "import plotly.graph_objects as go\n",
    "from pathlib import Path\n",
    "from freqtrade.data.btanalysis import load_backtest_data, load_backtest_stats"
   ]
  },
  {
   "cell_type": "markdown",
   "metadata": {},
   "source": [
    "### Load backtest results"
   ]
  },
  {
   "cell_type": "code",
   "execution_count": 2,
   "metadata": {},
   "outputs": [
    {
     "data": {
      "text/html": [
       "<div>\n",
       "<style scoped>\n",
       "    .dataframe tbody tr th:only-of-type {\n",
       "        vertical-align: middle;\n",
       "    }\n",
       "\n",
       "    .dataframe tbody tr th {\n",
       "        vertical-align: top;\n",
       "    }\n",
       "\n",
       "    .dataframe thead th {\n",
       "        text-align: right;\n",
       "    }\n",
       "</style>\n",
       "<table border=\"1\" class=\"dataframe\">\n",
       "  <thead>\n",
       "    <tr style=\"text-align: right;\">\n",
       "      <th></th>\n",
       "    </tr>\n",
       "  </thead>\n",
       "  <tbody>\n",
       "  </tbody>\n",
       "</table>\n",
       "</div>"
      ],
      "text/plain": [
       "Empty DataFrame\n",
       "Columns: []\n",
       "Index: []"
      ]
     },
     "execution_count": 2,
     "metadata": {},
     "output_type": "execute_result"
    }
   ],
   "source": [
    "from path_config import BACKTEST_RESULTS_DIR\n",
    "\n",
    "trades = load_backtest_data(BACKTEST_RESULTS_DIR)\n",
    "\n",
    "trades.head()"
   ]
  },
  {
   "cell_type": "code",
   "execution_count": 3,
   "metadata": {},
   "outputs": [
    {
     "name": "stdout",
     "output_type": "stream",
     "text": [
      "{'OrderFlowAnalysis': {'trades': [],\n",
      "                       'locks': [],\n",
      "                       'best_pair': {'key': 'BTC/USDT',\n",
      "                                     'trades': 0,\n",
      "                                     'profit_mean': 0.0,\n",
      "                                     'profit_mean_pct': 0.0,\n",
      "                                     'profit_sum': 0,\n",
      "                                     'profit_sum_pct': 0.0,\n",
      "                                     'profit_total_abs': 0,\n",
      "                                     'profit_total': 0.0,\n",
      "                                     'profit_total_pct': 0.0,\n",
      "                                     'duration_avg': '0:00',\n",
      "                                     'wins': 0,\n",
      "                                     'draws': 0,\n",
      "                                     'losses': 0,\n",
      "                                     'winrate': 0.0},\n",
      "                       'worst_pair': {'key': 'BTC/USDT',\n",
      "                                      'trades': 0,\n",
      "                                      'profit_mean': 0.0,\n",
      "                                      'profit_mean_pct': 0.0,\n",
      "                                      'profit_sum': 0,\n",
      "                                      'profit_sum_pct': 0.0,\n",
      "                                      'profit_total_abs': 0,\n",
      "                                      'profit_total': 0.0,\n",
      "                                      'profit_total_pct': 0.0,\n",
      "                                      'duration_avg': '0:00',\n",
      "                                      'wins': 0,\n",
      "                                      'draws': 0,\n",
      "                                      'losses': 0,\n",
      "                                      'winrate': 0.0},\n",
      "                       'results_per_pair': [{'key': 'BTC/USDT',\n",
      "                                             'trades': 0,\n",
      "                                             'profit_mean': 0.0,\n",
      "                                             'profit_mean_pct': 0.0,\n",
      "                                             'profit_sum': 0,\n",
      "                                             'profit_sum_pct': 0.0,\n",
      "                                             'profit_total_abs': 0,\n",
      "                                             'profit_total': 0.0,\n",
      "                                             'profit_total_pct': 0.0,\n",
      "                                             'duration_avg': '0:00',\n",
      "                                             'wins': 0,\n",
      "                                             'draws': 0,\n",
      "                                             'losses': 0,\n",
      "                                             'winrate': 0.0},\n",
      "                                            {'key': 'ETH/USDT',\n",
      "                                             'trades': 0,\n",
      "                                             'profit_mean': 0.0,\n",
      "                                             'profit_mean_pct': 0.0,\n",
      "                                             'profit_sum': 0,\n",
      "                                             'profit_sum_pct': 0.0,\n",
      "                                             'profit_total_abs': 0,\n",
      "                                             'profit_total': 0.0,\n",
      "                                             'profit_total_pct': 0.0,\n",
      "                                             'duration_avg': '0:00',\n",
      "                                             'wins': 0,\n",
      "                                             'draws': 0,\n",
      "                                             'losses': 0,\n",
      "                                             'winrate': 0.0},\n",
      "                                            {'key': 'TOTAL',\n",
      "                                             'trades': 0,\n",
      "                                             'profit_mean': 0.0,\n",
      "                                             'profit_mean_pct': 0.0,\n",
      "                                             'profit_sum': 0,\n",
      "                                             'profit_sum_pct': 0.0,\n",
      "                                             'profit_total_abs': 0,\n",
      "                                             'profit_total': 0.0,\n",
      "                                             'profit_total_pct': 0.0,\n",
      "                                             'duration_avg': '0:00',\n",
      "                                             'wins': 0,\n",
      "                                             'draws': 0,\n",
      "                                             'losses': 0,\n",
      "                                             'winrate': 0.0}],\n",
      "                       'results_per_enter_tag': [{'key': 'TOTAL',\n",
      "                                                  'trades': 0,\n",
      "                                                  'profit_mean': 0.0,\n",
      "                                                  'profit_mean_pct': 0.0,\n",
      "                                                  'profit_sum': 0,\n",
      "                                                  'profit_sum_pct': 0.0,\n",
      "                                                  'profit_total_abs': 0,\n",
      "                                                  'profit_total': 0.0,\n",
      "                                                  'profit_total_pct': 0.0,\n",
      "                                                  'duration_avg': '0:00',\n",
      "                                                  'wins': 0,\n",
      "                                                  'draws': 0,\n",
      "                                                  'losses': 0,\n",
      "                                                  'winrate': 0.0}],\n",
      "                       'exit_reason_summary': [{'key': 'TOTAL',\n",
      "                                                'trades': 0,\n",
      "                                                'profit_mean': 0.0,\n",
      "                                                'profit_mean_pct': 0.0,\n",
      "                                                'profit_sum': 0,\n",
      "                                                'profit_sum_pct': 0.0,\n",
      "                                                'profit_total_abs': 0,\n",
      "                                                'profit_total': 0.0,\n",
      "                                                'profit_total_pct': 0.0,\n",
      "                                                'duration_avg': '0:00',\n",
      "                                                'wins': 0,\n",
      "                                                'draws': 0,\n",
      "                                                'losses': 0,\n",
      "                                                'winrate': 0.0}],\n",
      "                       'mix_tag_stats': [{'key': 'TOTAL',\n",
      "                                          'trades': 0,\n",
      "                                          'profit_mean': 0.0,\n",
      "                                          'profit_mean_pct': 0.0,\n",
      "                                          'profit_sum': 0,\n",
      "                                          'profit_sum_pct': 0.0,\n",
      "                                          'profit_total_abs': 0,\n",
      "                                          'profit_total': 0.0,\n",
      "                                          'profit_total_pct': 0.0,\n",
      "                                          'duration_avg': '0:00',\n",
      "                                          'wins': 0,\n",
      "                                          'draws': 0,\n",
      "                                          'losses': 0,\n",
      "                                          'winrate': 0.0}],\n",
      "                       'left_open_trades': [{'key': 'TOTAL',\n",
      "                                             'trades': 0,\n",
      "                                             'profit_mean': 0.0,\n",
      "                                             'profit_mean_pct': 0.0,\n",
      "                                             'profit_sum': 0,\n",
      "                                             'profit_sum_pct': 0.0,\n",
      "                                             'profit_total_abs': 0,\n",
      "                                             'profit_total': 0.0,\n",
      "                                             'profit_total_pct': 0.0,\n",
      "                                             'duration_avg': '0:00',\n",
      "                                             'wins': 0,\n",
      "                                             'draws': 0,\n",
      "                                             'losses': 0,\n",
      "                                             'winrate': 0.0}],\n",
      "                       'total_trades': 0,\n",
      "                       'trade_count_long': 0,\n",
      "                       'trade_count_short': 0,\n",
      "                       'total_volume': 0.0,\n",
      "                       'avg_stake_amount': 0,\n",
      "                       'profit_mean': 0,\n",
      "                       'profit_median': 0,\n",
      "                       'profit_total': 0.0,\n",
      "                       'profit_total_long': 0.0,\n",
      "                       'profit_total_short': 0.0,\n",
      "                       'profit_total_abs': 0,\n",
      "                       'profit_total_long_abs': 0,\n",
      "                       'profit_total_short_abs': 0,\n",
      "                       'cagr': 0.0,\n",
      "                       'expectancy': 0,\n",
      "                       'expectancy_ratio': 100,\n",
      "                       'sortino': 0,\n",
      "                       'sharpe': 0,\n",
      "                       'calmar': 0,\n",
      "                       'profit_factor': 0.0,\n",
      "                       'backtest_start': '2023-01-01 03:20:00',\n",
      "                       'backtest_start_ts': 1672543200000,\n",
      "                       'backtest_end': '2024-01-01 00:00:00',\n",
      "                       'backtest_end_ts': 1704067200000,\n",
      "                       'backtest_days': 364,\n",
      "                       'backtest_run_start_ts': 1727313814,\n",
      "                       'backtest_run_end_ts': 1727313823,\n",
      "                       'trades_per_day': 0.0,\n",
      "                       'market_change': 1.2326447809853431,\n",
      "                       'pairlist': ['BTC/USDT', 'ETH/USDT'],\n",
      "                       'stake_amount': 'unlimited',\n",
      "                       'stake_currency': 'USDT',\n",
      "                       'stake_currency_decimals': 3,\n",
      "                       'starting_balance': 1000,\n",
      "                       'dry_run_wallet': 1000,\n",
      "                       'final_balance': 1000.0,\n",
      "                       'rejected_signals': 0,\n",
      "                       'timedout_entry_orders': 0,\n",
      "                       'timedout_exit_orders': 0,\n",
      "                       'canceled_trade_entries': 0,\n",
      "                       'canceled_entry_orders': 0,\n",
      "                       'replaced_entry_orders': 0,\n",
      "                       'max_open_trades': 2,\n",
      "                       'max_open_trades_setting': 3,\n",
      "                       'timeframe': '1m',\n",
      "                       'timeframe_detail': '',\n",
      "                       'timerange': '20230101-20240101',\n",
      "                       'enable_protections': True,\n",
      "                       'strategy_name': 'OrderFlowAnalysis',\n",
      "                       'stoploss': -0.1,\n",
      "                       'trailing_stop': False,\n",
      "                       'trailing_stop_positive': None,\n",
      "                       'trailing_stop_positive_offset': 0.0,\n",
      "                       'trailing_only_offset_is_reached': False,\n",
      "                       'use_custom_stoploss': False,\n",
      "                       'minimal_roi': {'60': 0.01, '30': 0.02, '0': 0.04},\n",
      "                       'use_exit_signal': True,\n",
      "                       'exit_profit_only': False,\n",
      "                       'exit_profit_offset': 0.0,\n",
      "                       'ignore_roi_if_entry_signal': False,\n",
      "                       'trading_mode': 'spot',\n",
      "                       'margin_mode': '',\n",
      "                       'periodic_breakdown': {'day': [],\n",
      "                                              'week': [],\n",
      "                                              'month': []},\n",
      "                       'backtest_best_day': 0,\n",
      "                       'backtest_worst_day': 0,\n",
      "                       'backtest_best_day_abs': 0,\n",
      "                       'backtest_worst_day_abs': 0,\n",
      "                       'winning_days': 0,\n",
      "                       'draw_days': 0,\n",
      "                       'losing_days': 0,\n",
      "                       'daily_profit_list': [],\n",
      "                       'wins': 0,\n",
      "                       'losses': 0,\n",
      "                       'draws': 0,\n",
      "                       'winrate': 0,\n",
      "                       'holding_avg': '0:00:00',\n",
      "                       'winner_holding_avg': '0:00:00',\n",
      "                       'loser_holding_avg': '0:00:00',\n",
      "                       'max_consecutive_wins': 0,\n",
      "                       'max_consecutive_losses': 0,\n",
      "                       'max_drawdown_account': 0.0,\n",
      "                       'max_relative_drawdown': 0.0,\n",
      "                       'max_drawdown_abs': 0.0,\n",
      "                       'max_drawdown_low': 0.0,\n",
      "                       'max_drawdown_high': 0.0,\n",
      "                       'drawdown_start': '1970-01-01 00:00:00+00:00',\n",
      "                       'drawdown_start_ts': 0,\n",
      "                       'drawdown_end': '1970-01-01 00:00:00+00:00',\n",
      "                       'drawdown_end_ts': 0,\n",
      "                       'csum_min': 0,\n",
      "                       'csum_max': 0}}\n"
     ]
    }
   ],
   "source": [
    "from pprint import pp\n",
    "\n",
    "stats = load_backtest_stats(BACKTEST_RESULTS_DIR)\n",
    "\n",
    "pp(stats.get('strategy'))"
   ]
  },
  {
   "cell_type": "markdown",
   "metadata": {},
   "source": [
    "### 1. Overall Performance"
   ]
  },
  {
   "cell_type": "code",
   "execution_count": 7,
   "metadata": {},
   "outputs": [
    {
     "data": {
      "text/plain": [
       "dict_keys(['trades', 'locks', 'best_pair', 'worst_pair', 'results_per_pair', 'results_per_enter_tag', 'exit_reason_summary', 'mix_tag_stats', 'left_open_trades', 'total_trades', 'trade_count_long', 'trade_count_short', 'total_volume', 'avg_stake_amount', 'profit_mean', 'profit_median', 'profit_total', 'profit_total_long', 'profit_total_short', 'profit_total_abs', 'profit_total_long_abs', 'profit_total_short_abs', 'cagr', 'expectancy', 'expectancy_ratio', 'sortino', 'sharpe', 'calmar', 'profit_factor', 'backtest_start', 'backtest_start_ts', 'backtest_end', 'backtest_end_ts', 'backtest_days', 'backtest_run_start_ts', 'backtest_run_end_ts', 'trades_per_day', 'market_change', 'pairlist', 'stake_amount', 'stake_currency', 'stake_currency_decimals', 'starting_balance', 'dry_run_wallet', 'final_balance', 'rejected_signals', 'timedout_entry_orders', 'timedout_exit_orders', 'canceled_trade_entries', 'canceled_entry_orders', 'replaced_entry_orders', 'max_open_trades', 'max_open_trades_setting', 'timeframe', 'timeframe_detail', 'timerange', 'enable_protections', 'strategy_name', 'stoploss', 'trailing_stop', 'trailing_stop_positive', 'trailing_stop_positive_offset', 'trailing_only_offset_is_reached', 'use_custom_stoploss', 'minimal_roi', 'use_exit_signal', 'exit_profit_only', 'exit_profit_offset', 'ignore_roi_if_entry_signal', 'trading_mode', 'margin_mode', 'periodic_breakdown', 'backtest_best_day', 'backtest_worst_day', 'backtest_best_day_abs', 'backtest_worst_day_abs', 'winning_days', 'draw_days', 'losing_days', 'daily_profit_list', 'wins', 'losses', 'draws', 'winrate', 'holding_avg', 'winner_holding_avg', 'loser_holding_avg', 'max_consecutive_wins', 'max_consecutive_losses', 'max_drawdown_account', 'max_relative_drawdown', 'max_drawdown_abs', 'max_drawdown_low', 'max_drawdown_high', 'drawdown_start', 'drawdown_start_ts', 'drawdown_end', 'drawdown_end_ts', 'csum_min', 'csum_max', 'profit_total_pct'])"
      ]
     },
     "execution_count": 7,
     "metadata": {},
     "output_type": "execute_result"
    }
   ],
   "source": [
    "stats['strategy'][strategy].keys()"
   ]
  },
  {
   "cell_type": "code",
   "execution_count": 8,
   "metadata": {},
   "outputs": [
    {
     "name": "stdout",
     "output_type": "stream",
     "text": [
      "Summary of Backtest Results:\n",
      "Strategy Name: OrderFlowAnalysis\n",
      "Timeframe: 1m\n",
      "Timerange: 20230101-20240101\n",
      "Starting Balance: 1000 USDT\n",
      "Final Balance: 1000.00 USDT\n",
      "Total Profit: 0.00 USDT (0.00%)\n",
      "Total Trades: 0\n",
      "Win Rate: 0.00%\n",
      "Profit Factor: 0.00\n",
      "Sharpe Ratio: 0.00\n",
      "Sortino Ratio: 0.00\n",
      "CAGR: 0.00%\n",
      "Max Drawdown: 0.00%\n",
      "Drawdown Start: 1970-01-01 00:00:00+00:00\n",
      "Drawdown End: 1970-01-01 00:00:00+00:00\n",
      "Market Change: 1.23%\n",
      "Trades per Day: 0.00\n",
      "Avg. Stake Amount: 0.00 USDT\n",
      "Avg. Trade Duration: 0:00:00\n"
     ]
    }
   ],
   "source": [
    "# Recalculate stats summary using the loaded stats\n",
    "strategy = list(stats['strategy'].keys())[0]  # Assuming single strategy\n",
    "summary_stats = stats['strategy'][strategy]\n",
    "\n",
    "print(\"Summary of Backtest Results:\")\n",
    "print(f\"Strategy Name: {summary_stats['strategy_name']}\")\n",
    "print(f\"Timeframe: {summary_stats['timeframe']}\")\n",
    "print(f\"Timerange: {summary_stats['timerange']}\")\n",
    "print(f\"Starting Balance: {summary_stats['starting_balance']} {summary_stats['stake_currency']}\")\n",
    "print(f\"Final Balance: {summary_stats['final_balance']:.2f} {summary_stats['stake_currency']}\")\n",
    "print(f\"Total Profit: {summary_stats['profit_total_abs']:.2f} {summary_stats['stake_currency']} ({summary_stats['profit_total']:.2f}%)\")\n",
    "print(f\"Total Trades: {summary_stats['total_trades']}\")\n",
    "print(f\"Win Rate: {summary_stats['winrate']:.2f}%\")\n",
    "print(f\"Profit Factor: {summary_stats['profit_factor']:.2f}\")\n",
    "print(f\"Sharpe Ratio: {summary_stats['sharpe']:.2f}\")\n",
    "print(f\"Sortino Ratio: {summary_stats['sortino']:.2f}\")\n",
    "print(f\"CAGR: {summary_stats['cagr']:.2f}%\")\n",
    "print(f\"Max Drawdown: {summary_stats['max_drawdown_account']:.2f}%\")\n",
    "print(f\"Drawdown Start: {summary_stats['drawdown_start']}\")\n",
    "print(f\"Drawdown End: {summary_stats['drawdown_end']}\")\n",
    "print(f\"Market Change: {summary_stats['market_change']:.2f}%\")\n",
    "print(f\"Trades per Day: {summary_stats['trades_per_day']:.2f}\")\n",
    "print(f\"Avg. Stake Amount: {summary_stats['avg_stake_amount']:.2f} {summary_stats['stake_currency']}\")\n",
    "print(f\"Avg. Trade Duration: {summary_stats['holding_avg']}\")"
   ]
  },
  {
   "cell_type": "markdown",
   "metadata": {},
   "source": [
    "### 2. Performance by pair"
   ]
  },
  {
   "cell_type": "code",
   "execution_count": 9,
   "metadata": {},
   "outputs": [
    {
     "ename": "KeyError",
     "evalue": "'pair'",
     "output_type": "error",
     "traceback": [
      "\u001b[1;31m---------------------------------------------------------------------------\u001b[0m",
      "\u001b[1;31mKeyError\u001b[0m                                  Traceback (most recent call last)",
      "Cell \u001b[1;32mIn[9], line 1\u001b[0m\n\u001b[1;32m----> 1\u001b[0m pair_performance \u001b[38;5;241m=\u001b[39m \u001b[43mtrades\u001b[49m\u001b[38;5;241;43m.\u001b[39;49m\u001b[43mgroupby\u001b[49m\u001b[43m(\u001b[49m\u001b[38;5;124;43m'\u001b[39;49m\u001b[38;5;124;43mpair\u001b[39;49m\u001b[38;5;124;43m'\u001b[39;49m\u001b[43m)\u001b[49m\u001b[38;5;241m.\u001b[39magg({\n\u001b[0;32m      2\u001b[0m     \u001b[38;5;124m'\u001b[39m\u001b[38;5;124mprofit_ratio\u001b[39m\u001b[38;5;124m'\u001b[39m: [\u001b[38;5;124m'\u001b[39m\u001b[38;5;124mmean\u001b[39m\u001b[38;5;124m'\u001b[39m, \u001b[38;5;124m'\u001b[39m\u001b[38;5;124msum\u001b[39m\u001b[38;5;124m'\u001b[39m, \u001b[38;5;124m'\u001b[39m\u001b[38;5;124mcount\u001b[39m\u001b[38;5;124m'\u001b[39m],\n\u001b[0;32m      3\u001b[0m     \u001b[38;5;124m'\u001b[39m\u001b[38;5;124mprofit_abs\u001b[39m\u001b[38;5;124m'\u001b[39m: \u001b[38;5;124m'\u001b[39m\u001b[38;5;124msum\u001b[39m\u001b[38;5;124m'\u001b[39m\n\u001b[0;32m      4\u001b[0m })\u001b[38;5;241m.\u001b[39mreset_index()\n\u001b[0;32m      5\u001b[0m pair_performance\u001b[38;5;241m.\u001b[39mcolumns \u001b[38;5;241m=\u001b[39m [\u001b[38;5;124m'\u001b[39m\u001b[38;5;124mpair\u001b[39m\u001b[38;5;124m'\u001b[39m, \u001b[38;5;124m'\u001b[39m\u001b[38;5;124mavg_profit_ratio\u001b[39m\u001b[38;5;124m'\u001b[39m, \u001b[38;5;124m'\u001b[39m\u001b[38;5;124mtotal_profit_ratio\u001b[39m\u001b[38;5;124m'\u001b[39m, \u001b[38;5;124m'\u001b[39m\u001b[38;5;124mtrade_count\u001b[39m\u001b[38;5;124m'\u001b[39m, \u001b[38;5;124m'\u001b[39m\u001b[38;5;124mtotal_profit_abs\u001b[39m\u001b[38;5;124m'\u001b[39m]\n\u001b[0;32m      6\u001b[0m pair_performance \u001b[38;5;241m=\u001b[39m pair_performance\u001b[38;5;241m.\u001b[39msort_values(\u001b[38;5;124m'\u001b[39m\u001b[38;5;124mtotal_profit_abs\u001b[39m\u001b[38;5;124m'\u001b[39m, ascending\u001b[38;5;241m=\u001b[39m\u001b[38;5;28;01mFalse\u001b[39;00m)\n",
      "File \u001b[1;32mc:\\Users\\j10st\\AppData\\Local\\Programs\\Python\\Python311\\Lib\\site-packages\\pandas\\core\\frame.py:9183\u001b[0m, in \u001b[0;36mDataFrame.groupby\u001b[1;34m(self, by, axis, level, as_index, sort, group_keys, observed, dropna)\u001b[0m\n\u001b[0;32m   9180\u001b[0m \u001b[38;5;28;01mif\u001b[39;00m level \u001b[38;5;129;01mis\u001b[39;00m \u001b[38;5;28;01mNone\u001b[39;00m \u001b[38;5;129;01mand\u001b[39;00m by \u001b[38;5;129;01mis\u001b[39;00m \u001b[38;5;28;01mNone\u001b[39;00m:\n\u001b[0;32m   9181\u001b[0m     \u001b[38;5;28;01mraise\u001b[39;00m \u001b[38;5;167;01mTypeError\u001b[39;00m(\u001b[38;5;124m\"\u001b[39m\u001b[38;5;124mYou have to supply one of \u001b[39m\u001b[38;5;124m'\u001b[39m\u001b[38;5;124mby\u001b[39m\u001b[38;5;124m'\u001b[39m\u001b[38;5;124m and \u001b[39m\u001b[38;5;124m'\u001b[39m\u001b[38;5;124mlevel\u001b[39m\u001b[38;5;124m'\u001b[39m\u001b[38;5;124m\"\u001b[39m)\n\u001b[1;32m-> 9183\u001b[0m \u001b[38;5;28;01mreturn\u001b[39;00m \u001b[43mDataFrameGroupBy\u001b[49m\u001b[43m(\u001b[49m\n\u001b[0;32m   9184\u001b[0m \u001b[43m    \u001b[49m\u001b[43mobj\u001b[49m\u001b[38;5;241;43m=\u001b[39;49m\u001b[38;5;28;43mself\u001b[39;49m\u001b[43m,\u001b[49m\n\u001b[0;32m   9185\u001b[0m \u001b[43m    \u001b[49m\u001b[43mkeys\u001b[49m\u001b[38;5;241;43m=\u001b[39;49m\u001b[43mby\u001b[49m\u001b[43m,\u001b[49m\n\u001b[0;32m   9186\u001b[0m \u001b[43m    \u001b[49m\u001b[43maxis\u001b[49m\u001b[38;5;241;43m=\u001b[39;49m\u001b[43maxis\u001b[49m\u001b[43m,\u001b[49m\n\u001b[0;32m   9187\u001b[0m \u001b[43m    \u001b[49m\u001b[43mlevel\u001b[49m\u001b[38;5;241;43m=\u001b[39;49m\u001b[43mlevel\u001b[49m\u001b[43m,\u001b[49m\n\u001b[0;32m   9188\u001b[0m \u001b[43m    \u001b[49m\u001b[43mas_index\u001b[49m\u001b[38;5;241;43m=\u001b[39;49m\u001b[43mas_index\u001b[49m\u001b[43m,\u001b[49m\n\u001b[0;32m   9189\u001b[0m \u001b[43m    \u001b[49m\u001b[43msort\u001b[49m\u001b[38;5;241;43m=\u001b[39;49m\u001b[43msort\u001b[49m\u001b[43m,\u001b[49m\n\u001b[0;32m   9190\u001b[0m \u001b[43m    \u001b[49m\u001b[43mgroup_keys\u001b[49m\u001b[38;5;241;43m=\u001b[39;49m\u001b[43mgroup_keys\u001b[49m\u001b[43m,\u001b[49m\n\u001b[0;32m   9191\u001b[0m \u001b[43m    \u001b[49m\u001b[43mobserved\u001b[49m\u001b[38;5;241;43m=\u001b[39;49m\u001b[43mobserved\u001b[49m\u001b[43m,\u001b[49m\n\u001b[0;32m   9192\u001b[0m \u001b[43m    \u001b[49m\u001b[43mdropna\u001b[49m\u001b[38;5;241;43m=\u001b[39;49m\u001b[43mdropna\u001b[49m\u001b[43m,\u001b[49m\n\u001b[0;32m   9193\u001b[0m \u001b[43m\u001b[49m\u001b[43m)\u001b[49m\n",
      "File \u001b[1;32mc:\\Users\\j10st\\AppData\\Local\\Programs\\Python\\Python311\\Lib\\site-packages\\pandas\\core\\groupby\\groupby.py:1329\u001b[0m, in \u001b[0;36mGroupBy.__init__\u001b[1;34m(self, obj, keys, axis, level, grouper, exclusions, selection, as_index, sort, group_keys, observed, dropna)\u001b[0m\n\u001b[0;32m   1326\u001b[0m \u001b[38;5;28mself\u001b[39m\u001b[38;5;241m.\u001b[39mdropna \u001b[38;5;241m=\u001b[39m dropna\n\u001b[0;32m   1328\u001b[0m \u001b[38;5;28;01mif\u001b[39;00m grouper \u001b[38;5;129;01mis\u001b[39;00m \u001b[38;5;28;01mNone\u001b[39;00m:\n\u001b[1;32m-> 1329\u001b[0m     grouper, exclusions, obj \u001b[38;5;241m=\u001b[39m \u001b[43mget_grouper\u001b[49m\u001b[43m(\u001b[49m\n\u001b[0;32m   1330\u001b[0m \u001b[43m        \u001b[49m\u001b[43mobj\u001b[49m\u001b[43m,\u001b[49m\n\u001b[0;32m   1331\u001b[0m \u001b[43m        \u001b[49m\u001b[43mkeys\u001b[49m\u001b[43m,\u001b[49m\n\u001b[0;32m   1332\u001b[0m \u001b[43m        \u001b[49m\u001b[43maxis\u001b[49m\u001b[38;5;241;43m=\u001b[39;49m\u001b[43maxis\u001b[49m\u001b[43m,\u001b[49m\n\u001b[0;32m   1333\u001b[0m \u001b[43m        \u001b[49m\u001b[43mlevel\u001b[49m\u001b[38;5;241;43m=\u001b[39;49m\u001b[43mlevel\u001b[49m\u001b[43m,\u001b[49m\n\u001b[0;32m   1334\u001b[0m \u001b[43m        \u001b[49m\u001b[43msort\u001b[49m\u001b[38;5;241;43m=\u001b[39;49m\u001b[43msort\u001b[49m\u001b[43m,\u001b[49m\n\u001b[0;32m   1335\u001b[0m \u001b[43m        \u001b[49m\u001b[43mobserved\u001b[49m\u001b[38;5;241;43m=\u001b[39;49m\u001b[38;5;28;43;01mFalse\u001b[39;49;00m\u001b[43m \u001b[49m\u001b[38;5;28;43;01mif\u001b[39;49;00m\u001b[43m \u001b[49m\u001b[43mobserved\u001b[49m\u001b[43m \u001b[49m\u001b[38;5;129;43;01mis\u001b[39;49;00m\u001b[43m \u001b[49m\u001b[43mlib\u001b[49m\u001b[38;5;241;43m.\u001b[39;49m\u001b[43mno_default\u001b[49m\u001b[43m \u001b[49m\u001b[38;5;28;43;01melse\u001b[39;49;00m\u001b[43m \u001b[49m\u001b[43mobserved\u001b[49m\u001b[43m,\u001b[49m\n\u001b[0;32m   1336\u001b[0m \u001b[43m        \u001b[49m\u001b[43mdropna\u001b[49m\u001b[38;5;241;43m=\u001b[39;49m\u001b[38;5;28;43mself\u001b[39;49m\u001b[38;5;241;43m.\u001b[39;49m\u001b[43mdropna\u001b[49m\u001b[43m,\u001b[49m\n\u001b[0;32m   1337\u001b[0m \u001b[43m    \u001b[49m\u001b[43m)\u001b[49m\n\u001b[0;32m   1339\u001b[0m \u001b[38;5;28;01mif\u001b[39;00m observed \u001b[38;5;129;01mis\u001b[39;00m lib\u001b[38;5;241m.\u001b[39mno_default:\n\u001b[0;32m   1340\u001b[0m     \u001b[38;5;28;01mif\u001b[39;00m \u001b[38;5;28many\u001b[39m(ping\u001b[38;5;241m.\u001b[39m_passed_categorical \u001b[38;5;28;01mfor\u001b[39;00m ping \u001b[38;5;129;01min\u001b[39;00m grouper\u001b[38;5;241m.\u001b[39mgroupings):\n",
      "File \u001b[1;32mc:\\Users\\j10st\\AppData\\Local\\Programs\\Python\\Python311\\Lib\\site-packages\\pandas\\core\\groupby\\grouper.py:1043\u001b[0m, in \u001b[0;36mget_grouper\u001b[1;34m(obj, key, axis, level, sort, observed, validate, dropna)\u001b[0m\n\u001b[0;32m   1041\u001b[0m         in_axis, level, gpr \u001b[38;5;241m=\u001b[39m \u001b[38;5;28;01mFalse\u001b[39;00m, gpr, \u001b[38;5;28;01mNone\u001b[39;00m\n\u001b[0;32m   1042\u001b[0m     \u001b[38;5;28;01melse\u001b[39;00m:\n\u001b[1;32m-> 1043\u001b[0m         \u001b[38;5;28;01mraise\u001b[39;00m \u001b[38;5;167;01mKeyError\u001b[39;00m(gpr)\n\u001b[0;32m   1044\u001b[0m \u001b[38;5;28;01melif\u001b[39;00m \u001b[38;5;28misinstance\u001b[39m(gpr, Grouper) \u001b[38;5;129;01mand\u001b[39;00m gpr\u001b[38;5;241m.\u001b[39mkey \u001b[38;5;129;01mis\u001b[39;00m \u001b[38;5;129;01mnot\u001b[39;00m \u001b[38;5;28;01mNone\u001b[39;00m:\n\u001b[0;32m   1045\u001b[0m     \u001b[38;5;66;03m# Add key to exclusions\u001b[39;00m\n\u001b[0;32m   1046\u001b[0m     exclusions\u001b[38;5;241m.\u001b[39madd(gpr\u001b[38;5;241m.\u001b[39mkey)\n",
      "\u001b[1;31mKeyError\u001b[0m: 'pair'"
     ]
    }
   ],
   "source": [
    "pair_performance = trades.groupby('pair').agg({\n",
    "    'profit_ratio': ['mean', 'sum', 'count'],\n",
    "    'profit_abs': 'sum'\n",
    "}).reset_index()\n",
    "pair_performance.columns = ['pair', 'avg_profit_ratio', 'total_profit_ratio', 'trade_count', 'total_profit_abs']\n",
    "pair_performance = pair_performance.sort_values('total_profit_abs', ascending=False)\n",
    "\n",
    "fig = px.bar(pair_performance, x='pair', y='total_profit_abs', \n",
    "             title='Total Profit by Pair',\n",
    "             labels={'total_profit_abs': 'Total Profit', 'pair': 'Trading Pair'})\n",
    "fig.show()"
   ]
  },
  {
   "cell_type": "markdown",
   "metadata": {},
   "source": [
    "### 3. Profit distribution"
   ]
  },
  {
   "cell_type": "code",
   "execution_count": null,
   "metadata": {},
   "outputs": [],
   "source": [
    "fig = px.histogram(trades, x='profit_ratio', nbins=50,\n",
    "                   title='Profit Ratio Distribution',\n",
    "                   labels={'profit_ratio': 'Profit Ratio', 'count': 'Number of Trades'})\n",
    "fig.show()"
   ]
  },
  {
   "cell_type": "markdown",
   "metadata": {},
   "source": [
    "### 4. Cumulative returns over time"
   ]
  },
  {
   "cell_type": "code",
   "execution_count": null,
   "metadata": {},
   "outputs": [],
   "source": [
    "\n",
    "trades_sorted = trades.sort_values('open_date')\n",
    "trades_sorted['cumulative_profit'] = trades_sorted['profit_abs'].cumsum()\n",
    "\n",
    "fig = px.line(trades_sorted, x='open_date', y='cumulative_profit',\n",
    "              title='Cumulative Profit Over Time',\n",
    "              labels={'cumulative_profit': 'Cumulative Profit', 'open_date': 'Date'})\n",
    "fig.show()"
   ]
  },
  {
   "cell_type": "markdown",
   "metadata": {},
   "source": [
    "### 5. Monthly returns"
   ]
  },
  {
   "cell_type": "code",
   "execution_count": null,
   "metadata": {},
   "outputs": [],
   "source": [
    "trades['month'] = trades['open_date'].dt.to_period('M')\n",
    "monthly_returns = trades.groupby('month')['profit_ratio'].sum().reset_index()\n",
    "monthly_returns['month'] = monthly_returns['month'].astype(str)\n",
    "\n",
    "fig = px.bar(monthly_returns, x='month', y='profit_ratio',\n",
    "             title='Monthly Returns',\n",
    "             labels={'profit_ratio': 'Profit Ratio', 'month': 'Month'})\n",
    "fig.show()"
   ]
  },
  {
   "cell_type": "markdown",
   "metadata": {},
   "source": [
    "### 6. Win rate over time"
   ]
  },
  {
   "cell_type": "code",
   "execution_count": null,
   "metadata": {},
   "outputs": [],
   "source": [
    "\n",
    "trades_sorted['win'] = trades_sorted['profit_abs'] > 0\n",
    "trades_sorted['cumulative_wins'] = trades_sorted['win'].cumsum()\n",
    "trades_sorted['cumulative_trades'] = range(1, len(trades_sorted) + 1)\n",
    "trades_sorted['win_rate'] = trades_sorted['cumulative_wins'] / trades_sorted['cumulative_trades']\n",
    "\n",
    "fig = px.line(trades_sorted, x='open_date', y='win_rate',\n",
    "              title='Win Rate Over Time',\n",
    "              labels={'win_rate': 'Win Rate', 'open_date': 'Date'})\n",
    "fig.show()"
   ]
  },
  {
   "cell_type": "markdown",
   "metadata": {},
   "source": [
    "### 7. Average trade duration"
   ]
  },
  {
   "cell_type": "code",
   "execution_count": null,
   "metadata": {},
   "outputs": [],
   "source": [
    "\n",
    "trades['duration'] = trades['close_date'] - trades['open_date']\n",
    "avg_duration = trades['duration'].mean()\n",
    "print(f\"Average trade duration: {avg_duration}\")\n",
    "\n",
    "fig = px.histogram(trades, x='duration', nbins=50,\n",
    "                   title='Trade Duration Distribution',\n",
    "                   labels={'duration': 'Duration', 'count': 'Number of Trades'})\n",
    "fig.show()"
   ]
  },
  {
   "cell_type": "markdown",
   "metadata": {},
   "source": [
    "### 8. Correlation between profit and duration"
   ]
  },
  {
   "cell_type": "code",
   "execution_count": null,
   "metadata": {},
   "outputs": [],
   "source": [
    "fig = px.scatter(trades, x='duration', y='profit_ratio',\n",
    "                 title='Profit vs Duration',\n",
    "                 labels={'duration': 'Duration', 'profit_ratio': 'Profit Ratio'})\n",
    "fig.show()"
   ]
  }
 ],
 "metadata": {
  "kernelspec": {
   "display_name": "Python 3",
   "language": "python",
   "name": "python3"
  },
  "language_info": {
   "codemirror_mode": {
    "name": "ipython",
    "version": 3
   },
   "file_extension": ".py",
   "mimetype": "text/x-python",
   "name": "python",
   "nbconvert_exporter": "python",
   "pygments_lexer": "ipython3",
   "version": "3.11.9"
  }
 },
 "nbformat": 4,
 "nbformat_minor": 2
}
