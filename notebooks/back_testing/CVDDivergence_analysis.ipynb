{
    "cells": [
        {
            "cell_type": "markdown",
            "metadata": {},
            "source": [
                "# CVDDivergence Strategy Analysis\n",
                "\n",
                "This notebook provides an in-depth analysis of the CVDDivergence strategy, including its logic, indicators, and backtest results."
            ]
        },
        {
            "cell_type": "markdown",
            "metadata": {},
            "source": [
                "## Setup\n",
                "\n",
                "### Change Working directory to repository root"
            ]
        },
        {
            "cell_type": "code",
            "execution_count": 1,
            "metadata": {},
            "outputs": [],
            "source": [
                "from constants import set_cwd_to_project_root, CONFIG_DIR\n",
                "from main import generate_config\n",
                "\n",
                "generate_config(\"binance\")\n",
                "\n",
                "set_cwd_to_project_root()"
            ]
        },
        {
            "cell_type": "markdown",
            "metadata": {},
            "source": [
                "### Configure Freqtrade environment"
            ]
        },
        {
            "cell_type": "code",
            "execution_count": 2,
            "metadata": {},
            "outputs": [],
            "source": [
                "from freqtrade.configuration import Configuration\n",
                "\n",
                "\n",
                "config = Configuration.from_files([CONFIG_DIR])\n",
                "\n",
                "config.update(\n",
                "    {\n",
                "        \"timeframe\": \"5m\",\n",
                "        \"strategy\": \"CVDDivergence\"\n",
                "    }\n",
                ")\n",
                "\n",
                "# Pair to analyze - Only use one pair here\n",
                "PAIR = \"BTC/USDT:USDT\""
            ]
        },
        {
            "cell_type": "code",
            "execution_count": 3,
            "metadata": {},
            "outputs": [
                {
                    "name": "stdout",
                    "output_type": "stream",
                    "text": [
                        "Loaded 77949 rows of data for BTC/USDT:USDT from F:\\quantative-analysis\\data\n"
                    ]
                },
                {
                    "data": {
                        "text/html": [
                            "<div>\n",
                            "<style scoped>\n",
                            "    .dataframe tbody tr th:only-of-type {\n",
                            "        vertical-align: middle;\n",
                            "    }\n",
                            "\n",
                            "    .dataframe tbody tr th {\n",
                            "        vertical-align: top;\n",
                            "    }\n",
                            "\n",
                            "    .dataframe thead th {\n",
                            "        text-align: right;\n",
                            "    }\n",
                            "</style>\n",
                            "<table border=\"1\" class=\"dataframe\">\n",
                            "  <thead>\n",
                            "    <tr style=\"text-align: right;\">\n",
                            "      <th></th>\n",
                            "      <th>date</th>\n",
                            "      <th>open</th>\n",
                            "      <th>high</th>\n",
                            "      <th>low</th>\n",
                            "      <th>close</th>\n",
                            "      <th>volume</th>\n",
                            "    </tr>\n",
                            "  </thead>\n",
                            "  <tbody>\n",
                            "    <tr>\n",
                            "      <th>0</th>\n",
                            "      <td>2024-01-01 00:00:00+00:00</td>\n",
                            "      <td>42314.0</td>\n",
                            "      <td>42437.2</td>\n",
                            "      <td>42289.6</td>\n",
                            "      <td>42437.1</td>\n",
                            "      <td>1724.210</td>\n",
                            "    </tr>\n",
                            "    <tr>\n",
                            "      <th>1</th>\n",
                            "      <td>2024-01-01 00:05:00+00:00</td>\n",
                            "      <td>42437.2</td>\n",
                            "      <td>42474.1</td>\n",
                            "      <td>42420.5</td>\n",
                            "      <td>42446.8</td>\n",
                            "      <td>994.003</td>\n",
                            "    </tr>\n",
                            "    <tr>\n",
                            "      <th>2</th>\n",
                            "      <td>2024-01-01 00:10:00+00:00</td>\n",
                            "      <td>42446.8</td>\n",
                            "      <td>42535.0</td>\n",
                            "      <td>42445.2</td>\n",
                            "      <td>42532.5</td>\n",
                            "      <td>899.775</td>\n",
                            "    </tr>\n",
                            "    <tr>\n",
                            "      <th>3</th>\n",
                            "      <td>2024-01-01 00:15:00+00:00</td>\n",
                            "      <td>42532.4</td>\n",
                            "      <td>42603.2</td>\n",
                            "      <td>42494.1</td>\n",
                            "      <td>42494.1</td>\n",
                            "      <td>1291.232</td>\n",
                            "    </tr>\n",
                            "    <tr>\n",
                            "      <th>4</th>\n",
                            "      <td>2024-01-01 00:20:00+00:00</td>\n",
                            "      <td>42494.1</td>\n",
                            "      <td>42533.1</td>\n",
                            "      <td>42484.4</td>\n",
                            "      <td>42509.4</td>\n",
                            "      <td>418.463</td>\n",
                            "    </tr>\n",
                            "  </tbody>\n",
                            "</table>\n",
                            "</div>"
                        ],
                        "text/plain": [
                            "                       date     open     high      low    close    volume\n",
                            "0 2024-01-01 00:00:00+00:00  42314.0  42437.2  42289.6  42437.1  1724.210\n",
                            "1 2024-01-01 00:05:00+00:00  42437.2  42474.1  42420.5  42446.8   994.003\n",
                            "2 2024-01-01 00:10:00+00:00  42446.8  42535.0  42445.2  42532.5   899.775\n",
                            "3 2024-01-01 00:15:00+00:00  42532.4  42603.2  42494.1  42494.1  1291.232\n",
                            "4 2024-01-01 00:20:00+00:00  42494.1  42533.1  42484.4  42509.4   418.463"
                        ]
                    },
                    "execution_count": 3,
                    "metadata": {},
                    "output_type": "execute_result"
                }
            ],
            "source": [
                "# Load data using values set above\n",
                "from freqtrade.data.history import load_pair_history\n",
                "from freqtrade.enums import CandleType\n",
                "from constants import DATA_DIR\n",
                "\n",
                "candles = load_pair_history(\n",
                "    datadir=DATA_DIR / \"binance\",\n",
                "    timeframe=config[\"timeframe\"],\n",
                "    pair=PAIR,\n",
                "    data_format=\"feather\",\n",
                "    candle_type=CandleType.FUTURES,\n",
                ")\n",
                "\n",
                "# Confirm success\n",
                "print(f\"Loaded {len(candles)} rows of data for {PAIR} from {DATA_DIR}\")\n",
                "candles.head()"
            ]
        },
        {
            "cell_type": "markdown",
            "metadata": {},
            "source": [
                "## Load and run strategy"
            ]
        },
        {
            "cell_type": "code",
            "execution_count": 4,
            "metadata": {},
            "outputs": [
                {
                    "data": {
                        "text/html": [
                            "<div>\n",
                            "<style scoped>\n",
                            "    .dataframe tbody tr th:only-of-type {\n",
                            "        vertical-align: middle;\n",
                            "    }\n",
                            "\n",
                            "    .dataframe tbody tr th {\n",
                            "        vertical-align: top;\n",
                            "    }\n",
                            "\n",
                            "    .dataframe thead th {\n",
                            "        text-align: right;\n",
                            "    }\n",
                            "</style>\n",
                            "<table border=\"1\" class=\"dataframe\">\n",
                            "  <thead>\n",
                            "    <tr style=\"text-align: right;\">\n",
                            "      <th></th>\n",
                            "      <th>date</th>\n",
                            "      <th>open</th>\n",
                            "      <th>high</th>\n",
                            "      <th>low</th>\n",
                            "      <th>close</th>\n",
                            "      <th>volume</th>\n",
                            "      <th>trades</th>\n",
                            "      <th>orderflow</th>\n",
                            "      <th>imbalances</th>\n",
                            "      <th>stacked_imbalances_bid</th>\n",
                            "      <th>...</th>\n",
                            "      <th>bear_poc_upper</th>\n",
                            "      <th>atr</th>\n",
                            "      <th>enter_tag</th>\n",
                            "      <th>enter_long</th>\n",
                            "      <th>enter_short</th>\n",
                            "      <th>atr_stoploss_long</th>\n",
                            "      <th>atr_stoploss_short</th>\n",
                            "      <th>exit_tag</th>\n",
                            "      <th>exit_long</th>\n",
                            "      <th>exit_short</th>\n",
                            "    </tr>\n",
                            "  </thead>\n",
                            "  <tbody>\n",
                            "    <tr>\n",
                            "      <th>77944</th>\n",
                            "      <td>2024-09-27 15:20:00+00:00</td>\n",
                            "      <td>66342.0</td>\n",
                            "      <td>66388.8</td>\n",
                            "      <td>66270.0</td>\n",
                            "      <td>66302.3</td>\n",
                            "      <td>1052.536</td>\n",
                            "      <td>NaN</td>\n",
                            "      <td>NaN</td>\n",
                            "      <td>NaN</td>\n",
                            "      <td>NaN</td>\n",
                            "      <td>...</td>\n",
                            "      <td>65121.12</td>\n",
                            "      <td>159.052035</td>\n",
                            "      <td></td>\n",
                            "      <td>NaN</td>\n",
                            "      <td>NaN</td>\n",
                            "      <td>65984.195931</td>\n",
                            "      <td>66620.404069</td>\n",
                            "      <td>VWAP_Upper</td>\n",
                            "      <td>1.0</td>\n",
                            "      <td>1.0</td>\n",
                            "    </tr>\n",
                            "    <tr>\n",
                            "      <th>77945</th>\n",
                            "      <td>2024-09-27 15:25:00+00:00</td>\n",
                            "      <td>66302.3</td>\n",
                            "      <td>66330.0</td>\n",
                            "      <td>66222.3</td>\n",
                            "      <td>66303.1</td>\n",
                            "      <td>657.397</td>\n",
                            "      <td>NaN</td>\n",
                            "      <td>NaN</td>\n",
                            "      <td>NaN</td>\n",
                            "      <td>NaN</td>\n",
                            "      <td>...</td>\n",
                            "      <td>65121.12</td>\n",
                            "      <td>155.384032</td>\n",
                            "      <td></td>\n",
                            "      <td>NaN</td>\n",
                            "      <td>NaN</td>\n",
                            "      <td>65992.331936</td>\n",
                            "      <td>66613.868064</td>\n",
                            "      <td></td>\n",
                            "      <td>NaN</td>\n",
                            "      <td>NaN</td>\n",
                            "    </tr>\n",
                            "    <tr>\n",
                            "      <th>77946</th>\n",
                            "      <td>2024-09-27 15:30:00+00:00</td>\n",
                            "      <td>66303.2</td>\n",
                            "      <td>66322.0</td>\n",
                            "      <td>66231.0</td>\n",
                            "      <td>66258.5</td>\n",
                            "      <td>673.062</td>\n",
                            "      <td>NaN</td>\n",
                            "      <td>NaN</td>\n",
                            "      <td>NaN</td>\n",
                            "      <td>NaN</td>\n",
                            "      <td>...</td>\n",
                            "      <td>65121.12</td>\n",
                            "      <td>150.785173</td>\n",
                            "      <td></td>\n",
                            "      <td>NaN</td>\n",
                            "      <td>NaN</td>\n",
                            "      <td>65956.929655</td>\n",
                            "      <td>66560.070345</td>\n",
                            "      <td></td>\n",
                            "      <td>NaN</td>\n",
                            "      <td>NaN</td>\n",
                            "    </tr>\n",
                            "    <tr>\n",
                            "      <th>77947</th>\n",
                            "      <td>2024-09-27 15:35:00+00:00</td>\n",
                            "      <td>66258.6</td>\n",
                            "      <td>66276.0</td>\n",
                            "      <td>66183.4</td>\n",
                            "      <td>66200.0</td>\n",
                            "      <td>610.517</td>\n",
                            "      <td>NaN</td>\n",
                            "      <td>NaN</td>\n",
                            "      <td>NaN</td>\n",
                            "      <td>NaN</td>\n",
                            "      <td>...</td>\n",
                            "      <td>65121.12</td>\n",
                            "      <td>146.629089</td>\n",
                            "      <td></td>\n",
                            "      <td>NaN</td>\n",
                            "      <td>NaN</td>\n",
                            "      <td>65906.741822</td>\n",
                            "      <td>66493.258178</td>\n",
                            "      <td></td>\n",
                            "      <td>NaN</td>\n",
                            "      <td>NaN</td>\n",
                            "    </tr>\n",
                            "    <tr>\n",
                            "      <th>77948</th>\n",
                            "      <td>2024-09-27 15:40:00+00:00</td>\n",
                            "      <td>66200.0</td>\n",
                            "      <td>66289.0</td>\n",
                            "      <td>66158.4</td>\n",
                            "      <td>66170.2</td>\n",
                            "      <td>749.706</td>\n",
                            "      <td>NaN</td>\n",
                            "      <td>NaN</td>\n",
                            "      <td>NaN</td>\n",
                            "      <td>NaN</td>\n",
                            "      <td>...</td>\n",
                            "      <td>65121.12</td>\n",
                            "      <td>145.484154</td>\n",
                            "      <td></td>\n",
                            "      <td>NaN</td>\n",
                            "      <td>NaN</td>\n",
                            "      <td>65879.231692</td>\n",
                            "      <td>66461.168308</td>\n",
                            "      <td></td>\n",
                            "      <td>NaN</td>\n",
                            "      <td>NaN</td>\n",
                            "    </tr>\n",
                            "  </tbody>\n",
                            "</table>\n",
                            "<p>5 rows × 41 columns</p>\n",
                            "</div>"
                        ],
                        "text/plain": [
                            "                           date     open     high      low    close    volume  \\\n",
                            "77944 2024-09-27 15:20:00+00:00  66342.0  66388.8  66270.0  66302.3  1052.536   \n",
                            "77945 2024-09-27 15:25:00+00:00  66302.3  66330.0  66222.3  66303.1   657.397   \n",
                            "77946 2024-09-27 15:30:00+00:00  66303.2  66322.0  66231.0  66258.5   673.062   \n",
                            "77947 2024-09-27 15:35:00+00:00  66258.6  66276.0  66183.4  66200.0   610.517   \n",
                            "77948 2024-09-27 15:40:00+00:00  66200.0  66289.0  66158.4  66170.2   749.706   \n",
                            "\n",
                            "      trades orderflow imbalances stacked_imbalances_bid  ... bear_poc_upper  \\\n",
                            "77944    NaN       NaN        NaN                    NaN  ...       65121.12   \n",
                            "77945    NaN       NaN        NaN                    NaN  ...       65121.12   \n",
                            "77946    NaN       NaN        NaN                    NaN  ...       65121.12   \n",
                            "77947    NaN       NaN        NaN                    NaN  ...       65121.12   \n",
                            "77948    NaN       NaN        NaN                    NaN  ...       65121.12   \n",
                            "\n",
                            "              atr  enter_tag  enter_long  enter_short  atr_stoploss_long  \\\n",
                            "77944  159.052035                    NaN          NaN       65984.195931   \n",
                            "77945  155.384032                    NaN          NaN       65992.331936   \n",
                            "77946  150.785173                    NaN          NaN       65956.929655   \n",
                            "77947  146.629089                    NaN          NaN       65906.741822   \n",
                            "77948  145.484154                    NaN          NaN       65879.231692   \n",
                            "\n",
                            "       atr_stoploss_short    exit_tag  exit_long  exit_short  \n",
                            "77944        66620.404069  VWAP_Upper        1.0         1.0  \n",
                            "77945        66613.868064                    NaN         NaN  \n",
                            "77946        66560.070345                    NaN         NaN  \n",
                            "77947        66493.258178                    NaN         NaN  \n",
                            "77948        66461.168308                    NaN         NaN  \n",
                            "\n",
                            "[5 rows x 41 columns]"
                        ]
                    },
                    "execution_count": 4,
                    "metadata": {},
                    "output_type": "execute_result"
                }
            ],
            "source": [
                "# Load strategy using values set above\n",
                "from freqtrade.data.dataprovider import DataProvider\n",
                "from freqtrade.resolvers import StrategyResolver\n",
                "\n",
                "strategy = StrategyResolver.load_strategy(config)\n",
                "strategy.dp = DataProvider(config, None, None)\n",
                "\n",
                "strategy.ft_bot_start()\n",
                "\n",
                "# Generate buy/sell signals using strategy\n",
                "df = strategy.analyze_ticker(candles, {\"pair\": PAIR})\n",
                "df.tail()"
            ]
        },
        {
            "cell_type": "markdown",
            "metadata": {},
            "source": [
                "### Display the trade details"
            ]
        },
        {
            "cell_type": "code",
            "execution_count": 5,
            "metadata": {},
            "outputs": [
                {
                    "name": "stdout",
                    "output_type": "stream",
                    "text": [
                        "Generated 8.0 long entry signals\n",
                        "Generated 12.0 short entry signals\n"
                    ]
                }
            ],
            "source": [
                "# Report results\n",
                "print(f\"Generated {df['enter_long'].sum()} long entry signals\")\n",
                "print(f\"Generated {df['enter_short'].sum()} short entry signals\")\n",
                "data = df.set_index(\"date\", drop=False)"
            ]
        },
        {
            "cell_type": "markdown",
            "metadata": {},
            "source": [
                "## Load backtest results"
            ]
        },
        {
            "cell_type": "code",
            "execution_count": 6,
            "metadata": {},
            "outputs": [
                {
                    "name": "stdout",
                    "output_type": "stream",
                    "text": [
                        "Results per pair:\n",
                        "[{'key': 'BTC/USDT:USDT', 'trades': 2, 'profit_mean': 0.0673275138235969, 'profit_mean_pct': 6.73, 'profit_sum': 0.1346550276471938, 'profit_sum_pct': 13.47, 'profit_total_abs': 137.19270638, 'profit_total': 0.13719270638, 'profit_total_pct': 13.72, 'duration_avg': '0:20:00', 'wins': 2, 'draws': 0, 'losses': 0, 'winrate': 1.0}, {'key': 'TOTAL', 'trades': 2, 'profit_mean': 0.0673275138235969, 'profit_mean_pct': 6.73, 'profit_sum': 0.1346550276471938, 'profit_sum_pct': 13.47, 'profit_total_abs': 137.19270638, 'profit_total': 0.13719270638, 'profit_total_pct': 13.72, 'duration_avg': '0:20:00', 'wins': 2, 'draws': 0, 'losses': 0, 'winrate': 1.0}]\n",
                        "\n",
                        "Pairlist:\n",
                        "['BTC/USDT:USDT']\n",
                        "\n",
                        "Market change: 0.025353203628543475\n",
                        "Drawdown start: 1970-01-01 00:00:00+00:00\n",
                        "Drawdown end: 1970-01-01 00:00:00+00:00\n",
                        "\n",
                        "Exit reasons per pair:\n",
                        "pair           exit_reason\n",
                        "BTC/USDT:USDT  POC_Lower      1\n",
                        "               VWAP_Lower     1\n",
                        "Name: count, dtype: int64\n"
                    ]
                }
            ],
            "source": [
                "from freqtrade.data.btanalysis import load_backtest_data, load_backtest_stats\n",
                "from constants import BACKTEST_RESULTS_DIR\n",
                "\n",
                "# Load backtest statistics\n",
                "stats = load_backtest_stats(BACKTEST_RESULTS_DIR)\n",
                "\n",
                "strategy = \"CVDDivergence\"\n",
                "# Example usages:\n",
                "print(\"Results per pair:\")\n",
                "print(stats[\"strategy\"][strategy][\"results_per_pair\"])\n",
                "print(\"\\nPairlist:\")\n",
                "print(stats[\"strategy\"][strategy][\"pairlist\"])\n",
                "print(f\"\\nMarket change: {stats['strategy'][strategy]['market_change']}\")\n",
                "print(f\"Drawdown start: {stats['strategy'][strategy]['drawdown_start']}\")\n",
                "print(f\"Drawdown end: {stats['strategy'][strategy]['drawdown_end']}\")\n",
                "\n",
                "# Load backtested trades as dataframe\n",
                "trades = load_backtest_data(BACKTEST_RESULTS_DIR)\n",
                "\n",
                "if len(trades) > 0:\n",
                "    print(\"\\nExit reasons per pair:\")\n",
                "    print(trades.groupby(\"pair\")[\"exit_reason\"].value_counts())"
            ]
        },
        {
            "cell_type": "markdown",
            "metadata": {},
            "source": [
                "## Plotting daily profit / equity line"
            ]
        },
        {
            "cell_type": "code",
            "execution_count": 7,
            "metadata": {},
            "outputs": [
                {
                    "data": {
                        "application/vnd.plotly.v1+json": {
                            "config": {
                                "plotlyServerURL": "https://plot.ly"
                            },
                            "data": [
                                {
                                    "hovertemplate": "dates=%{x}<br>equity_daily=%{y}<extra></extra>",
                                    "legendgroup": "",
                                    "line": {
                                        "color": "#636efa",
                                        "dash": "solid"
                                    },
                                    "marker": {
                                        "symbol": "circle"
                                    },
                                    "mode": "lines",
                                    "name": "",
                                    "orientation": "v",
                                    "showlegend": false,
                                    "type": "scatter",
                                    "x": [
                                        "2024-09-25",
                                        "2024-09-26"
                                    ],
                                    "xaxis": "x",
                                    "y": [
                                        86.5484319,
                                        137.19270638
                                    ],
                                    "yaxis": "y"
                                }
                            ],
                            "layout": {
                                "legend": {
                                    "tracegroupgap": 0
                                },
                                "template": {
                                    "data": {
                                        "bar": [
                                            {
                                                "error_x": {
                                                    "color": "#2a3f5f"
                                                },
                                                "error_y": {
                                                    "color": "#2a3f5f"
                                                },
                                                "marker": {
                                                    "line": {
                                                        "color": "#E5ECF6",
                                                        "width": 0.5
                                                    },
                                                    "pattern": {
                                                        "fillmode": "overlay",
                                                        "size": 10,
                                                        "solidity": 0.2
                                                    }
                                                },
                                                "type": "bar"
                                            }
                                        ],
                                        "barpolar": [
                                            {
                                                "marker": {
                                                    "line": {
                                                        "color": "#E5ECF6",
                                                        "width": 0.5
                                                    },
                                                    "pattern": {
                                                        "fillmode": "overlay",
                                                        "size": 10,
                                                        "solidity": 0.2
                                                    }
                                                },
                                                "type": "barpolar"
                                            }
                                        ],
                                        "carpet": [
                                            {
                                                "aaxis": {
                                                    "endlinecolor": "#2a3f5f",
                                                    "gridcolor": "white",
                                                    "linecolor": "white",
                                                    "minorgridcolor": "white",
                                                    "startlinecolor": "#2a3f5f"
                                                },
                                                "baxis": {
                                                    "endlinecolor": "#2a3f5f",
                                                    "gridcolor": "white",
                                                    "linecolor": "white",
                                                    "minorgridcolor": "white",
                                                    "startlinecolor": "#2a3f5f"
                                                },
                                                "type": "carpet"
                                            }
                                        ],
                                        "choropleth": [
                                            {
                                                "colorbar": {
                                                    "outlinewidth": 0,
                                                    "ticks": ""
                                                },
                                                "type": "choropleth"
                                            }
                                        ],
                                        "contour": [
                                            {
                                                "colorbar": {
                                                    "outlinewidth": 0,
                                                    "ticks": ""
                                                },
                                                "colorscale": [
                                                    [
                                                        0,
                                                        "#0d0887"
                                                    ],
                                                    [
                                                        0.1111111111111111,
                                                        "#46039f"
                                                    ],
                                                    [
                                                        0.2222222222222222,
                                                        "#7201a8"
                                                    ],
                                                    [
                                                        0.3333333333333333,
                                                        "#9c179e"
                                                    ],
                                                    [
                                                        0.4444444444444444,
                                                        "#bd3786"
                                                    ],
                                                    [
                                                        0.5555555555555556,
                                                        "#d8576b"
                                                    ],
                                                    [
                                                        0.6666666666666666,
                                                        "#ed7953"
                                                    ],
                                                    [
                                                        0.7777777777777778,
                                                        "#fb9f3a"
                                                    ],
                                                    [
                                                        0.8888888888888888,
                                                        "#fdca26"
                                                    ],
                                                    [
                                                        1,
                                                        "#f0f921"
                                                    ]
                                                ],
                                                "type": "contour"
                                            }
                                        ],
                                        "contourcarpet": [
                                            {
                                                "colorbar": {
                                                    "outlinewidth": 0,
                                                    "ticks": ""
                                                },
                                                "type": "contourcarpet"
                                            }
                                        ],
                                        "heatmap": [
                                            {
                                                "colorbar": {
                                                    "outlinewidth": 0,
                                                    "ticks": ""
                                                },
                                                "colorscale": [
                                                    [
                                                        0,
                                                        "#0d0887"
                                                    ],
                                                    [
                                                        0.1111111111111111,
                                                        "#46039f"
                                                    ],
                                                    [
                                                        0.2222222222222222,
                                                        "#7201a8"
                                                    ],
                                                    [
                                                        0.3333333333333333,
                                                        "#9c179e"
                                                    ],
                                                    [
                                                        0.4444444444444444,
                                                        "#bd3786"
                                                    ],
                                                    [
                                                        0.5555555555555556,
                                                        "#d8576b"
                                                    ],
                                                    [
                                                        0.6666666666666666,
                                                        "#ed7953"
                                                    ],
                                                    [
                                                        0.7777777777777778,
                                                        "#fb9f3a"
                                                    ],
                                                    [
                                                        0.8888888888888888,
                                                        "#fdca26"
                                                    ],
                                                    [
                                                        1,
                                                        "#f0f921"
                                                    ]
                                                ],
                                                "type": "heatmap"
                                            }
                                        ],
                                        "heatmapgl": [
                                            {
                                                "colorbar": {
                                                    "outlinewidth": 0,
                                                    "ticks": ""
                                                },
                                                "colorscale": [
                                                    [
                                                        0,
                                                        "#0d0887"
                                                    ],
                                                    [
                                                        0.1111111111111111,
                                                        "#46039f"
                                                    ],
                                                    [
                                                        0.2222222222222222,
                                                        "#7201a8"
                                                    ],
                                                    [
                                                        0.3333333333333333,
                                                        "#9c179e"
                                                    ],
                                                    [
                                                        0.4444444444444444,
                                                        "#bd3786"
                                                    ],
                                                    [
                                                        0.5555555555555556,
                                                        "#d8576b"
                                                    ],
                                                    [
                                                        0.6666666666666666,
                                                        "#ed7953"
                                                    ],
                                                    [
                                                        0.7777777777777778,
                                                        "#fb9f3a"
                                                    ],
                                                    [
                                                        0.8888888888888888,
                                                        "#fdca26"
                                                    ],
                                                    [
                                                        1,
                                                        "#f0f921"
                                                    ]
                                                ],
                                                "type": "heatmapgl"
                                            }
                                        ],
                                        "histogram": [
                                            {
                                                "marker": {
                                                    "pattern": {
                                                        "fillmode": "overlay",
                                                        "size": 10,
                                                        "solidity": 0.2
                                                    }
                                                },
                                                "type": "histogram"
                                            }
                                        ],
                                        "histogram2d": [
                                            {
                                                "colorbar": {
                                                    "outlinewidth": 0,
                                                    "ticks": ""
                                                },
                                                "colorscale": [
                                                    [
                                                        0,
                                                        "#0d0887"
                                                    ],
                                                    [
                                                        0.1111111111111111,
                                                        "#46039f"
                                                    ],
                                                    [
                                                        0.2222222222222222,
                                                        "#7201a8"
                                                    ],
                                                    [
                                                        0.3333333333333333,
                                                        "#9c179e"
                                                    ],
                                                    [
                                                        0.4444444444444444,
                                                        "#bd3786"
                                                    ],
                                                    [
                                                        0.5555555555555556,
                                                        "#d8576b"
                                                    ],
                                                    [
                                                        0.6666666666666666,
                                                        "#ed7953"
                                                    ],
                                                    [
                                                        0.7777777777777778,
                                                        "#fb9f3a"
                                                    ],
                                                    [
                                                        0.8888888888888888,
                                                        "#fdca26"
                                                    ],
                                                    [
                                                        1,
                                                        "#f0f921"
                                                    ]
                                                ],
                                                "type": "histogram2d"
                                            }
                                        ],
                                        "histogram2dcontour": [
                                            {
                                                "colorbar": {
                                                    "outlinewidth": 0,
                                                    "ticks": ""
                                                },
                                                "colorscale": [
                                                    [
                                                        0,
                                                        "#0d0887"
                                                    ],
                                                    [
                                                        0.1111111111111111,
                                                        "#46039f"
                                                    ],
                                                    [
                                                        0.2222222222222222,
                                                        "#7201a8"
                                                    ],
                                                    [
                                                        0.3333333333333333,
                                                        "#9c179e"
                                                    ],
                                                    [
                                                        0.4444444444444444,
                                                        "#bd3786"
                                                    ],
                                                    [
                                                        0.5555555555555556,
                                                        "#d8576b"
                                                    ],
                                                    [
                                                        0.6666666666666666,
                                                        "#ed7953"
                                                    ],
                                                    [
                                                        0.7777777777777778,
                                                        "#fb9f3a"
                                                    ],
                                                    [
                                                        0.8888888888888888,
                                                        "#fdca26"
                                                    ],
                                                    [
                                                        1,
                                                        "#f0f921"
                                                    ]
                                                ],
                                                "type": "histogram2dcontour"
                                            }
                                        ],
                                        "mesh3d": [
                                            {
                                                "colorbar": {
                                                    "outlinewidth": 0,
                                                    "ticks": ""
                                                },
                                                "type": "mesh3d"
                                            }
                                        ],
                                        "parcoords": [
                                            {
                                                "line": {
                                                    "colorbar": {
                                                        "outlinewidth": 0,
                                                        "ticks": ""
                                                    }
                                                },
                                                "type": "parcoords"
                                            }
                                        ],
                                        "pie": [
                                            {
                                                "automargin": true,
                                                "type": "pie"
                                            }
                                        ],
                                        "scatter": [
                                            {
                                                "fillpattern": {
                                                    "fillmode": "overlay",
                                                    "size": 10,
                                                    "solidity": 0.2
                                                },
                                                "type": "scatter"
                                            }
                                        ],
                                        "scatter3d": [
                                            {
                                                "line": {
                                                    "colorbar": {
                                                        "outlinewidth": 0,
                                                        "ticks": ""
                                                    }
                                                },
                                                "marker": {
                                                    "colorbar": {
                                                        "outlinewidth": 0,
                                                        "ticks": ""
                                                    }
                                                },
                                                "type": "scatter3d"
                                            }
                                        ],
                                        "scattercarpet": [
                                            {
                                                "marker": {
                                                    "colorbar": {
                                                        "outlinewidth": 0,
                                                        "ticks": ""
                                                    }
                                                },
                                                "type": "scattercarpet"
                                            }
                                        ],
                                        "scattergeo": [
                                            {
                                                "marker": {
                                                    "colorbar": {
                                                        "outlinewidth": 0,
                                                        "ticks": ""
                                                    }
                                                },
                                                "type": "scattergeo"
                                            }
                                        ],
                                        "scattergl": [
                                            {
                                                "marker": {
                                                    "colorbar": {
                                                        "outlinewidth": 0,
                                                        "ticks": ""
                                                    }
                                                },
                                                "type": "scattergl"
                                            }
                                        ],
                                        "scattermapbox": [
                                            {
                                                "marker": {
                                                    "colorbar": {
                                                        "outlinewidth": 0,
                                                        "ticks": ""
                                                    }
                                                },
                                                "type": "scattermapbox"
                                            }
                                        ],
                                        "scatterpolar": [
                                            {
                                                "marker": {
                                                    "colorbar": {
                                                        "outlinewidth": 0,
                                                        "ticks": ""
                                                    }
                                                },
                                                "type": "scatterpolar"
                                            }
                                        ],
                                        "scatterpolargl": [
                                            {
                                                "marker": {
                                                    "colorbar": {
                                                        "outlinewidth": 0,
                                                        "ticks": ""
                                                    }
                                                },
                                                "type": "scatterpolargl"
                                            }
                                        ],
                                        "scatterternary": [
                                            {
                                                "marker": {
                                                    "colorbar": {
                                                        "outlinewidth": 0,
                                                        "ticks": ""
                                                    }
                                                },
                                                "type": "scatterternary"
                                            }
                                        ],
                                        "surface": [
                                            {
                                                "colorbar": {
                                                    "outlinewidth": 0,
                                                    "ticks": ""
                                                },
                                                "colorscale": [
                                                    [
                                                        0,
                                                        "#0d0887"
                                                    ],
                                                    [
                                                        0.1111111111111111,
                                                        "#46039f"
                                                    ],
                                                    [
                                                        0.2222222222222222,
                                                        "#7201a8"
                                                    ],
                                                    [
                                                        0.3333333333333333,
                                                        "#9c179e"
                                                    ],
                                                    [
                                                        0.4444444444444444,
                                                        "#bd3786"
                                                    ],
                                                    [
                                                        0.5555555555555556,
                                                        "#d8576b"
                                                    ],
                                                    [
                                                        0.6666666666666666,
                                                        "#ed7953"
                                                    ],
                                                    [
                                                        0.7777777777777778,
                                                        "#fb9f3a"
                                                    ],
                                                    [
                                                        0.8888888888888888,
                                                        "#fdca26"
                                                    ],
                                                    [
                                                        1,
                                                        "#f0f921"
                                                    ]
                                                ],
                                                "type": "surface"
                                            }
                                        ],
                                        "table": [
                                            {
                                                "cells": {
                                                    "fill": {
                                                        "color": "#EBF0F8"
                                                    },
                                                    "line": {
                                                        "color": "white"
                                                    }
                                                },
                                                "header": {
                                                    "fill": {
                                                        "color": "#C8D4E3"
                                                    },
                                                    "line": {
                                                        "color": "white"
                                                    }
                                                },
                                                "type": "table"
                                            }
                                        ]
                                    },
                                    "layout": {
                                        "annotationdefaults": {
                                            "arrowcolor": "#2a3f5f",
                                            "arrowhead": 0,
                                            "arrowwidth": 1
                                        },
                                        "autotypenumbers": "strict",
                                        "coloraxis": {
                                            "colorbar": {
                                                "outlinewidth": 0,
                                                "ticks": ""
                                            }
                                        },
                                        "colorscale": {
                                            "diverging": [
                                                [
                                                    0,
                                                    "#8e0152"
                                                ],
                                                [
                                                    0.1,
                                                    "#c51b7d"
                                                ],
                                                [
                                                    0.2,
                                                    "#de77ae"
                                                ],
                                                [
                                                    0.3,
                                                    "#f1b6da"
                                                ],
                                                [
                                                    0.4,
                                                    "#fde0ef"
                                                ],
                                                [
                                                    0.5,
                                                    "#f7f7f7"
                                                ],
                                                [
                                                    0.6,
                                                    "#e6f5d0"
                                                ],
                                                [
                                                    0.7,
                                                    "#b8e186"
                                                ],
                                                [
                                                    0.8,
                                                    "#7fbc41"
                                                ],
                                                [
                                                    0.9,
                                                    "#4d9221"
                                                ],
                                                [
                                                    1,
                                                    "#276419"
                                                ]
                                            ],
                                            "sequential": [
                                                [
                                                    0,
                                                    "#0d0887"
                                                ],
                                                [
                                                    0.1111111111111111,
                                                    "#46039f"
                                                ],
                                                [
                                                    0.2222222222222222,
                                                    "#7201a8"
                                                ],
                                                [
                                                    0.3333333333333333,
                                                    "#9c179e"
                                                ],
                                                [
                                                    0.4444444444444444,
                                                    "#bd3786"
                                                ],
                                                [
                                                    0.5555555555555556,
                                                    "#d8576b"
                                                ],
                                                [
                                                    0.6666666666666666,
                                                    "#ed7953"
                                                ],
                                                [
                                                    0.7777777777777778,
                                                    "#fb9f3a"
                                                ],
                                                [
                                                    0.8888888888888888,
                                                    "#fdca26"
                                                ],
                                                [
                                                    1,
                                                    "#f0f921"
                                                ]
                                            ],
                                            "sequentialminus": [
                                                [
                                                    0,
                                                    "#0d0887"
                                                ],
                                                [
                                                    0.1111111111111111,
                                                    "#46039f"
                                                ],
                                                [
                                                    0.2222222222222222,
                                                    "#7201a8"
                                                ],
                                                [
                                                    0.3333333333333333,
                                                    "#9c179e"
                                                ],
                                                [
                                                    0.4444444444444444,
                                                    "#bd3786"
                                                ],
                                                [
                                                    0.5555555555555556,
                                                    "#d8576b"
                                                ],
                                                [
                                                    0.6666666666666666,
                                                    "#ed7953"
                                                ],
                                                [
                                                    0.7777777777777778,
                                                    "#fb9f3a"
                                                ],
                                                [
                                                    0.8888888888888888,
                                                    "#fdca26"
                                                ],
                                                [
                                                    1,
                                                    "#f0f921"
                                                ]
                                            ]
                                        },
                                        "colorway": [
                                            "#636efa",
                                            "#EF553B",
                                            "#00cc96",
                                            "#ab63fa",
                                            "#FFA15A",
                                            "#19d3f3",
                                            "#FF6692",
                                            "#B6E880",
                                            "#FF97FF",
                                            "#FECB52"
                                        ],
                                        "font": {
                                            "color": "#2a3f5f"
                                        },
                                        "geo": {
                                            "bgcolor": "white",
                                            "lakecolor": "white",
                                            "landcolor": "#E5ECF6",
                                            "showlakes": true,
                                            "showland": true,
                                            "subunitcolor": "white"
                                        },
                                        "hoverlabel": {
                                            "align": "left"
                                        },
                                        "hovermode": "closest",
                                        "mapbox": {
                                            "style": "light"
                                        },
                                        "paper_bgcolor": "white",
                                        "plot_bgcolor": "#E5ECF6",
                                        "polar": {
                                            "angularaxis": {
                                                "gridcolor": "white",
                                                "linecolor": "white",
                                                "ticks": ""
                                            },
                                            "bgcolor": "#E5ECF6",
                                            "radialaxis": {
                                                "gridcolor": "white",
                                                "linecolor": "white",
                                                "ticks": ""
                                            }
                                        },
                                        "scene": {
                                            "xaxis": {
                                                "backgroundcolor": "#E5ECF6",
                                                "gridcolor": "white",
                                                "gridwidth": 2,
                                                "linecolor": "white",
                                                "showbackground": true,
                                                "ticks": "",
                                                "zerolinecolor": "white"
                                            },
                                            "yaxis": {
                                                "backgroundcolor": "#E5ECF6",
                                                "gridcolor": "white",
                                                "gridwidth": 2,
                                                "linecolor": "white",
                                                "showbackground": true,
                                                "ticks": "",
                                                "zerolinecolor": "white"
                                            },
                                            "zaxis": {
                                                "backgroundcolor": "#E5ECF6",
                                                "gridcolor": "white",
                                                "gridwidth": 2,
                                                "linecolor": "white",
                                                "showbackground": true,
                                                "ticks": "",
                                                "zerolinecolor": "white"
                                            }
                                        },
                                        "shapedefaults": {
                                            "line": {
                                                "color": "#2a3f5f"
                                            }
                                        },
                                        "ternary": {
                                            "aaxis": {
                                                "gridcolor": "white",
                                                "linecolor": "white",
                                                "ticks": ""
                                            },
                                            "baxis": {
                                                "gridcolor": "white",
                                                "linecolor": "white",
                                                "ticks": ""
                                            },
                                            "bgcolor": "#E5ECF6",
                                            "caxis": {
                                                "gridcolor": "white",
                                                "linecolor": "white",
                                                "ticks": ""
                                            }
                                        },
                                        "title": {
                                            "x": 0.05
                                        },
                                        "xaxis": {
                                            "automargin": true,
                                            "gridcolor": "white",
                                            "linecolor": "white",
                                            "ticks": "",
                                            "title": {
                                                "standoff": 15
                                            },
                                            "zerolinecolor": "white",
                                            "zerolinewidth": 2
                                        },
                                        "yaxis": {
                                            "automargin": true,
                                            "gridcolor": "white",
                                            "linecolor": "white",
                                            "ticks": "",
                                            "title": {
                                                "standoff": 15
                                            },
                                            "zerolinecolor": "white",
                                            "zerolinewidth": 2
                                        }
                                    }
                                },
                                "title": {
                                    "text": "CVDDivergence Strategy - Equity Curve"
                                },
                                "xaxis": {
                                    "anchor": "y",
                                    "domain": [
                                        0,
                                        1
                                    ],
                                    "title": {
                                        "text": "dates"
                                    }
                                },
                                "yaxis": {
                                    "anchor": "x",
                                    "domain": [
                                        0,
                                        1
                                    ],
                                    "title": {
                                        "text": "equity_daily"
                                    }
                                }
                            }
                        }
                    },
                    "metadata": {},
                    "output_type": "display_data"
                }
            ],
            "source": [
                "import pandas as pd\n",
                "import plotly.express as px\n",
                "\n",
                "strategy_stats = stats[\"strategy\"][strategy]\n",
                "\n",
                "df = pd.DataFrame(columns=[\"dates\", \"equity\"], data=strategy_stats[\"daily_profit\"])\n",
                "df[\"equity_daily\"] = df[\"equity\"].cumsum()\n",
                "\n",
                "fig = px.line(df, x=\"dates\", y=\"equity_daily\", title=\"CVDDivergence Strategy - Equity Curve\")\n",
                "fig.show()"
            ]
        },
        {
            "cell_type": "markdown",
            "metadata": {},
            "source": [
                "## Plot results"
            ]
        },
        {
            "cell_type": "code",
            "execution_count": 8,
            "metadata": {},
            "outputs": [],
            "source": [
                "from freqtrade.plot.plotting import generate_candlestick_graph\n",
                "\n",
                "from_date = data[\"delta\"].dropna().index.min()\n",
                "to_date = data[\"delta\"].dropna().index.max()\n",
                "\n",
                "# Filter data for a specific date range\n",
                "data_filtered = data[from_date:to_date].drop(columns=[\"exit_short\", \"exit_long\"])\n",
                "\n",
                "# Generate candlestick graph with indicators for trade entry and losses\n",
                "graph = generate_candlestick_graph(\n",
                "    pair=PAIR,\n",
                "    data=data_filtered,\n",
                "    trades=trades,\n",
                "    indicators1=[\"vwap\", \"vwap_lower_2\", \"vwap_upper_2\", \"bull_poc_upper\", \"bull_poc_lower\", \"bear_poc_lower\", \"bear_poc_upper\"],\n",
                "    indicators2=[\"cvd_ma\"]\n",
                ")\n",
                "\n",
                "# Render graph in a separate window\n",
                "graph.show(renderer=\"browser\")"
            ]
        }
    ],
    "metadata": {
        "kernelspec": {
            "display_name": "Python 3",
            "language": "python",
            "name": "python3"
        },
        "language_info": {
            "codemirror_mode": {
                "name": "ipython",
                "version": 3
            },
            "file_extension": ".py",
            "mimetype": "text/x-python",
            "name": "python",
            "nbconvert_exporter": "python",
            "pygments_lexer": "ipython3",
            "version": "3.12.6"
        }
    },
    "nbformat": 4,
    "nbformat_minor": 4
}
