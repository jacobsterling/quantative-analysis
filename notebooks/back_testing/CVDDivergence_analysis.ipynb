{
    "cells": [
        {
            "cell_type": "markdown",
            "metadata": {},
            "source": [
                "# CVDDivergence Strategy Analysis\n",
                "\n",
                "This notebook provides an in-depth analysis of the CVDDivergence strategy, including its logic, indicators, and backtest results."
            ]
        },
        {
            "cell_type": "markdown",
            "metadata": {},
            "source": [
                "## Setup\n",
                "\n",
                "### Change Working directory to repository root"
            ]
        },
        {
            "cell_type": "code",
            "execution_count": 1,
            "metadata": {},
            "outputs": [],
            "source": [
                "from constants import set_cwd_to_project_root, CONFIG_DIR\n",
                "from main import generate_config\n",
                "\n",
                "generate_config(\"binance\")\n",
                "\n",
                "set_cwd_to_project_root()"
            ]
        },
        {
            "cell_type": "markdown",
            "metadata": {},
            "source": [
                "### Configure Freqtrade environment"
            ]
        },
        {
            "cell_type": "code",
            "execution_count": 2,
            "metadata": {},
            "outputs": [],
            "source": [
                "from freqtrade.configuration import Configuration\n",
                "\n",
                "\n",
                "config = Configuration.from_files([CONFIG_DIR])\n",
                "\n",
                "# Define some constants\n",
                "config[\"timeframe\"] = \"5m\"\n",
                "# Name of the strategy class\n",
                "config[\"strategy\"] = \"CVDDivergence\"\n",
                "\n",
                "# Pair to analyze - Only use one pair here\n",
                "pair = \"BTC/USDT:USDT\""
            ]
        },
        {
            "cell_type": "code",
            "execution_count": 3,
            "metadata": {},
            "outputs": [
                {
                    "name": "stdout",
                    "output_type": "stream",
                    "text": [
                        "Loaded 77949 rows of data for BTC/USDT:USDT from F:\\quantative-analysis\\data\n"
                    ]
                },
                {
                    "data": {
                        "text/html": [
                            "<div>\n",
                            "<style scoped>\n",
                            "    .dataframe tbody tr th:only-of-type {\n",
                            "        vertical-align: middle;\n",
                            "    }\n",
                            "\n",
                            "    .dataframe tbody tr th {\n",
                            "        vertical-align: top;\n",
                            "    }\n",
                            "\n",
                            "    .dataframe thead th {\n",
                            "        text-align: right;\n",
                            "    }\n",
                            "</style>\n",
                            "<table border=\"1\" class=\"dataframe\">\n",
                            "  <thead>\n",
                            "    <tr style=\"text-align: right;\">\n",
                            "      <th></th>\n",
                            "      <th>date</th>\n",
                            "      <th>open</th>\n",
                            "      <th>high</th>\n",
                            "      <th>low</th>\n",
                            "      <th>close</th>\n",
                            "      <th>volume</th>\n",
                            "    </tr>\n",
                            "  </thead>\n",
                            "  <tbody>\n",
                            "    <tr>\n",
                            "      <th>0</th>\n",
                            "      <td>2024-01-01 00:00:00+00:00</td>\n",
                            "      <td>42314.0</td>\n",
                            "      <td>42437.2</td>\n",
                            "      <td>42289.6</td>\n",
                            "      <td>42437.1</td>\n",
                            "      <td>1724.210</td>\n",
                            "    </tr>\n",
                            "    <tr>\n",
                            "      <th>1</th>\n",
                            "      <td>2024-01-01 00:05:00+00:00</td>\n",
                            "      <td>42437.2</td>\n",
                            "      <td>42474.1</td>\n",
                            "      <td>42420.5</td>\n",
                            "      <td>42446.8</td>\n",
                            "      <td>994.003</td>\n",
                            "    </tr>\n",
                            "    <tr>\n",
                            "      <th>2</th>\n",
                            "      <td>2024-01-01 00:10:00+00:00</td>\n",
                            "      <td>42446.8</td>\n",
                            "      <td>42535.0</td>\n",
                            "      <td>42445.2</td>\n",
                            "      <td>42532.5</td>\n",
                            "      <td>899.775</td>\n",
                            "    </tr>\n",
                            "    <tr>\n",
                            "      <th>3</th>\n",
                            "      <td>2024-01-01 00:15:00+00:00</td>\n",
                            "      <td>42532.4</td>\n",
                            "      <td>42603.2</td>\n",
                            "      <td>42494.1</td>\n",
                            "      <td>42494.1</td>\n",
                            "      <td>1291.232</td>\n",
                            "    </tr>\n",
                            "    <tr>\n",
                            "      <th>4</th>\n",
                            "      <td>2024-01-01 00:20:00+00:00</td>\n",
                            "      <td>42494.1</td>\n",
                            "      <td>42533.1</td>\n",
                            "      <td>42484.4</td>\n",
                            "      <td>42509.4</td>\n",
                            "      <td>418.463</td>\n",
                            "    </tr>\n",
                            "  </tbody>\n",
                            "</table>\n",
                            "</div>"
                        ],
                        "text/plain": [
                            "                       date     open     high      low    close    volume\n",
                            "0 2024-01-01 00:00:00+00:00  42314.0  42437.2  42289.6  42437.1  1724.210\n",
                            "1 2024-01-01 00:05:00+00:00  42437.2  42474.1  42420.5  42446.8   994.003\n",
                            "2 2024-01-01 00:10:00+00:00  42446.8  42535.0  42445.2  42532.5   899.775\n",
                            "3 2024-01-01 00:15:00+00:00  42532.4  42603.2  42494.1  42494.1  1291.232\n",
                            "4 2024-01-01 00:20:00+00:00  42494.1  42533.1  42484.4  42509.4   418.463"
                        ]
                    },
                    "execution_count": 3,
                    "metadata": {},
                    "output_type": "execute_result"
                }
            ],
            "source": [
                "# Load data using values set above\n",
                "from freqtrade.data.history import load_pair_history\n",
                "from freqtrade.enums import CandleType\n",
                "from constants import DATA_DIR\n",
                "\n",
                "candles = load_pair_history(\n",
                "    datadir=DATA_DIR,\n",
                "    timeframe=config[\"timeframe\"],\n",
                "    pair=pair,\n",
                "    data_format=\"feather\",\n",
                "    candle_type=CandleType.FUTURES,\n",
                ")\n",
                "\n",
                "# Confirm success\n",
                "print(f\"Loaded {len(candles)} rows of data for {pair} from {DATA_DIR}\")\n",
                "candles.head()"
            ]
        },
        {
            "cell_type": "markdown",
            "metadata": {},
            "source": [
                "## Load and run strategy"
            ]
        },
        {
            "cell_type": "code",
            "execution_count": 4,
            "metadata": {},
            "outputs": [
                {
                    "data": {
                        "text/html": [
                            "<div>\n",
                            "<style scoped>\n",
                            "    .dataframe tbody tr th:only-of-type {\n",
                            "        vertical-align: middle;\n",
                            "    }\n",
                            "\n",
                            "    .dataframe tbody tr th {\n",
                            "        vertical-align: top;\n",
                            "    }\n",
                            "\n",
                            "    .dataframe thead th {\n",
                            "        text-align: right;\n",
                            "    }\n",
                            "</style>\n",
                            "<table border=\"1\" class=\"dataframe\">\n",
                            "  <thead>\n",
                            "    <tr style=\"text-align: right;\">\n",
                            "      <th></th>\n",
                            "      <th>date</th>\n",
                            "      <th>open</th>\n",
                            "      <th>high</th>\n",
                            "      <th>low</th>\n",
                            "      <th>close</th>\n",
                            "      <th>volume</th>\n",
                            "      <th>day</th>\n",
                            "      <th>delta</th>\n",
                            "      <th>cvd</th>\n",
                            "      <th>pivot_low</th>\n",
                            "      <th>...</th>\n",
                            "      <th>poc</th>\n",
                            "      <th>atr</th>\n",
                            "      <th>enter_tag</th>\n",
                            "      <th>enter_long</th>\n",
                            "      <th>enter_short</th>\n",
                            "      <th>atr_stoploss_long</th>\n",
                            "      <th>atr_stoploss_short</th>\n",
                            "      <th>exit_tag</th>\n",
                            "      <th>exit_long</th>\n",
                            "      <th>exit_short</th>\n",
                            "    </tr>\n",
                            "  </thead>\n",
                            "  <tbody>\n",
                            "    <tr>\n",
                            "      <th>77944</th>\n",
                            "      <td>2024-09-27 15:20:00+00:00</td>\n",
                            "      <td>66342.0</td>\n",
                            "      <td>66388.8</td>\n",
                            "      <td>66270.0</td>\n",
                            "      <td>66302.3</td>\n",
                            "      <td>1052.536</td>\n",
                            "      <td>2024-09-27</td>\n",
                            "      <td>-72.0</td>\n",
                            "      <td>1215.4</td>\n",
                            "      <td>NaN</td>\n",
                            "      <td>...</td>\n",
                            "      <td>66235.173</td>\n",
                            "      <td>159.052035</td>\n",
                            "      <td></td>\n",
                            "      <td>NaN</td>\n",
                            "      <td>NaN</td>\n",
                            "      <td>65984.195931</td>\n",
                            "      <td>66620.404069</td>\n",
                            "      <td>POC_Upper</td>\n",
                            "      <td>1.0</td>\n",
                            "      <td>1.0</td>\n",
                            "    </tr>\n",
                            "    <tr>\n",
                            "      <th>77945</th>\n",
                            "      <td>2024-09-27 15:25:00+00:00</td>\n",
                            "      <td>66302.3</td>\n",
                            "      <td>66330.0</td>\n",
                            "      <td>66222.3</td>\n",
                            "      <td>66303.1</td>\n",
                            "      <td>657.397</td>\n",
                            "      <td>2024-09-27</td>\n",
                            "      <td>27.7</td>\n",
                            "      <td>1243.1</td>\n",
                            "      <td>NaN</td>\n",
                            "      <td>...</td>\n",
                            "      <td>66235.173</td>\n",
                            "      <td>155.384032</td>\n",
                            "      <td></td>\n",
                            "      <td>NaN</td>\n",
                            "      <td>NaN</td>\n",
                            "      <td>65992.331936</td>\n",
                            "      <td>66613.868064</td>\n",
                            "      <td>POC_Upper</td>\n",
                            "      <td>1.0</td>\n",
                            "      <td>NaN</td>\n",
                            "    </tr>\n",
                            "    <tr>\n",
                            "      <th>77946</th>\n",
                            "      <td>2024-09-27 15:30:00+00:00</td>\n",
                            "      <td>66303.2</td>\n",
                            "      <td>66322.0</td>\n",
                            "      <td>66231.0</td>\n",
                            "      <td>66258.5</td>\n",
                            "      <td>673.062</td>\n",
                            "      <td>2024-09-27</td>\n",
                            "      <td>-63.5</td>\n",
                            "      <td>1179.6</td>\n",
                            "      <td>NaN</td>\n",
                            "      <td>...</td>\n",
                            "      <td>66235.173</td>\n",
                            "      <td>150.785173</td>\n",
                            "      <td></td>\n",
                            "      <td>NaN</td>\n",
                            "      <td>NaN</td>\n",
                            "      <td>65956.929655</td>\n",
                            "      <td>66560.070345</td>\n",
                            "      <td>POC_Upper</td>\n",
                            "      <td>1.0</td>\n",
                            "      <td>NaN</td>\n",
                            "    </tr>\n",
                            "    <tr>\n",
                            "      <th>77947</th>\n",
                            "      <td>2024-09-27 15:35:00+00:00</td>\n",
                            "      <td>66258.6</td>\n",
                            "      <td>66276.0</td>\n",
                            "      <td>66183.4</td>\n",
                            "      <td>66200.0</td>\n",
                            "      <td>610.517</td>\n",
                            "      <td>2024-09-27</td>\n",
                            "      <td>-75.1</td>\n",
                            "      <td>1104.5</td>\n",
                            "      <td>NaN</td>\n",
                            "      <td>...</td>\n",
                            "      <td>66235.173</td>\n",
                            "      <td>146.629089</td>\n",
                            "      <td></td>\n",
                            "      <td>NaN</td>\n",
                            "      <td>NaN</td>\n",
                            "      <td>65906.741822</td>\n",
                            "      <td>66493.258178</td>\n",
                            "      <td>POC_Upper</td>\n",
                            "      <td>1.0</td>\n",
                            "      <td>NaN</td>\n",
                            "    </tr>\n",
                            "    <tr>\n",
                            "      <th>77948</th>\n",
                            "      <td>2024-09-27 15:40:00+00:00</td>\n",
                            "      <td>66200.0</td>\n",
                            "      <td>66289.0</td>\n",
                            "      <td>66158.4</td>\n",
                            "      <td>66170.2</td>\n",
                            "      <td>749.706</td>\n",
                            "      <td>2024-09-27</td>\n",
                            "      <td>-41.6</td>\n",
                            "      <td>1062.9</td>\n",
                            "      <td>NaN</td>\n",
                            "      <td>...</td>\n",
                            "      <td>66235.173</td>\n",
                            "      <td>145.484154</td>\n",
                            "      <td></td>\n",
                            "      <td>NaN</td>\n",
                            "      <td>NaN</td>\n",
                            "      <td>65879.231692</td>\n",
                            "      <td>66461.168308</td>\n",
                            "      <td>POC_Upper</td>\n",
                            "      <td>1.0</td>\n",
                            "      <td>NaN</td>\n",
                            "    </tr>\n",
                            "  </tbody>\n",
                            "</table>\n",
                            "<p>5 rows × 28 columns</p>\n",
                            "</div>"
                        ],
                        "text/plain": [
                            "                           date     open     high      low    close    volume  \\\n",
                            "77944 2024-09-27 15:20:00+00:00  66342.0  66388.8  66270.0  66302.3  1052.536   \n",
                            "77945 2024-09-27 15:25:00+00:00  66302.3  66330.0  66222.3  66303.1   657.397   \n",
                            "77946 2024-09-27 15:30:00+00:00  66303.2  66322.0  66231.0  66258.5   673.062   \n",
                            "77947 2024-09-27 15:35:00+00:00  66258.6  66276.0  66183.4  66200.0   610.517   \n",
                            "77948 2024-09-27 15:40:00+00:00  66200.0  66289.0  66158.4  66170.2   749.706   \n",
                            "\n",
                            "              day  delta     cvd  pivot_low  ...        poc         atr  \\\n",
                            "77944  2024-09-27  -72.0  1215.4        NaN  ...  66235.173  159.052035   \n",
                            "77945  2024-09-27   27.7  1243.1        NaN  ...  66235.173  155.384032   \n",
                            "77946  2024-09-27  -63.5  1179.6        NaN  ...  66235.173  150.785173   \n",
                            "77947  2024-09-27  -75.1  1104.5        NaN  ...  66235.173  146.629089   \n",
                            "77948  2024-09-27  -41.6  1062.9        NaN  ...  66235.173  145.484154   \n",
                            "\n",
                            "       enter_tag  enter_long  enter_short  atr_stoploss_long  \\\n",
                            "77944                    NaN          NaN       65984.195931   \n",
                            "77945                    NaN          NaN       65992.331936   \n",
                            "77946                    NaN          NaN       65956.929655   \n",
                            "77947                    NaN          NaN       65906.741822   \n",
                            "77948                    NaN          NaN       65879.231692   \n",
                            "\n",
                            "       atr_stoploss_short   exit_tag  exit_long  exit_short  \n",
                            "77944        66620.404069  POC_Upper        1.0         1.0  \n",
                            "77945        66613.868064  POC_Upper        1.0         NaN  \n",
                            "77946        66560.070345  POC_Upper        1.0         NaN  \n",
                            "77947        66493.258178  POC_Upper        1.0         NaN  \n",
                            "77948        66461.168308  POC_Upper        1.0         NaN  \n",
                            "\n",
                            "[5 rows x 28 columns]"
                        ]
                    },
                    "execution_count": 4,
                    "metadata": {},
                    "output_type": "execute_result"
                }
            ],
            "source": [
                "# Load strategy using values set above\n",
                "from freqtrade.data.dataprovider import DataProvider\n",
                "from freqtrade.resolvers import StrategyResolver\n",
                "\n",
                "strategy = StrategyResolver.load_strategy(config)\n",
                "strategy.dp = DataProvider(config, None, None)\n",
                "strategy.ft_bot_start()\n",
                "\n",
                "# Generate buy/sell signals using strategy\n",
                "df = strategy.analyze_ticker(candles, {\"pair\": pair})\n",
                "df.tail()"
            ]
        },
        {
            "cell_type": "markdown",
            "metadata": {},
            "source": [
                "### Display the trade details"
            ]
        },
        {
            "cell_type": "code",
            "execution_count": 5,
            "metadata": {},
            "outputs": [
                {
                    "name": "stdout",
                    "output_type": "stream",
                    "text": [
                        "Generated 553.0 long entry signals\n",
                        "Generated 613.0 short entry signals\n"
                    ]
                },
                {
                    "data": {
                        "text/html": [
                            "<div>\n",
                            "<style scoped>\n",
                            "    .dataframe tbody tr th:only-of-type {\n",
                            "        vertical-align: middle;\n",
                            "    }\n",
                            "\n",
                            "    .dataframe tbody tr th {\n",
                            "        vertical-align: top;\n",
                            "    }\n",
                            "\n",
                            "    .dataframe thead th {\n",
                            "        text-align: right;\n",
                            "    }\n",
                            "</style>\n",
                            "<table border=\"1\" class=\"dataframe\">\n",
                            "  <thead>\n",
                            "    <tr style=\"text-align: right;\">\n",
                            "      <th></th>\n",
                            "      <th>date</th>\n",
                            "      <th>open</th>\n",
                            "      <th>high</th>\n",
                            "      <th>low</th>\n",
                            "      <th>close</th>\n",
                            "      <th>volume</th>\n",
                            "      <th>day</th>\n",
                            "      <th>delta</th>\n",
                            "      <th>cvd</th>\n",
                            "      <th>pivot_low</th>\n",
                            "      <th>...</th>\n",
                            "      <th>poc</th>\n",
                            "      <th>atr</th>\n",
                            "      <th>enter_tag</th>\n",
                            "      <th>enter_long</th>\n",
                            "      <th>enter_short</th>\n",
                            "      <th>atr_stoploss_long</th>\n",
                            "      <th>atr_stoploss_short</th>\n",
                            "      <th>exit_tag</th>\n",
                            "      <th>exit_long</th>\n",
                            "      <th>exit_short</th>\n",
                            "    </tr>\n",
                            "    <tr>\n",
                            "      <th>date</th>\n",
                            "      <th></th>\n",
                            "      <th></th>\n",
                            "      <th></th>\n",
                            "      <th></th>\n",
                            "      <th></th>\n",
                            "      <th></th>\n",
                            "      <th></th>\n",
                            "      <th></th>\n",
                            "      <th></th>\n",
                            "      <th></th>\n",
                            "      <th></th>\n",
                            "      <th></th>\n",
                            "      <th></th>\n",
                            "      <th></th>\n",
                            "      <th></th>\n",
                            "      <th></th>\n",
                            "      <th></th>\n",
                            "      <th></th>\n",
                            "      <th></th>\n",
                            "      <th></th>\n",
                            "      <th></th>\n",
                            "    </tr>\n",
                            "  </thead>\n",
                            "  <tbody>\n",
                            "    <tr>\n",
                            "      <th>2024-09-27 15:20:00+00:00</th>\n",
                            "      <td>2024-09-27 15:20:00+00:00</td>\n",
                            "      <td>66342.0</td>\n",
                            "      <td>66388.8</td>\n",
                            "      <td>66270.0</td>\n",
                            "      <td>66302.3</td>\n",
                            "      <td>1052.536</td>\n",
                            "      <td>2024-09-27</td>\n",
                            "      <td>-72.0</td>\n",
                            "      <td>1215.4</td>\n",
                            "      <td>NaN</td>\n",
                            "      <td>...</td>\n",
                            "      <td>66235.173</td>\n",
                            "      <td>159.052035</td>\n",
                            "      <td></td>\n",
                            "      <td>NaN</td>\n",
                            "      <td>NaN</td>\n",
                            "      <td>65984.195931</td>\n",
                            "      <td>66620.404069</td>\n",
                            "      <td>POC_Upper</td>\n",
                            "      <td>1.0</td>\n",
                            "      <td>1.0</td>\n",
                            "    </tr>\n",
                            "    <tr>\n",
                            "      <th>2024-09-27 15:25:00+00:00</th>\n",
                            "      <td>2024-09-27 15:25:00+00:00</td>\n",
                            "      <td>66302.3</td>\n",
                            "      <td>66330.0</td>\n",
                            "      <td>66222.3</td>\n",
                            "      <td>66303.1</td>\n",
                            "      <td>657.397</td>\n",
                            "      <td>2024-09-27</td>\n",
                            "      <td>27.7</td>\n",
                            "      <td>1243.1</td>\n",
                            "      <td>NaN</td>\n",
                            "      <td>...</td>\n",
                            "      <td>66235.173</td>\n",
                            "      <td>155.384032</td>\n",
                            "      <td></td>\n",
                            "      <td>NaN</td>\n",
                            "      <td>NaN</td>\n",
                            "      <td>65992.331936</td>\n",
                            "      <td>66613.868064</td>\n",
                            "      <td>POC_Upper</td>\n",
                            "      <td>1.0</td>\n",
                            "      <td>NaN</td>\n",
                            "    </tr>\n",
                            "    <tr>\n",
                            "      <th>2024-09-27 15:30:00+00:00</th>\n",
                            "      <td>2024-09-27 15:30:00+00:00</td>\n",
                            "      <td>66303.2</td>\n",
                            "      <td>66322.0</td>\n",
                            "      <td>66231.0</td>\n",
                            "      <td>66258.5</td>\n",
                            "      <td>673.062</td>\n",
                            "      <td>2024-09-27</td>\n",
                            "      <td>-63.5</td>\n",
                            "      <td>1179.6</td>\n",
                            "      <td>NaN</td>\n",
                            "      <td>...</td>\n",
                            "      <td>66235.173</td>\n",
                            "      <td>150.785173</td>\n",
                            "      <td></td>\n",
                            "      <td>NaN</td>\n",
                            "      <td>NaN</td>\n",
                            "      <td>65956.929655</td>\n",
                            "      <td>66560.070345</td>\n",
                            "      <td>POC_Upper</td>\n",
                            "      <td>1.0</td>\n",
                            "      <td>NaN</td>\n",
                            "    </tr>\n",
                            "    <tr>\n",
                            "      <th>2024-09-27 15:35:00+00:00</th>\n",
                            "      <td>2024-09-27 15:35:00+00:00</td>\n",
                            "      <td>66258.6</td>\n",
                            "      <td>66276.0</td>\n",
                            "      <td>66183.4</td>\n",
                            "      <td>66200.0</td>\n",
                            "      <td>610.517</td>\n",
                            "      <td>2024-09-27</td>\n",
                            "      <td>-75.1</td>\n",
                            "      <td>1104.5</td>\n",
                            "      <td>NaN</td>\n",
                            "      <td>...</td>\n",
                            "      <td>66235.173</td>\n",
                            "      <td>146.629089</td>\n",
                            "      <td></td>\n",
                            "      <td>NaN</td>\n",
                            "      <td>NaN</td>\n",
                            "      <td>65906.741822</td>\n",
                            "      <td>66493.258178</td>\n",
                            "      <td>POC_Upper</td>\n",
                            "      <td>1.0</td>\n",
                            "      <td>NaN</td>\n",
                            "    </tr>\n",
                            "    <tr>\n",
                            "      <th>2024-09-27 15:40:00+00:00</th>\n",
                            "      <td>2024-09-27 15:40:00+00:00</td>\n",
                            "      <td>66200.0</td>\n",
                            "      <td>66289.0</td>\n",
                            "      <td>66158.4</td>\n",
                            "      <td>66170.2</td>\n",
                            "      <td>749.706</td>\n",
                            "      <td>2024-09-27</td>\n",
                            "      <td>-41.6</td>\n",
                            "      <td>1062.9</td>\n",
                            "      <td>NaN</td>\n",
                            "      <td>...</td>\n",
                            "      <td>66235.173</td>\n",
                            "      <td>145.484154</td>\n",
                            "      <td></td>\n",
                            "      <td>NaN</td>\n",
                            "      <td>NaN</td>\n",
                            "      <td>65879.231692</td>\n",
                            "      <td>66461.168308</td>\n",
                            "      <td>POC_Upper</td>\n",
                            "      <td>1.0</td>\n",
                            "      <td>NaN</td>\n",
                            "    </tr>\n",
                            "  </tbody>\n",
                            "</table>\n",
                            "<p>5 rows × 28 columns</p>\n",
                            "</div>"
                        ],
                        "text/plain": [
                            "                                               date     open     high  \\\n",
                            "date                                                                    \n",
                            "2024-09-27 15:20:00+00:00 2024-09-27 15:20:00+00:00  66342.0  66388.8   \n",
                            "2024-09-27 15:25:00+00:00 2024-09-27 15:25:00+00:00  66302.3  66330.0   \n",
                            "2024-09-27 15:30:00+00:00 2024-09-27 15:30:00+00:00  66303.2  66322.0   \n",
                            "2024-09-27 15:35:00+00:00 2024-09-27 15:35:00+00:00  66258.6  66276.0   \n",
                            "2024-09-27 15:40:00+00:00 2024-09-27 15:40:00+00:00  66200.0  66289.0   \n",
                            "\n",
                            "                               low    close    volume         day  delta  \\\n",
                            "date                                                                       \n",
                            "2024-09-27 15:20:00+00:00  66270.0  66302.3  1052.536  2024-09-27  -72.0   \n",
                            "2024-09-27 15:25:00+00:00  66222.3  66303.1   657.397  2024-09-27   27.7   \n",
                            "2024-09-27 15:30:00+00:00  66231.0  66258.5   673.062  2024-09-27  -63.5   \n",
                            "2024-09-27 15:35:00+00:00  66183.4  66200.0   610.517  2024-09-27  -75.1   \n",
                            "2024-09-27 15:40:00+00:00  66158.4  66170.2   749.706  2024-09-27  -41.6   \n",
                            "\n",
                            "                              cvd  pivot_low  ...        poc         atr  \\\n",
                            "date                                          ...                          \n",
                            "2024-09-27 15:20:00+00:00  1215.4        NaN  ...  66235.173  159.052035   \n",
                            "2024-09-27 15:25:00+00:00  1243.1        NaN  ...  66235.173  155.384032   \n",
                            "2024-09-27 15:30:00+00:00  1179.6        NaN  ...  66235.173  150.785173   \n",
                            "2024-09-27 15:35:00+00:00  1104.5        NaN  ...  66235.173  146.629089   \n",
                            "2024-09-27 15:40:00+00:00  1062.9        NaN  ...  66235.173  145.484154   \n",
                            "\n",
                            "                           enter_tag  enter_long  enter_short  \\\n",
                            "date                                                            \n",
                            "2024-09-27 15:20:00+00:00                    NaN          NaN   \n",
                            "2024-09-27 15:25:00+00:00                    NaN          NaN   \n",
                            "2024-09-27 15:30:00+00:00                    NaN          NaN   \n",
                            "2024-09-27 15:35:00+00:00                    NaN          NaN   \n",
                            "2024-09-27 15:40:00+00:00                    NaN          NaN   \n",
                            "\n",
                            "                           atr_stoploss_long  atr_stoploss_short   exit_tag  \\\n",
                            "date                                                                          \n",
                            "2024-09-27 15:20:00+00:00       65984.195931        66620.404069  POC_Upper   \n",
                            "2024-09-27 15:25:00+00:00       65992.331936        66613.868064  POC_Upper   \n",
                            "2024-09-27 15:30:00+00:00       65956.929655        66560.070345  POC_Upper   \n",
                            "2024-09-27 15:35:00+00:00       65906.741822        66493.258178  POC_Upper   \n",
                            "2024-09-27 15:40:00+00:00       65879.231692        66461.168308  POC_Upper   \n",
                            "\n",
                            "                           exit_long  exit_short  \n",
                            "date                                              \n",
                            "2024-09-27 15:20:00+00:00        1.0         1.0  \n",
                            "2024-09-27 15:25:00+00:00        1.0         NaN  \n",
                            "2024-09-27 15:30:00+00:00        1.0         NaN  \n",
                            "2024-09-27 15:35:00+00:00        1.0         NaN  \n",
                            "2024-09-27 15:40:00+00:00        1.0         NaN  \n",
                            "\n",
                            "[5 rows x 28 columns]"
                        ]
                    },
                    "execution_count": 5,
                    "metadata": {},
                    "output_type": "execute_result"
                }
            ],
            "source": [
                "# Report results\n",
                "print(f\"Generated {df['enter_long'].sum()} long entry signals\")\n",
                "print(f\"Generated {df['enter_short'].sum()} short entry signals\")\n",
                "data = df.set_index(\"date\", drop=False)\n",
                "data.tail()"
            ]
        },
        {
            "cell_type": "markdown",
            "metadata": {},
            "source": [
                "## Load backtest results"
            ]
        },
        {
            "cell_type": "code",
            "execution_count": 6,
            "metadata": {},
            "outputs": [
                {
                    "name": "stdout",
                    "output_type": "stream",
                    "text": [
                        "Results per pair:\n",
                        "[{'key': 'BTC/USDT:USDT', 'trades': 137, 'profit_mean': 0.015837187457887356, 'profit_mean_pct': 1.58, 'profit_sum': 2.169694681730568, 'profit_sum_pct': 216.97, 'profit_total_abs': 5870.28207402, 'profit_total': 5.87028207402, 'profit_total_pct': 587.03, 'duration_avg': '0:58:00', 'wins': 85, 'draws': 0, 'losses': 52, 'winrate': 0.6204379562043796}, {'key': 'TOTAL', 'trades': 137, 'profit_mean': 0.015837187457887356, 'profit_mean_pct': 1.58, 'profit_sum': 2.169694681730568, 'profit_sum_pct': 216.97, 'profit_total_abs': 5870.28207402, 'profit_total': 5.87028207402, 'profit_total_pct': 587.03, 'duration_avg': '0:58:00', 'wins': 85, 'draws': 0, 'losses': 52, 'winrate': 0.6204379562043796}]\n",
                        "\n",
                        "Pairlist:\n",
                        "['BTC/USDT:USDT']\n",
                        "\n",
                        "Market change: 0.4869300682657392\n",
                        "Drawdown start: 2024-08-31 22:15:00\n",
                        "Drawdown end: 2024-09-21 23:40:00\n",
                        "\n",
                        "Exit reasons per pair:\n",
                        "pair           exit_reason\n",
                        "BTC/USDT:USDT  VWAP_Lower     78\n",
                        "               Bull_Div       20\n",
                        "               stop_loss      20\n",
                        "               Bear_Div       12\n",
                        "               POC_Lower       5\n",
                        "               POC_Upper       1\n",
                        "               VWAP_Upper      1\n",
                        "Name: count, dtype: int64\n"
                    ]
                }
            ],
            "source": [
                "from freqtrade.data.btanalysis import load_backtest_data, load_backtest_stats\n",
                "from constants import BACKTEST_RESULTS_DIR\n",
                "\n",
                "# Load backtest statistics\n",
                "stats = load_backtest_stats(BACKTEST_RESULTS_DIR)\n",
                "\n",
                "strategy = \"CVDDivergence\"\n",
                "# Example usages:\n",
                "print(\"Results per pair:\")\n",
                "print(stats[\"strategy\"][strategy][\"results_per_pair\"])\n",
                "print(\"\\nPairlist:\")\n",
                "print(stats[\"strategy\"][strategy][\"pairlist\"])\n",
                "print(f\"\\nMarket change: {stats['strategy'][strategy]['market_change']}\")\n",
                "print(f\"Drawdown start: {stats['strategy'][strategy]['drawdown_start']}\")\n",
                "print(f\"Drawdown end: {stats['strategy'][strategy]['drawdown_end']}\")\n",
                "\n",
                "# Load backtested trades as dataframe\n",
                "trades = load_backtest_data(BACKTEST_RESULTS_DIR)\n",
                "\n",
                "if len(trades) > 0:\n",
                "    print(\"\\nExit reasons per pair:\")\n",
                "    print(trades.groupby(\"pair\")[\"exit_reason\"].value_counts())"
            ]
        },
        {
            "cell_type": "markdown",
            "metadata": {},
            "source": [
                "## Plotting daily profit / equity line"
            ]
        },
        {
            "cell_type": "code",
            "execution_count": 7,
            "metadata": {},
            "outputs": [
                {
                    "data": {
                        "application/vnd.plotly.v1+json": {
                            "config": {
                                "plotlyServerURL": "https://plot.ly"
                            },
                            "data": [
                                {
                                    "hovertemplate": "dates=%{x}<br>equity_daily=%{y}<extra></extra>",
                                    "legendgroup": "",
                                    "line": {
                                        "color": "#636efa",
                                        "dash": "solid"
                                    },
                                    "marker": {
                                        "symbol": "circle"
                                    },
                                    "mode": "lines",
                                    "name": "",
                                    "orientation": "v",
                                    "showlegend": false,
                                    "type": "scatter",
                                    "x": [
                                        "2024-01-07",
                                        "2024-01-08",
                                        "2024-01-09",
                                        "2024-01-10",
                                        "2024-01-11",
                                        "2024-01-12",
                                        "2024-01-13",
                                        "2024-01-14",
                                        "2024-01-15",
                                        "2024-01-16",
                                        "2024-01-17",
                                        "2024-01-18",
                                        "2024-01-19",
                                        "2024-01-20",
                                        "2024-01-21",
                                        "2024-01-22",
                                        "2024-01-23",
                                        "2024-01-24",
                                        "2024-01-25",
                                        "2024-01-26",
                                        "2024-01-27",
                                        "2024-01-28",
                                        "2024-01-29",
                                        "2024-01-30",
                                        "2024-01-31",
                                        "2024-02-01",
                                        "2024-02-02",
                                        "2024-02-03",
                                        "2024-02-04",
                                        "2024-02-05",
                                        "2024-02-06",
                                        "2024-02-07",
                                        "2024-02-08",
                                        "2024-02-09",
                                        "2024-02-10",
                                        "2024-02-11",
                                        "2024-02-12",
                                        "2024-02-13",
                                        "2024-02-14",
                                        "2024-02-15",
                                        "2024-02-16",
                                        "2024-02-17",
                                        "2024-02-18",
                                        "2024-02-19",
                                        "2024-02-20",
                                        "2024-02-21",
                                        "2024-02-22",
                                        "2024-02-23",
                                        "2024-02-24",
                                        "2024-02-25",
                                        "2024-02-26",
                                        "2024-02-27",
                                        "2024-02-28",
                                        "2024-02-29",
                                        "2024-03-01",
                                        "2024-03-02",
                                        "2024-03-03",
                                        "2024-03-04",
                                        "2024-03-05",
                                        "2024-03-06",
                                        "2024-03-07",
                                        "2024-03-08",
                                        "2024-03-09",
                                        "2024-03-10",
                                        "2024-03-11",
                                        "2024-03-12",
                                        "2024-03-13",
                                        "2024-03-14",
                                        "2024-03-15",
                                        "2024-03-16",
                                        "2024-03-17",
                                        "2024-03-18",
                                        "2024-03-19",
                                        "2024-03-20",
                                        "2024-03-21",
                                        "2024-03-22",
                                        "2024-03-23",
                                        "2024-03-24",
                                        "2024-03-25",
                                        "2024-03-26",
                                        "2024-03-27",
                                        "2024-03-28",
                                        "2024-03-29",
                                        "2024-03-30",
                                        "2024-03-31",
                                        "2024-04-01",
                                        "2024-04-02",
                                        "2024-04-03",
                                        "2024-04-04",
                                        "2024-04-05",
                                        "2024-04-06",
                                        "2024-04-07",
                                        "2024-04-08",
                                        "2024-04-09",
                                        "2024-04-10",
                                        "2024-04-11",
                                        "2024-04-12",
                                        "2024-04-13",
                                        "2024-04-14",
                                        "2024-04-15",
                                        "2024-04-16",
                                        "2024-04-17",
                                        "2024-04-18",
                                        "2024-04-19",
                                        "2024-04-20",
                                        "2024-04-21",
                                        "2024-04-22",
                                        "2024-04-23",
                                        "2024-04-24",
                                        "2024-04-25",
                                        "2024-04-26",
                                        "2024-04-27",
                                        "2024-04-28",
                                        "2024-04-29",
                                        "2024-04-30",
                                        "2024-05-01",
                                        "2024-05-02",
                                        "2024-05-03",
                                        "2024-05-04",
                                        "2024-05-05",
                                        "2024-05-06",
                                        "2024-05-07",
                                        "2024-05-08",
                                        "2024-05-09",
                                        "2024-05-10",
                                        "2024-05-11",
                                        "2024-05-12",
                                        "2024-05-13",
                                        "2024-05-14",
                                        "2024-05-15",
                                        "2024-05-16",
                                        "2024-05-17",
                                        "2024-05-18",
                                        "2024-05-19",
                                        "2024-05-20",
                                        "2024-05-21",
                                        "2024-05-22",
                                        "2024-05-23",
                                        "2024-05-24",
                                        "2024-05-25",
                                        "2024-05-26",
                                        "2024-05-27",
                                        "2024-05-28",
                                        "2024-05-29",
                                        "2024-05-30",
                                        "2024-05-31",
                                        "2024-06-01",
                                        "2024-06-02",
                                        "2024-06-03",
                                        "2024-06-04",
                                        "2024-06-05",
                                        "2024-06-06",
                                        "2024-06-07",
                                        "2024-06-08",
                                        "2024-06-09",
                                        "2024-06-10",
                                        "2024-06-11",
                                        "2024-06-12",
                                        "2024-06-13",
                                        "2024-06-14",
                                        "2024-06-15",
                                        "2024-06-16",
                                        "2024-06-17",
                                        "2024-06-18",
                                        "2024-06-19",
                                        "2024-06-20",
                                        "2024-06-21",
                                        "2024-06-22",
                                        "2024-06-23",
                                        "2024-06-24",
                                        "2024-06-25",
                                        "2024-06-26",
                                        "2024-06-27",
                                        "2024-06-28",
                                        "2024-06-29",
                                        "2024-06-30",
                                        "2024-07-01",
                                        "2024-07-02",
                                        "2024-07-03",
                                        "2024-07-04",
                                        "2024-07-05",
                                        "2024-07-06",
                                        "2024-07-07",
                                        "2024-07-08",
                                        "2024-07-09",
                                        "2024-07-10",
                                        "2024-07-11",
                                        "2024-07-12",
                                        "2024-07-13",
                                        "2024-07-14",
                                        "2024-07-15",
                                        "2024-07-16",
                                        "2024-07-17",
                                        "2024-07-18",
                                        "2024-07-19",
                                        "2024-07-20",
                                        "2024-07-21",
                                        "2024-07-22",
                                        "2024-07-23",
                                        "2024-07-24",
                                        "2024-07-25",
                                        "2024-07-26",
                                        "2024-07-27",
                                        "2024-07-28",
                                        "2024-07-29",
                                        "2024-07-30",
                                        "2024-07-31",
                                        "2024-08-01",
                                        "2024-08-02",
                                        "2024-08-03",
                                        "2024-08-04",
                                        "2024-08-05",
                                        "2024-08-06",
                                        "2024-08-07",
                                        "2024-08-08",
                                        "2024-08-09",
                                        "2024-08-10",
                                        "2024-08-11",
                                        "2024-08-12",
                                        "2024-08-13",
                                        "2024-08-14",
                                        "2024-08-15",
                                        "2024-08-16",
                                        "2024-08-17",
                                        "2024-08-18",
                                        "2024-08-19",
                                        "2024-08-20",
                                        "2024-08-21",
                                        "2024-08-22",
                                        "2024-08-23",
                                        "2024-08-24",
                                        "2024-08-25",
                                        "2024-08-26",
                                        "2024-08-27",
                                        "2024-08-28",
                                        "2024-08-29",
                                        "2024-08-30",
                                        "2024-08-31",
                                        "2024-09-01",
                                        "2024-09-02",
                                        "2024-09-03",
                                        "2024-09-04",
                                        "2024-09-05",
                                        "2024-09-06",
                                        "2024-09-07",
                                        "2024-09-08",
                                        "2024-09-09",
                                        "2024-09-10",
                                        "2024-09-11",
                                        "2024-09-12",
                                        "2024-09-13",
                                        "2024-09-14",
                                        "2024-09-15",
                                        "2024-09-16",
                                        "2024-09-17",
                                        "2024-09-18",
                                        "2024-09-19",
                                        "2024-09-20",
                                        "2024-09-21",
                                        "2024-09-22",
                                        "2024-09-23",
                                        "2024-09-24"
                                    ],
                                    "xaxis": "x",
                                    "y": [
                                        -42.25545433,
                                        -42.25545433,
                                        -42.25545433,
                                        -42.25545433,
                                        -42.25545433,
                                        -24.84922237,
                                        -24.84922237,
                                        18.318964299999998,
                                        18.318964299999998,
                                        8.837768689999997,
                                        96.88848218999999,
                                        51.68300025999999,
                                        51.68300025999999,
                                        56.893358019999994,
                                        181.46601782,
                                        181.46601782,
                                        28.34702021999999,
                                        28.34702021999999,
                                        66.31804272,
                                        66.31804272,
                                        66.31804272,
                                        66.31804272,
                                        66.31804272,
                                        66.31804272,
                                        66.31804272,
                                        66.31804272,
                                        182.09332161999998,
                                        182.09332161999998,
                                        182.09332161999998,
                                        182.09332161999998,
                                        182.09332161999998,
                                        174.51686414999998,
                                        125.96864117999998,
                                        200.93675637999996,
                                        200.93675637999996,
                                        200.93675637999996,
                                        195.31780172999996,
                                        208.12715448999995,
                                        208.12715448999995,
                                        170.91949135999994,
                                        170.91949135999994,
                                        312.17068901999994,
                                        312.17068901999994,
                                        312.17068901999994,
                                        312.17068901999994,
                                        312.17068901999994,
                                        853.9197491399999,
                                        853.9197491399999,
                                        905.9834531399999,
                                        895.46719291,
                                        895.46719291,
                                        914.46752077,
                                        912.9685528699999,
                                        896.6470883,
                                        896.6470883,
                                        896.6470883,
                                        941.4963186599999,
                                        941.4963186599999,
                                        941.4963186599999,
                                        941.4963186599999,
                                        980.59101287,
                                        980.59101287,
                                        980.59101287,
                                        1041.96211455,
                                        1041.96211455,
                                        1041.96211455,
                                        1159.71130843,
                                        1373.14345257,
                                        1373.14345257,
                                        1373.14345257,
                                        1373.14345257,
                                        1580.13199902,
                                        1580.13199902,
                                        1580.13199902,
                                        1697.90164482,
                                        1693.2820071,
                                        1963.7902758700002,
                                        2019.2568218100002,
                                        2019.2568218100002,
                                        2541.5725789800003,
                                        2396.2167747000003,
                                        2694.6811869700005,
                                        2877.1113224600003,
                                        2877.1113224600003,
                                        2631.9718550600005,
                                        2631.9718550600005,
                                        2631.9718550600005,
                                        2631.9718550600005,
                                        2546.4106911100007,
                                        2461.235624950001,
                                        2461.235624950001,
                                        2461.235624950001,
                                        2444.655961030001,
                                        2639.362151220001,
                                        2669.286811080001,
                                        3042.779962830001,
                                        3042.779962830001,
                                        3596.134767890001,
                                        3536.794187070001,
                                        3536.794187070001,
                                        3800.051744320001,
                                        3800.051744320001,
                                        3800.051744320001,
                                        3800.051744320001,
                                        3951.396650720001,
                                        3805.7931960100013,
                                        3805.7931960100013,
                                        3805.7931960100013,
                                        3805.7931960100013,
                                        4101.2174627700015,
                                        4261.300957680001,
                                        3692.9874896800015,
                                        3692.9874896800015,
                                        3692.9874896800015,
                                        3692.9874896800015,
                                        3818.1793071600014,
                                        3818.1793071600014,
                                        3818.1793071600014,
                                        3818.1793071600014,
                                        3818.1793071600014,
                                        3721.3326630400015,
                                        3721.3326630400015,
                                        3721.3326630400015,
                                        3721.3326630400015,
                                        3721.3326630400015,
                                        3721.3326630400015,
                                        3861.2742296800016,
                                        4249.676699980002,
                                        4162.922545210002,
                                        4162.922545210002,
                                        4162.922545210002,
                                        4162.922545210002,
                                        3706.0505679100015,
                                        3633.2439177600018,
                                        3633.2439177600018,
                                        3633.2439177600018,
                                        4165.077799190001,
                                        4165.077799190001,
                                        4343.298376550001,
                                        4343.298376550001,
                                        4343.298376550001,
                                        4343.298376550001,
                                        4743.937922630002,
                                        4743.937922630002,
                                        4743.937922630002,
                                        4743.937922630002,
                                        4743.937922630002,
                                        4743.937922630002,
                                        4743.937922630002,
                                        4743.937922630002,
                                        4855.732145720001,
                                        5025.716728760001,
                                        5300.345318660002,
                                        5034.015743360002,
                                        5034.015743360002,
                                        5306.765280860001,
                                        5306.765280860001,
                                        5306.765280860001,
                                        5306.765280860001,
                                        5306.765280860001,
                                        5306.765280860001,
                                        5306.765280860001,
                                        5592.8437046200015,
                                        5801.494727020002,
                                        5801.494727020002,
                                        5801.494727020002,
                                        5801.494727020002,
                                        5801.494727020002,
                                        5440.503385260002,
                                        5440.503385260002,
                                        5440.503385260002,
                                        6172.986707140002,
                                        6227.297968170003,
                                        6227.297968170003,
                                        6227.297968170003,
                                        6227.297968170003,
                                        6227.297968170003,
                                        6227.297968170003,
                                        6227.297968170003,
                                        6227.297968170003,
                                        5898.471474180003,
                                        5898.471474180003,
                                        5898.471474180003,
                                        5898.471474180003,
                                        6053.535089390002,
                                        6053.535089390002,
                                        5919.920837190002,
                                        6394.363046990002,
                                        6394.363046990002,
                                        6394.363046990002,
                                        6085.664513140002,
                                        5653.362883390002,
                                        5732.513272920002,
                                        5732.513272920002,
                                        5732.513272920002,
                                        6194.4076089200025,
                                        6103.1630185600025,
                                        6103.1630185600025,
                                        6103.1630185600025,
                                        6235.090010650002,
                                        6235.090010650002,
                                        6235.090010650002,
                                        6235.090010650002,
                                        6184.017313100002,
                                        6156.622125460002,
                                        6156.622125460002,
                                        6156.622125460002,
                                        6156.622125460002,
                                        6156.622125460002,
                                        6156.622125460002,
                                        6339.706612760002,
                                        6339.706612760002,
                                        6742.247166600002,
                                        6742.247166600002,
                                        6742.247166600002,
                                        6742.247166600002,
                                        7440.456185000002,
                                        7077.995163570002,
                                        7149.157135660002,
                                        7149.157135660002,
                                        7149.157135660002,
                                        7196.766166420001,
                                        7196.766166420001,
                                        7496.5668241600015,
                                        7496.5668241600015,
                                        7496.5668241600015,
                                        7496.5668241600015,
                                        7496.5668241600015,
                                        7496.5668241600015,
                                        7543.239087080002,
                                        7543.239087080002,
                                        7304.857353590001,
                                        7304.857353590001,
                                        7304.857353590001,
                                        7304.857353590001,
                                        7304.857353590001,
                                        7759.561070590002,
                                        7784.456721640002,
                                        7626.535445200002,
                                        7626.535445200002,
                                        6220.475538450002,
                                        6481.585365660002,
                                        6481.585365660002,
                                        6481.585365660002,
                                        6481.585365660002,
                                        7033.846065200002,
                                        7033.846065200002,
                                        7033.846065200002,
                                        7033.846065200002,
                                        7128.208434110003,
                                        7128.208434110003,
                                        7320.313523280002,
                                        7171.195992540002,
                                        7171.195992540002,
                                        7865.733877990002,
                                        7119.528814280002,
                                        7119.528814280002,
                                        7119.528814280002,
                                        5752.891744730002,
                                        5752.891744730002,
                                        5752.891744730002,
                                        5870.282074020002
                                    ],
                                    "yaxis": "y"
                                }
                            ],
                            "layout": {
                                "legend": {
                                    "tracegroupgap": 0
                                },
                                "template": {
                                    "data": {
                                        "bar": [
                                            {
                                                "error_x": {
                                                    "color": "#2a3f5f"
                                                },
                                                "error_y": {
                                                    "color": "#2a3f5f"
                                                },
                                                "marker": {
                                                    "line": {
                                                        "color": "#E5ECF6",
                                                        "width": 0.5
                                                    },
                                                    "pattern": {
                                                        "fillmode": "overlay",
                                                        "size": 10,
                                                        "solidity": 0.2
                                                    }
                                                },
                                                "type": "bar"
                                            }
                                        ],
                                        "barpolar": [
                                            {
                                                "marker": {
                                                    "line": {
                                                        "color": "#E5ECF6",
                                                        "width": 0.5
                                                    },
                                                    "pattern": {
                                                        "fillmode": "overlay",
                                                        "size": 10,
                                                        "solidity": 0.2
                                                    }
                                                },
                                                "type": "barpolar"
                                            }
                                        ],
                                        "carpet": [
                                            {
                                                "aaxis": {
                                                    "endlinecolor": "#2a3f5f",
                                                    "gridcolor": "white",
                                                    "linecolor": "white",
                                                    "minorgridcolor": "white",
                                                    "startlinecolor": "#2a3f5f"
                                                },
                                                "baxis": {
                                                    "endlinecolor": "#2a3f5f",
                                                    "gridcolor": "white",
                                                    "linecolor": "white",
                                                    "minorgridcolor": "white",
                                                    "startlinecolor": "#2a3f5f"
                                                },
                                                "type": "carpet"
                                            }
                                        ],
                                        "choropleth": [
                                            {
                                                "colorbar": {
                                                    "outlinewidth": 0,
                                                    "ticks": ""
                                                },
                                                "type": "choropleth"
                                            }
                                        ],
                                        "contour": [
                                            {
                                                "colorbar": {
                                                    "outlinewidth": 0,
                                                    "ticks": ""
                                                },
                                                "colorscale": [
                                                    [
                                                        0,
                                                        "#0d0887"
                                                    ],
                                                    [
                                                        0.1111111111111111,
                                                        "#46039f"
                                                    ],
                                                    [
                                                        0.2222222222222222,
                                                        "#7201a8"
                                                    ],
                                                    [
                                                        0.3333333333333333,
                                                        "#9c179e"
                                                    ],
                                                    [
                                                        0.4444444444444444,
                                                        "#bd3786"
                                                    ],
                                                    [
                                                        0.5555555555555556,
                                                        "#d8576b"
                                                    ],
                                                    [
                                                        0.6666666666666666,
                                                        "#ed7953"
                                                    ],
                                                    [
                                                        0.7777777777777778,
                                                        "#fb9f3a"
                                                    ],
                                                    [
                                                        0.8888888888888888,
                                                        "#fdca26"
                                                    ],
                                                    [
                                                        1,
                                                        "#f0f921"
                                                    ]
                                                ],
                                                "type": "contour"
                                            }
                                        ],
                                        "contourcarpet": [
                                            {
                                                "colorbar": {
                                                    "outlinewidth": 0,
                                                    "ticks": ""
                                                },
                                                "type": "contourcarpet"
                                            }
                                        ],
                                        "heatmap": [
                                            {
                                                "colorbar": {
                                                    "outlinewidth": 0,
                                                    "ticks": ""
                                                },
                                                "colorscale": [
                                                    [
                                                        0,
                                                        "#0d0887"
                                                    ],
                                                    [
                                                        0.1111111111111111,
                                                        "#46039f"
                                                    ],
                                                    [
                                                        0.2222222222222222,
                                                        "#7201a8"
                                                    ],
                                                    [
                                                        0.3333333333333333,
                                                        "#9c179e"
                                                    ],
                                                    [
                                                        0.4444444444444444,
                                                        "#bd3786"
                                                    ],
                                                    [
                                                        0.5555555555555556,
                                                        "#d8576b"
                                                    ],
                                                    [
                                                        0.6666666666666666,
                                                        "#ed7953"
                                                    ],
                                                    [
                                                        0.7777777777777778,
                                                        "#fb9f3a"
                                                    ],
                                                    [
                                                        0.8888888888888888,
                                                        "#fdca26"
                                                    ],
                                                    [
                                                        1,
                                                        "#f0f921"
                                                    ]
                                                ],
                                                "type": "heatmap"
                                            }
                                        ],
                                        "heatmapgl": [
                                            {
                                                "colorbar": {
                                                    "outlinewidth": 0,
                                                    "ticks": ""
                                                },
                                                "colorscale": [
                                                    [
                                                        0,
                                                        "#0d0887"
                                                    ],
                                                    [
                                                        0.1111111111111111,
                                                        "#46039f"
                                                    ],
                                                    [
                                                        0.2222222222222222,
                                                        "#7201a8"
                                                    ],
                                                    [
                                                        0.3333333333333333,
                                                        "#9c179e"
                                                    ],
                                                    [
                                                        0.4444444444444444,
                                                        "#bd3786"
                                                    ],
                                                    [
                                                        0.5555555555555556,
                                                        "#d8576b"
                                                    ],
                                                    [
                                                        0.6666666666666666,
                                                        "#ed7953"
                                                    ],
                                                    [
                                                        0.7777777777777778,
                                                        "#fb9f3a"
                                                    ],
                                                    [
                                                        0.8888888888888888,
                                                        "#fdca26"
                                                    ],
                                                    [
                                                        1,
                                                        "#f0f921"
                                                    ]
                                                ],
                                                "type": "heatmapgl"
                                            }
                                        ],
                                        "histogram": [
                                            {
                                                "marker": {
                                                    "pattern": {
                                                        "fillmode": "overlay",
                                                        "size": 10,
                                                        "solidity": 0.2
                                                    }
                                                },
                                                "type": "histogram"
                                            }
                                        ],
                                        "histogram2d": [
                                            {
                                                "colorbar": {
                                                    "outlinewidth": 0,
                                                    "ticks": ""
                                                },
                                                "colorscale": [
                                                    [
                                                        0,
                                                        "#0d0887"
                                                    ],
                                                    [
                                                        0.1111111111111111,
                                                        "#46039f"
                                                    ],
                                                    [
                                                        0.2222222222222222,
                                                        "#7201a8"
                                                    ],
                                                    [
                                                        0.3333333333333333,
                                                        "#9c179e"
                                                    ],
                                                    [
                                                        0.4444444444444444,
                                                        "#bd3786"
                                                    ],
                                                    [
                                                        0.5555555555555556,
                                                        "#d8576b"
                                                    ],
                                                    [
                                                        0.6666666666666666,
                                                        "#ed7953"
                                                    ],
                                                    [
                                                        0.7777777777777778,
                                                        "#fb9f3a"
                                                    ],
                                                    [
                                                        0.8888888888888888,
                                                        "#fdca26"
                                                    ],
                                                    [
                                                        1,
                                                        "#f0f921"
                                                    ]
                                                ],
                                                "type": "histogram2d"
                                            }
                                        ],
                                        "histogram2dcontour": [
                                            {
                                                "colorbar": {
                                                    "outlinewidth": 0,
                                                    "ticks": ""
                                                },
                                                "colorscale": [
                                                    [
                                                        0,
                                                        "#0d0887"
                                                    ],
                                                    [
                                                        0.1111111111111111,
                                                        "#46039f"
                                                    ],
                                                    [
                                                        0.2222222222222222,
                                                        "#7201a8"
                                                    ],
                                                    [
                                                        0.3333333333333333,
                                                        "#9c179e"
                                                    ],
                                                    [
                                                        0.4444444444444444,
                                                        "#bd3786"
                                                    ],
                                                    [
                                                        0.5555555555555556,
                                                        "#d8576b"
                                                    ],
                                                    [
                                                        0.6666666666666666,
                                                        "#ed7953"
                                                    ],
                                                    [
                                                        0.7777777777777778,
                                                        "#fb9f3a"
                                                    ],
                                                    [
                                                        0.8888888888888888,
                                                        "#fdca26"
                                                    ],
                                                    [
                                                        1,
                                                        "#f0f921"
                                                    ]
                                                ],
                                                "type": "histogram2dcontour"
                                            }
                                        ],
                                        "mesh3d": [
                                            {
                                                "colorbar": {
                                                    "outlinewidth": 0,
                                                    "ticks": ""
                                                },
                                                "type": "mesh3d"
                                            }
                                        ],
                                        "parcoords": [
                                            {
                                                "line": {
                                                    "colorbar": {
                                                        "outlinewidth": 0,
                                                        "ticks": ""
                                                    }
                                                },
                                                "type": "parcoords"
                                            }
                                        ],
                                        "pie": [
                                            {
                                                "automargin": true,
                                                "type": "pie"
                                            }
                                        ],
                                        "scatter": [
                                            {
                                                "fillpattern": {
                                                    "fillmode": "overlay",
                                                    "size": 10,
                                                    "solidity": 0.2
                                                },
                                                "type": "scatter"
                                            }
                                        ],
                                        "scatter3d": [
                                            {
                                                "line": {
                                                    "colorbar": {
                                                        "outlinewidth": 0,
                                                        "ticks": ""
                                                    }
                                                },
                                                "marker": {
                                                    "colorbar": {
                                                        "outlinewidth": 0,
                                                        "ticks": ""
                                                    }
                                                },
                                                "type": "scatter3d"
                                            }
                                        ],
                                        "scattercarpet": [
                                            {
                                                "marker": {
                                                    "colorbar": {
                                                        "outlinewidth": 0,
                                                        "ticks": ""
                                                    }
                                                },
                                                "type": "scattercarpet"
                                            }
                                        ],
                                        "scattergeo": [
                                            {
                                                "marker": {
                                                    "colorbar": {
                                                        "outlinewidth": 0,
                                                        "ticks": ""
                                                    }
                                                },
                                                "type": "scattergeo"
                                            }
                                        ],
                                        "scattergl": [
                                            {
                                                "marker": {
                                                    "colorbar": {
                                                        "outlinewidth": 0,
                                                        "ticks": ""
                                                    }
                                                },
                                                "type": "scattergl"
                                            }
                                        ],
                                        "scattermapbox": [
                                            {
                                                "marker": {
                                                    "colorbar": {
                                                        "outlinewidth": 0,
                                                        "ticks": ""
                                                    }
                                                },
                                                "type": "scattermapbox"
                                            }
                                        ],
                                        "scatterpolar": [
                                            {
                                                "marker": {
                                                    "colorbar": {
                                                        "outlinewidth": 0,
                                                        "ticks": ""
                                                    }
                                                },
                                                "type": "scatterpolar"
                                            }
                                        ],
                                        "scatterpolargl": [
                                            {
                                                "marker": {
                                                    "colorbar": {
                                                        "outlinewidth": 0,
                                                        "ticks": ""
                                                    }
                                                },
                                                "type": "scatterpolargl"
                                            }
                                        ],
                                        "scatterternary": [
                                            {
                                                "marker": {
                                                    "colorbar": {
                                                        "outlinewidth": 0,
                                                        "ticks": ""
                                                    }
                                                },
                                                "type": "scatterternary"
                                            }
                                        ],
                                        "surface": [
                                            {
                                                "colorbar": {
                                                    "outlinewidth": 0,
                                                    "ticks": ""
                                                },
                                                "colorscale": [
                                                    [
                                                        0,
                                                        "#0d0887"
                                                    ],
                                                    [
                                                        0.1111111111111111,
                                                        "#46039f"
                                                    ],
                                                    [
                                                        0.2222222222222222,
                                                        "#7201a8"
                                                    ],
                                                    [
                                                        0.3333333333333333,
                                                        "#9c179e"
                                                    ],
                                                    [
                                                        0.4444444444444444,
                                                        "#bd3786"
                                                    ],
                                                    [
                                                        0.5555555555555556,
                                                        "#d8576b"
                                                    ],
                                                    [
                                                        0.6666666666666666,
                                                        "#ed7953"
                                                    ],
                                                    [
                                                        0.7777777777777778,
                                                        "#fb9f3a"
                                                    ],
                                                    [
                                                        0.8888888888888888,
                                                        "#fdca26"
                                                    ],
                                                    [
                                                        1,
                                                        "#f0f921"
                                                    ]
                                                ],
                                                "type": "surface"
                                            }
                                        ],
                                        "table": [
                                            {
                                                "cells": {
                                                    "fill": {
                                                        "color": "#EBF0F8"
                                                    },
                                                    "line": {
                                                        "color": "white"
                                                    }
                                                },
                                                "header": {
                                                    "fill": {
                                                        "color": "#C8D4E3"
                                                    },
                                                    "line": {
                                                        "color": "white"
                                                    }
                                                },
                                                "type": "table"
                                            }
                                        ]
                                    },
                                    "layout": {
                                        "annotationdefaults": {
                                            "arrowcolor": "#2a3f5f",
                                            "arrowhead": 0,
                                            "arrowwidth": 1
                                        },
                                        "autotypenumbers": "strict",
                                        "coloraxis": {
                                            "colorbar": {
                                                "outlinewidth": 0,
                                                "ticks": ""
                                            }
                                        },
                                        "colorscale": {
                                            "diverging": [
                                                [
                                                    0,
                                                    "#8e0152"
                                                ],
                                                [
                                                    0.1,
                                                    "#c51b7d"
                                                ],
                                                [
                                                    0.2,
                                                    "#de77ae"
                                                ],
                                                [
                                                    0.3,
                                                    "#f1b6da"
                                                ],
                                                [
                                                    0.4,
                                                    "#fde0ef"
                                                ],
                                                [
                                                    0.5,
                                                    "#f7f7f7"
                                                ],
                                                [
                                                    0.6,
                                                    "#e6f5d0"
                                                ],
                                                [
                                                    0.7,
                                                    "#b8e186"
                                                ],
                                                [
                                                    0.8,
                                                    "#7fbc41"
                                                ],
                                                [
                                                    0.9,
                                                    "#4d9221"
                                                ],
                                                [
                                                    1,
                                                    "#276419"
                                                ]
                                            ],
                                            "sequential": [
                                                [
                                                    0,
                                                    "#0d0887"
                                                ],
                                                [
                                                    0.1111111111111111,
                                                    "#46039f"
                                                ],
                                                [
                                                    0.2222222222222222,
                                                    "#7201a8"
                                                ],
                                                [
                                                    0.3333333333333333,
                                                    "#9c179e"
                                                ],
                                                [
                                                    0.4444444444444444,
                                                    "#bd3786"
                                                ],
                                                [
                                                    0.5555555555555556,
                                                    "#d8576b"
                                                ],
                                                [
                                                    0.6666666666666666,
                                                    "#ed7953"
                                                ],
                                                [
                                                    0.7777777777777778,
                                                    "#fb9f3a"
                                                ],
                                                [
                                                    0.8888888888888888,
                                                    "#fdca26"
                                                ],
                                                [
                                                    1,
                                                    "#f0f921"
                                                ]
                                            ],
                                            "sequentialminus": [
                                                [
                                                    0,
                                                    "#0d0887"
                                                ],
                                                [
                                                    0.1111111111111111,
                                                    "#46039f"
                                                ],
                                                [
                                                    0.2222222222222222,
                                                    "#7201a8"
                                                ],
                                                [
                                                    0.3333333333333333,
                                                    "#9c179e"
                                                ],
                                                [
                                                    0.4444444444444444,
                                                    "#bd3786"
                                                ],
                                                [
                                                    0.5555555555555556,
                                                    "#d8576b"
                                                ],
                                                [
                                                    0.6666666666666666,
                                                    "#ed7953"
                                                ],
                                                [
                                                    0.7777777777777778,
                                                    "#fb9f3a"
                                                ],
                                                [
                                                    0.8888888888888888,
                                                    "#fdca26"
                                                ],
                                                [
                                                    1,
                                                    "#f0f921"
                                                ]
                                            ]
                                        },
                                        "colorway": [
                                            "#636efa",
                                            "#EF553B",
                                            "#00cc96",
                                            "#ab63fa",
                                            "#FFA15A",
                                            "#19d3f3",
                                            "#FF6692",
                                            "#B6E880",
                                            "#FF97FF",
                                            "#FECB52"
                                        ],
                                        "font": {
                                            "color": "#2a3f5f"
                                        },
                                        "geo": {
                                            "bgcolor": "white",
                                            "lakecolor": "white",
                                            "landcolor": "#E5ECF6",
                                            "showlakes": true,
                                            "showland": true,
                                            "subunitcolor": "white"
                                        },
                                        "hoverlabel": {
                                            "align": "left"
                                        },
                                        "hovermode": "closest",
                                        "mapbox": {
                                            "style": "light"
                                        },
                                        "paper_bgcolor": "white",
                                        "plot_bgcolor": "#E5ECF6",
                                        "polar": {
                                            "angularaxis": {
                                                "gridcolor": "white",
                                                "linecolor": "white",
                                                "ticks": ""
                                            },
                                            "bgcolor": "#E5ECF6",
                                            "radialaxis": {
                                                "gridcolor": "white",
                                                "linecolor": "white",
                                                "ticks": ""
                                            }
                                        },
                                        "scene": {
                                            "xaxis": {
                                                "backgroundcolor": "#E5ECF6",
                                                "gridcolor": "white",
                                                "gridwidth": 2,
                                                "linecolor": "white",
                                                "showbackground": true,
                                                "ticks": "",
                                                "zerolinecolor": "white"
                                            },
                                            "yaxis": {
                                                "backgroundcolor": "#E5ECF6",
                                                "gridcolor": "white",
                                                "gridwidth": 2,
                                                "linecolor": "white",
                                                "showbackground": true,
                                                "ticks": "",
                                                "zerolinecolor": "white"
                                            },
                                            "zaxis": {
                                                "backgroundcolor": "#E5ECF6",
                                                "gridcolor": "white",
                                                "gridwidth": 2,
                                                "linecolor": "white",
                                                "showbackground": true,
                                                "ticks": "",
                                                "zerolinecolor": "white"
                                            }
                                        },
                                        "shapedefaults": {
                                            "line": {
                                                "color": "#2a3f5f"
                                            }
                                        },
                                        "ternary": {
                                            "aaxis": {
                                                "gridcolor": "white",
                                                "linecolor": "white",
                                                "ticks": ""
                                            },
                                            "baxis": {
                                                "gridcolor": "white",
                                                "linecolor": "white",
                                                "ticks": ""
                                            },
                                            "bgcolor": "#E5ECF6",
                                            "caxis": {
                                                "gridcolor": "white",
                                                "linecolor": "white",
                                                "ticks": ""
                                            }
                                        },
                                        "title": {
                                            "x": 0.05
                                        },
                                        "xaxis": {
                                            "automargin": true,
                                            "gridcolor": "white",
                                            "linecolor": "white",
                                            "ticks": "",
                                            "title": {
                                                "standoff": 15
                                            },
                                            "zerolinecolor": "white",
                                            "zerolinewidth": 2
                                        },
                                        "yaxis": {
                                            "automargin": true,
                                            "gridcolor": "white",
                                            "linecolor": "white",
                                            "ticks": "",
                                            "title": {
                                                "standoff": 15
                                            },
                                            "zerolinecolor": "white",
                                            "zerolinewidth": 2
                                        }
                                    }
                                },
                                "title": {
                                    "text": "CVDDivergence Strategy - Equity Curve"
                                },
                                "xaxis": {
                                    "anchor": "y",
                                    "domain": [
                                        0,
                                        1
                                    ],
                                    "title": {
                                        "text": "dates"
                                    }
                                },
                                "yaxis": {
                                    "anchor": "x",
                                    "domain": [
                                        0,
                                        1
                                    ],
                                    "title": {
                                        "text": "equity_daily"
                                    }
                                }
                            }
                        }
                    },
                    "metadata": {},
                    "output_type": "display_data"
                }
            ],
            "source": [
                "import pandas as pd\n",
                "import plotly.express as px\n",
                "\n",
                "strategy_stats = stats[\"strategy\"][strategy]\n",
                "\n",
                "df = pd.DataFrame(columns=[\"dates\", \"equity\"], data=strategy_stats[\"daily_profit\"])\n",
                "df[\"equity_daily\"] = df[\"equity\"].cumsum()\n",
                "\n",
                "fig = px.line(df, x=\"dates\", y=\"equity_daily\", title=\"CVDDivergence Strategy - Equity Curve\")\n",
                "fig.show()"
            ]
        },
        {
            "cell_type": "markdown",
            "metadata": {},
            "source": [
                "## Plot results"
            ]
        },
        {
            "cell_type": "code",
            "execution_count": 8,
            "metadata": {},
            "outputs": [
                {
                    "name": "stderr",
                    "output_type": "stream",
                    "text": [
                        "F:\\freqtrade\\freqtrade\\plot\\plotting.py:263: SettingWithCopyWarning:\n",
                        "\n",
                        "\n",
                        "A value is trying to be set on a copy of a slice from a DataFrame.\n",
                        "Try using .loc[row_indexer,col_indexer] = value instead\n",
                        "\n",
                        "See the caveats in the documentation: https://pandas.pydata.org/pandas-docs/stable/user_guide/indexing.html#returning-a-view-versus-a-copy\n",
                        "\n"
                    ]
                }
            ],
            "source": [
                "from freqtrade.plot.plotting import generate_candlestick_graph\n",
                "\n",
                "from_date = \"2024-09-01\"\n",
                "to_date = \"2024-09-27\"\n",
                "\n",
                "# Filter trades to one pair\n",
                "trades_filtered = trades.loc[(trades[\"pair\"] == pair) & (trades[\"open_date\"] >= pd.to_datetime(from_date, utc=True)) & (trades[\"close_date\"] <= pd.to_datetime(to_date, utc=True))]\n",
                "\n",
                "# Filter data for a specific date range\n",
                "data_filtered = data[from_date:to_date].drop(columns=[\"exit_short\", \"exit_long\"])\n",
                "\n",
                "# Generate candlestick graph with indicators for trade entry and losses\n",
                "graph = generate_candlestick_graph(\n",
                "    pair=pair,\n",
                "    data=data_filtered,\n",
                "    trades=trades_filtered,\n",
                "    indicators1=[\"vwap\", \"vwap_lower_2\", \"vwap_upper_2\", \"poc\"],\n",
                "    indicators2=[\"cvd_ma\"]\n",
                ")\n",
                "\n",
                "# Render graph in a separate window\n",
                "graph.show(renderer=\"browser\")"
            ]
        },
        {
            "cell_type": "code",
            "execution_count": 10,
            "metadata": {},
            "outputs": [
                {
                    "data": {
                        "text/html": [
                            "<div>\n",
                            "<style scoped>\n",
                            "    .dataframe tbody tr th:only-of-type {\n",
                            "        vertical-align: middle;\n",
                            "    }\n",
                            "\n",
                            "    .dataframe tbody tr th {\n",
                            "        vertical-align: top;\n",
                            "    }\n",
                            "\n",
                            "    .dataframe thead th {\n",
                            "        text-align: right;\n",
                            "    }\n",
                            "</style>\n",
                            "<table border=\"1\" class=\"dataframe\">\n",
                            "  <thead>\n",
                            "    <tr style=\"text-align: right;\">\n",
                            "      <th></th>\n",
                            "      <th>pair</th>\n",
                            "      <th>stake_amount</th>\n",
                            "      <th>max_stake_amount</th>\n",
                            "      <th>amount</th>\n",
                            "      <th>open_date</th>\n",
                            "      <th>close_date</th>\n",
                            "      <th>open_rate</th>\n",
                            "      <th>close_rate</th>\n",
                            "      <th>fee_open</th>\n",
                            "      <th>fee_close</th>\n",
                            "      <th>...</th>\n",
                            "      <th>min_rate</th>\n",
                            "      <th>max_rate</th>\n",
                            "      <th>is_open</th>\n",
                            "      <th>enter_tag</th>\n",
                            "      <th>leverage</th>\n",
                            "      <th>is_short</th>\n",
                            "      <th>open_timestamp</th>\n",
                            "      <th>close_timestamp</th>\n",
                            "      <th>orders</th>\n",
                            "      <th>desc</th>\n",
                            "    </tr>\n",
                            "  </thead>\n",
                            "  <tbody>\n",
                            "    <tr>\n",
                            "      <th>120</th>\n",
                            "      <td>BTC/USDT:USDT</td>\n",
                            "      <td>8538.949487</td>\n",
                            "      <td>143529.2632</td>\n",
                            "      <td>2.476</td>\n",
                            "      <td>2024-09-03 21:40:00+00:00</td>\n",
                            "      <td>2024-09-03 22:05:00+00:00</td>\n",
                            "      <td>57968.2</td>\n",
                            "      <td>58125.9</td>\n",
                            "      <td>0.0005</td>\n",
                            "      <td>0.0005</td>\n",
                            "      <td>...</td>\n",
                            "      <td>57941.0</td>\n",
                            "      <td>58157.0</td>\n",
                            "      <td>False</td>\n",
                            "      <td>Bull_POC</td>\n",
                            "      <td>16.808773</td>\n",
                            "      <td>False</td>\n",
                            "      <td>1725399600000</td>\n",
                            "      <td>1725401100000</td>\n",
                            "      <td>[{'amount': 2.476, 'safe_price': 57968.2, 'ft_...</td>\n",
                            "      <td>2.89%, Bull_POC, Bear_Div, 25 min</td>\n",
                            "    </tr>\n",
                            "    <tr>\n",
                            "      <th>121</th>\n",
                            "      <td>BTC/USDT:USDT</td>\n",
                            "      <td>8782.384814</td>\n",
                            "      <td>136397.0569</td>\n",
                            "      <td>2.353</td>\n",
                            "      <td>2024-09-03 22:10:00+00:00</td>\n",
                            "      <td>2024-09-03 23:00:00+00:00</td>\n",
                            "      <td>57967.3</td>\n",
                            "      <td>57780.7</td>\n",
                            "      <td>0.0005</td>\n",
                            "      <td>0.0005</td>\n",
                            "      <td>...</td>\n",
                            "      <td>57755.9</td>\n",
                            "      <td>58043.9</td>\n",
                            "      <td>False</td>\n",
                            "      <td>Bull_POC</td>\n",
                            "      <td>15.530754</td>\n",
                            "      <td>False</td>\n",
                            "      <td>1725401400000</td>\n",
                            "      <td>1725404400000</td>\n",
                            "      <td>[{'amount': 2.353, 'safe_price': 57967.3, 'ft_...</td>\n",
                            "      <td>-6.55%, Bull_POC, stop_loss, 50 min</td>\n",
                            "    </tr>\n",
                            "    <tr>\n",
                            "      <th>122</th>\n",
                            "      <td>BTC/USDT:USDT</td>\n",
                            "      <td>8212.752011</td>\n",
                            "      <td>148641.5384</td>\n",
                            "      <td>2.572</td>\n",
                            "      <td>2024-09-03 23:05:00+00:00</td>\n",
                            "      <td>2024-09-03 23:25:00+00:00</td>\n",
                            "      <td>57792.2</td>\n",
                            "      <td>57632.6</td>\n",
                            "      <td>0.0005</td>\n",
                            "      <td>0.0005</td>\n",
                            "      <td>...</td>\n",
                            "      <td>57631.0</td>\n",
                            "      <td>57796.4</td>\n",
                            "      <td>False</td>\n",
                            "      <td>Bull_POC</td>\n",
                            "      <td>18.098871</td>\n",
                            "      <td>False</td>\n",
                            "      <td>1725404700000</td>\n",
                            "      <td>1725405900000</td>\n",
                            "      <td>[{'amount': 2.572, 'safe_price': 57792.2, 'ft_...</td>\n",
                            "      <td>-6.80%, Bull_POC, stop_loss, 20 min</td>\n",
                            "    </tr>\n",
                            "    <tr>\n",
                            "      <th>123</th>\n",
                            "      <td>BTC/USDT:USDT</td>\n",
                            "      <td>7660.608929</td>\n",
                            "      <td>135951.5290</td>\n",
                            "      <td>2.359</td>\n",
                            "      <td>2024-09-03 23:30:00+00:00</td>\n",
                            "      <td>2024-09-03 23:50:00+00:00</td>\n",
                            "      <td>57631.0</td>\n",
                            "      <td>57468.7</td>\n",
                            "      <td>0.0005</td>\n",
                            "      <td>0.0005</td>\n",
                            "      <td>...</td>\n",
                            "      <td>57320.0</td>\n",
                            "      <td>57725.8</td>\n",
                            "      <td>False</td>\n",
                            "      <td>Bull_POC</td>\n",
                            "      <td>17.746831</td>\n",
                            "      <td>False</td>\n",
                            "      <td>1725406200000</td>\n",
                            "      <td>1725407400000</td>\n",
                            "      <td>[{'amount': 2.359, 'safe_price': 57631.0, 'ft_...</td>\n",
                            "      <td>-6.77%, Bull_POC, stop_loss, 20 min</td>\n",
                            "    </tr>\n",
                            "    <tr>\n",
                            "      <th>124</th>\n",
                            "      <td>BTC/USDT:USDT</td>\n",
                            "      <td>7144.954589</td>\n",
                            "      <td>103486.8778</td>\n",
                            "      <td>1.802</td>\n",
                            "      <td>2024-09-03 23:55:00+00:00</td>\n",
                            "      <td>2024-09-04 00:05:00+00:00</td>\n",
                            "      <td>57428.9</td>\n",
                            "      <td>57632.6</td>\n",
                            "      <td>0.0005</td>\n",
                            "      <td>0.0005</td>\n",
                            "      <td>...</td>\n",
                            "      <td>57384.6</td>\n",
                            "      <td>57737.7</td>\n",
                            "      <td>False</td>\n",
                            "      <td>Bull_POC</td>\n",
                            "      <td>14.483910</td>\n",
                            "      <td>False</td>\n",
                            "      <td>1725407700000</td>\n",
                            "      <td>1725408300000</td>\n",
                            "      <td>[{'amount': 1.802, 'safe_price': 57428.9, 'ft_...</td>\n",
                            "      <td>3.65%, Bull_POC, VWAP_Lower, 10 min</td>\n",
                            "    </tr>\n",
                            "    <tr>\n",
                            "      <th>125</th>\n",
                            "      <td>BTC/USDT:USDT</td>\n",
                            "      <td>7406.091939</td>\n",
                            "      <td>123572.8575</td>\n",
                            "      <td>2.297</td>\n",
                            "      <td>2024-09-07 23:10:00+00:00</td>\n",
                            "      <td>2024-09-08 00:05:00+00:00</td>\n",
                            "      <td>53797.5</td>\n",
                            "      <td>54093.9</td>\n",
                            "      <td>0.0005</td>\n",
                            "      <td>0.0005</td>\n",
                            "      <td>...</td>\n",
                            "      <td>53797.5</td>\n",
                            "      <td>54200.0</td>\n",
                            "      <td>False</td>\n",
                            "      <td>Bull_POC</td>\n",
                            "      <td>16.685299</td>\n",
                            "      <td>False</td>\n",
                            "      <td>1725750600000</td>\n",
                            "      <td>1725753900000</td>\n",
                            "      <td>[{'amount': 2.297, 'safe_price': 53797.5, 'ft_...</td>\n",
                            "      <td>7.45%, Bull_POC, VWAP_Lower, 55 min</td>\n",
                            "    </tr>\n",
                            "    <tr>\n",
                            "      <th>126</th>\n",
                            "      <td>BTC/USDT:USDT</td>\n",
                            "      <td>7951.543163</td>\n",
                            "      <td>131603.0585</td>\n",
                            "      <td>2.291</td>\n",
                            "      <td>2024-09-11 23:00:00+00:00</td>\n",
                            "      <td>2024-09-12 00:05:00+00:00</td>\n",
                            "      <td>57443.5</td>\n",
                            "      <td>57343.8</td>\n",
                            "      <td>0.0005</td>\n",
                            "      <td>0.0005</td>\n",
                            "      <td>...</td>\n",
                            "      <td>57260.1</td>\n",
                            "      <td>57479.1</td>\n",
                            "      <td>False</td>\n",
                            "      <td>Bear_POC</td>\n",
                            "      <td>16.550631</td>\n",
                            "      <td>True</td>\n",
                            "      <td>1726095600000</td>\n",
                            "      <td>1726099500000</td>\n",
                            "      <td>[{'amount': 2.291, 'safe_price': 57443.5, 'ft_...</td>\n",
                            "      <td>1.19%, Bear_POC, VWAP_Lower, 65 min</td>\n",
                            "    </tr>\n",
                            "    <tr>\n",
                            "      <th>127</th>\n",
                            "      <td>BTC/USDT:USDT</td>\n",
                            "      <td>8044.960752</td>\n",
                            "      <td>99952.0500</td>\n",
                            "      <td>1.650</td>\n",
                            "      <td>2024-09-13 23:00:00+00:00</td>\n",
                            "      <td>2024-09-14 00:05:00+00:00</td>\n",
                            "      <td>60577.0</td>\n",
                            "      <td>60509.4</td>\n",
                            "      <td>0.0005</td>\n",
                            "      <td>0.0005</td>\n",
                            "      <td>...</td>\n",
                            "      <td>60305.5</td>\n",
                            "      <td>60590.0</td>\n",
                            "      <td>False</td>\n",
                            "      <td>Bear_POC</td>\n",
                            "      <td>12.424181</td>\n",
                            "      <td>True</td>\n",
                            "      <td>1726268400000</td>\n",
                            "      <td>1726272300000</td>\n",
                            "      <td>[{'amount': 1.65, 'safe_price': 60577.0, 'ft_o...</td>\n",
                            "      <td>0.04%, Bear_POC, VWAP_Lower, 65 min</td>\n",
                            "    </tr>\n",
                            "    <tr>\n",
                            "      <th>128</th>\n",
                            "      <td>BTC/USDT:USDT</td>\n",
                            "      <td>8047.848414</td>\n",
                            "      <td>197770.1130</td>\n",
                            "      <td>3.294</td>\n",
                            "      <td>2024-09-14 22:05:00+00:00</td>\n",
                            "      <td>2024-09-14 22:20:00+00:00</td>\n",
                            "      <td>60039.5</td>\n",
                            "      <td>59922.1</td>\n",
                            "      <td>0.0005</td>\n",
                            "      <td>0.0005</td>\n",
                            "      <td>...</td>\n",
                            "      <td>59908.2</td>\n",
                            "      <td>60042.5</td>\n",
                            "      <td>False</td>\n",
                            "      <td>Bear_POC</td>\n",
                            "      <td>24.574284</td>\n",
                            "      <td>True</td>\n",
                            "      <td>1726351500000</td>\n",
                            "      <td>1726352400000</td>\n",
                            "      <td>[{'amount': 3.294, 'safe_price': 60039.5, 'ft_...</td>\n",
                            "      <td>2.35%, Bear_POC, Bull_Div, 15 min</td>\n",
                            "    </tr>\n",
                            "    <tr>\n",
                            "      <th>129</th>\n",
                            "      <td>BTC/USDT:USDT</td>\n",
                            "      <td>8235.803715</td>\n",
                            "      <td>216716.3880</td>\n",
                            "      <td>3.612</td>\n",
                            "      <td>2024-09-14 22:35:00+00:00</td>\n",
                            "      <td>2024-09-15 00:05:00+00:00</td>\n",
                            "      <td>59999.0</td>\n",
                            "      <td>59980.0</td>\n",
                            "      <td>0.0005</td>\n",
                            "      <td>0.0005</td>\n",
                            "      <td>...</td>\n",
                            "      <td>59900.6</td>\n",
                            "      <td>60096.1</td>\n",
                            "      <td>False</td>\n",
                            "      <td>Bear_POC</td>\n",
                            "      <td>26.313933</td>\n",
                            "      <td>True</td>\n",
                            "      <td>1726353300000</td>\n",
                            "      <td>1726358700000</td>\n",
                            "      <td>[{'amount': 3.612, 'safe_price': 59999.0, 'ft_...</td>\n",
                            "      <td>-1.81%, Bear_POC, VWAP_Lower, 90 min</td>\n",
                            "    </tr>\n",
                            "    <tr>\n",
                            "      <th>130</th>\n",
                            "      <td>BTC/USDT:USDT</td>\n",
                            "      <td>8085.799260</td>\n",
                            "      <td>114562.8148</td>\n",
                            "      <td>1.981</td>\n",
                            "      <td>2024-09-16 22:15:00+00:00</td>\n",
                            "      <td>2024-09-17 00:05:00+00:00</td>\n",
                            "      <td>57830.8</td>\n",
                            "      <td>58244.4</td>\n",
                            "      <td>0.0005</td>\n",
                            "      <td>0.0005</td>\n",
                            "      <td>...</td>\n",
                            "      <td>57830.4</td>\n",
                            "      <td>58397.9</td>\n",
                            "      <td>False</td>\n",
                            "      <td>Bull_POC</td>\n",
                            "      <td>14.168397</td>\n",
                            "      <td>False</td>\n",
                            "      <td>1726524900000</td>\n",
                            "      <td>1726531500000</td>\n",
                            "      <td>[{'amount': 1.981, 'safe_price': 57830.8, 'ft_...</td>\n",
                            "      <td>8.59%, Bull_POC, VWAP_Lower, 110 min</td>\n",
                            "    </tr>\n",
                            "    <tr>\n",
                            "      <th>131</th>\n",
                            "      <td>BTC/USDT:USDT</td>\n",
                            "      <td>8774.645020</td>\n",
                            "      <td>123499.5819</td>\n",
                            "      <td>2.049</td>\n",
                            "      <td>2024-09-17 22:50:00+00:00</td>\n",
                            "      <td>2024-09-18 00:05:00+00:00</td>\n",
                            "      <td>60273.1</td>\n",
                            "      <td>60272.8</td>\n",
                            "      <td>0.0005</td>\n",
                            "      <td>0.0005</td>\n",
                            "      <td>...</td>\n",
                            "      <td>59960.6</td>\n",
                            "      <td>60317.9</td>\n",
                            "      <td>False</td>\n",
                            "      <td>Bear_POC</td>\n",
                            "      <td>14.074596</td>\n",
                            "      <td>True</td>\n",
                            "      <td>1726613400000</td>\n",
                            "      <td>1726617900000</td>\n",
                            "      <td>[{'amount': 2.049, 'safe_price': 60273.1, 'ft_...</td>\n",
                            "      <td>-1.38%, Bear_POC, VWAP_Lower, 75 min</td>\n",
                            "    </tr>\n",
                            "    <tr>\n",
                            "      <th>132</th>\n",
                            "      <td>BTC/USDT:USDT</td>\n",
                            "      <td>8656.561034</td>\n",
                            "      <td>89156.2710</td>\n",
                            "      <td>1.473</td>\n",
                            "      <td>2024-09-18 22:35:00+00:00</td>\n",
                            "      <td>2024-09-18 23:05:00+00:00</td>\n",
                            "      <td>60527.0</td>\n",
                            "      <td>60820.8</td>\n",
                            "      <td>0.0005</td>\n",
                            "      <td>0.0005</td>\n",
                            "      <td>...</td>\n",
                            "      <td>60448.5</td>\n",
                            "      <td>60868.0</td>\n",
                            "      <td>False</td>\n",
                            "      <td>Bear_POC</td>\n",
                            "      <td>10.299271</td>\n",
                            "      <td>True</td>\n",
                            "      <td>1726698900000</td>\n",
                            "      <td>1726700700000</td>\n",
                            "      <td>[{'amount': 1.473, 'safe_price': 60527.0, 'ft_...</td>\n",
                            "      <td>-6.03%, Bear_POC, stop_loss, 30 min</td>\n",
                            "    </tr>\n",
                            "    <tr>\n",
                            "      <th>133</th>\n",
                            "      <td>BTC/USDT:USDT</td>\n",
                            "      <td>8139.322891</td>\n",
                            "      <td>94455.4960</td>\n",
                            "      <td>1.552</td>\n",
                            "      <td>2024-09-18 23:10:00+00:00</td>\n",
                            "      <td>2024-09-18 23:15:00+00:00</td>\n",
                            "      <td>60860.5</td>\n",
                            "      <td>60865.9</td>\n",
                            "      <td>0.0005</td>\n",
                            "      <td>0.0005</td>\n",
                            "      <td>...</td>\n",
                            "      <td>60854.8</td>\n",
                            "      <td>60980.0</td>\n",
                            "      <td>False</td>\n",
                            "      <td>Bear_POC</td>\n",
                            "      <td>11.604835</td>\n",
                            "      <td>True</td>\n",
                            "      <td>1726701000000</td>\n",
                            "      <td>1726701300000</td>\n",
                            "      <td>[{'amount': 1.552, 'safe_price': 60860.5, 'ft_...</td>\n",
                            "      <td>-1.26%, Bear_POC, POC_Upper, 5 min</td>\n",
                            "    </tr>\n",
                            "    <tr>\n",
                            "      <th>134</th>\n",
                            "      <td>BTC/USDT:USDT</td>\n",
                            "      <td>8037.454707</td>\n",
                            "      <td>341447.9880</td>\n",
                            "      <td>5.403</td>\n",
                            "      <td>2024-09-21 22:55:00+00:00</td>\n",
                            "      <td>2024-09-21 23:15:00+00:00</td>\n",
                            "      <td>63196.0</td>\n",
                            "      <td>63270.3</td>\n",
                            "      <td>0.0005</td>\n",
                            "      <td>0.0005</td>\n",
                            "      <td>...</td>\n",
                            "      <td>63125.0</td>\n",
                            "      <td>63271.0</td>\n",
                            "      <td>False</td>\n",
                            "      <td>Bear_POC</td>\n",
                            "      <td>42.482104</td>\n",
                            "      <td>True</td>\n",
                            "      <td>1726959300000</td>\n",
                            "      <td>1726960500000</td>\n",
                            "      <td>[{'amount': 5.403, 'safe_price': 63196.0, 'ft_...</td>\n",
                            "      <td>-9.25%, Bear_POC, stop_loss, 20 min</td>\n",
                            "    </tr>\n",
                            "    <tr>\n",
                            "      <th>135</th>\n",
                            "      <td>BTC/USDT:USDT</td>\n",
                            "      <td>7302.103207</td>\n",
                            "      <td>258483.2202</td>\n",
                            "      <td>4.086</td>\n",
                            "      <td>2024-09-21 23:20:00+00:00</td>\n",
                            "      <td>2024-09-21 23:40:00+00:00</td>\n",
                            "      <td>63260.7</td>\n",
                            "      <td>63350.0</td>\n",
                            "      <td>0.0005</td>\n",
                            "      <td>0.0005</td>\n",
                            "      <td>...</td>\n",
                            "      <td>63204.3</td>\n",
                            "      <td>63350.0</td>\n",
                            "      <td>False</td>\n",
                            "      <td>Bear_POC</td>\n",
                            "      <td>35.398462</td>\n",
                            "      <td>True</td>\n",
                            "      <td>1726960800000</td>\n",
                            "      <td>1726962000000</td>\n",
                            "      <td>[{'amount': 4.086, 'safe_price': 63260.7, 'ft_...</td>\n",
                            "      <td>-8.54%, Bear_POC, stop_loss, 20 min</td>\n",
                            "    </tr>\n",
                            "    <tr>\n",
                            "      <th>136</th>\n",
                            "      <td>BTC/USDT:USDT</td>\n",
                            "      <td>6684.652874</td>\n",
                            "      <td>118355.0573</td>\n",
                            "      <td>1.873</td>\n",
                            "      <td>2024-09-23 23:25:00+00:00</td>\n",
                            "      <td>2024-09-24 00:05:00+00:00</td>\n",
                            "      <td>63190.1</td>\n",
                            "      <td>63317.5</td>\n",
                            "      <td>0.0005</td>\n",
                            "      <td>0.0005</td>\n",
                            "      <td>...</td>\n",
                            "      <td>63150.3</td>\n",
                            "      <td>63382.0</td>\n",
                            "      <td>False</td>\n",
                            "      <td>Bull_POC</td>\n",
                            "      <td>17.705490</td>\n",
                            "      <td>False</td>\n",
                            "      <td>1727133900000</td>\n",
                            "      <td>1727136300000</td>\n",
                            "      <td>[{'amount': 1.873, 'safe_price': 63190.1, 'ft_...</td>\n",
                            "      <td>1.76%, Bull_POC, POC_Lower, 40 min</td>\n",
                            "    </tr>\n",
                            "  </tbody>\n",
                            "</table>\n",
                            "<p>17 rows × 28 columns</p>\n",
                            "</div>"
                        ],
                        "text/plain": [
                            "              pair  stake_amount  max_stake_amount  amount  \\\n",
                            "120  BTC/USDT:USDT   8538.949487       143529.2632   2.476   \n",
                            "121  BTC/USDT:USDT   8782.384814       136397.0569   2.353   \n",
                            "122  BTC/USDT:USDT   8212.752011       148641.5384   2.572   \n",
                            "123  BTC/USDT:USDT   7660.608929       135951.5290   2.359   \n",
                            "124  BTC/USDT:USDT   7144.954589       103486.8778   1.802   \n",
                            "125  BTC/USDT:USDT   7406.091939       123572.8575   2.297   \n",
                            "126  BTC/USDT:USDT   7951.543163       131603.0585   2.291   \n",
                            "127  BTC/USDT:USDT   8044.960752        99952.0500   1.650   \n",
                            "128  BTC/USDT:USDT   8047.848414       197770.1130   3.294   \n",
                            "129  BTC/USDT:USDT   8235.803715       216716.3880   3.612   \n",
                            "130  BTC/USDT:USDT   8085.799260       114562.8148   1.981   \n",
                            "131  BTC/USDT:USDT   8774.645020       123499.5819   2.049   \n",
                            "132  BTC/USDT:USDT   8656.561034        89156.2710   1.473   \n",
                            "133  BTC/USDT:USDT   8139.322891        94455.4960   1.552   \n",
                            "134  BTC/USDT:USDT   8037.454707       341447.9880   5.403   \n",
                            "135  BTC/USDT:USDT   7302.103207       258483.2202   4.086   \n",
                            "136  BTC/USDT:USDT   6684.652874       118355.0573   1.873   \n",
                            "\n",
                            "                    open_date                close_date  open_rate  \\\n",
                            "120 2024-09-03 21:40:00+00:00 2024-09-03 22:05:00+00:00    57968.2   \n",
                            "121 2024-09-03 22:10:00+00:00 2024-09-03 23:00:00+00:00    57967.3   \n",
                            "122 2024-09-03 23:05:00+00:00 2024-09-03 23:25:00+00:00    57792.2   \n",
                            "123 2024-09-03 23:30:00+00:00 2024-09-03 23:50:00+00:00    57631.0   \n",
                            "124 2024-09-03 23:55:00+00:00 2024-09-04 00:05:00+00:00    57428.9   \n",
                            "125 2024-09-07 23:10:00+00:00 2024-09-08 00:05:00+00:00    53797.5   \n",
                            "126 2024-09-11 23:00:00+00:00 2024-09-12 00:05:00+00:00    57443.5   \n",
                            "127 2024-09-13 23:00:00+00:00 2024-09-14 00:05:00+00:00    60577.0   \n",
                            "128 2024-09-14 22:05:00+00:00 2024-09-14 22:20:00+00:00    60039.5   \n",
                            "129 2024-09-14 22:35:00+00:00 2024-09-15 00:05:00+00:00    59999.0   \n",
                            "130 2024-09-16 22:15:00+00:00 2024-09-17 00:05:00+00:00    57830.8   \n",
                            "131 2024-09-17 22:50:00+00:00 2024-09-18 00:05:00+00:00    60273.1   \n",
                            "132 2024-09-18 22:35:00+00:00 2024-09-18 23:05:00+00:00    60527.0   \n",
                            "133 2024-09-18 23:10:00+00:00 2024-09-18 23:15:00+00:00    60860.5   \n",
                            "134 2024-09-21 22:55:00+00:00 2024-09-21 23:15:00+00:00    63196.0   \n",
                            "135 2024-09-21 23:20:00+00:00 2024-09-21 23:40:00+00:00    63260.7   \n",
                            "136 2024-09-23 23:25:00+00:00 2024-09-24 00:05:00+00:00    63190.1   \n",
                            "\n",
                            "     close_rate  fee_open  fee_close  ...  min_rate  max_rate  is_open  \\\n",
                            "120     58125.9    0.0005     0.0005  ...   57941.0   58157.0    False   \n",
                            "121     57780.7    0.0005     0.0005  ...   57755.9   58043.9    False   \n",
                            "122     57632.6    0.0005     0.0005  ...   57631.0   57796.4    False   \n",
                            "123     57468.7    0.0005     0.0005  ...   57320.0   57725.8    False   \n",
                            "124     57632.6    0.0005     0.0005  ...   57384.6   57737.7    False   \n",
                            "125     54093.9    0.0005     0.0005  ...   53797.5   54200.0    False   \n",
                            "126     57343.8    0.0005     0.0005  ...   57260.1   57479.1    False   \n",
                            "127     60509.4    0.0005     0.0005  ...   60305.5   60590.0    False   \n",
                            "128     59922.1    0.0005     0.0005  ...   59908.2   60042.5    False   \n",
                            "129     59980.0    0.0005     0.0005  ...   59900.6   60096.1    False   \n",
                            "130     58244.4    0.0005     0.0005  ...   57830.4   58397.9    False   \n",
                            "131     60272.8    0.0005     0.0005  ...   59960.6   60317.9    False   \n",
                            "132     60820.8    0.0005     0.0005  ...   60448.5   60868.0    False   \n",
                            "133     60865.9    0.0005     0.0005  ...   60854.8   60980.0    False   \n",
                            "134     63270.3    0.0005     0.0005  ...   63125.0   63271.0    False   \n",
                            "135     63350.0    0.0005     0.0005  ...   63204.3   63350.0    False   \n",
                            "136     63317.5    0.0005     0.0005  ...   63150.3   63382.0    False   \n",
                            "\n",
                            "    enter_tag   leverage  is_short  open_timestamp  close_timestamp  \\\n",
                            "120  Bull_POC  16.808773     False   1725399600000    1725401100000   \n",
                            "121  Bull_POC  15.530754     False   1725401400000    1725404400000   \n",
                            "122  Bull_POC  18.098871     False   1725404700000    1725405900000   \n",
                            "123  Bull_POC  17.746831     False   1725406200000    1725407400000   \n",
                            "124  Bull_POC  14.483910     False   1725407700000    1725408300000   \n",
                            "125  Bull_POC  16.685299     False   1725750600000    1725753900000   \n",
                            "126  Bear_POC  16.550631      True   1726095600000    1726099500000   \n",
                            "127  Bear_POC  12.424181      True   1726268400000    1726272300000   \n",
                            "128  Bear_POC  24.574284      True   1726351500000    1726352400000   \n",
                            "129  Bear_POC  26.313933      True   1726353300000    1726358700000   \n",
                            "130  Bull_POC  14.168397     False   1726524900000    1726531500000   \n",
                            "131  Bear_POC  14.074596      True   1726613400000    1726617900000   \n",
                            "132  Bear_POC  10.299271      True   1726698900000    1726700700000   \n",
                            "133  Bear_POC  11.604835      True   1726701000000    1726701300000   \n",
                            "134  Bear_POC  42.482104      True   1726959300000    1726960500000   \n",
                            "135  Bear_POC  35.398462      True   1726960800000    1726962000000   \n",
                            "136  Bull_POC  17.705490     False   1727133900000    1727136300000   \n",
                            "\n",
                            "                                                orders  \\\n",
                            "120  [{'amount': 2.476, 'safe_price': 57968.2, 'ft_...   \n",
                            "121  [{'amount': 2.353, 'safe_price': 57967.3, 'ft_...   \n",
                            "122  [{'amount': 2.572, 'safe_price': 57792.2, 'ft_...   \n",
                            "123  [{'amount': 2.359, 'safe_price': 57631.0, 'ft_...   \n",
                            "124  [{'amount': 1.802, 'safe_price': 57428.9, 'ft_...   \n",
                            "125  [{'amount': 2.297, 'safe_price': 53797.5, 'ft_...   \n",
                            "126  [{'amount': 2.291, 'safe_price': 57443.5, 'ft_...   \n",
                            "127  [{'amount': 1.65, 'safe_price': 60577.0, 'ft_o...   \n",
                            "128  [{'amount': 3.294, 'safe_price': 60039.5, 'ft_...   \n",
                            "129  [{'amount': 3.612, 'safe_price': 59999.0, 'ft_...   \n",
                            "130  [{'amount': 1.981, 'safe_price': 57830.8, 'ft_...   \n",
                            "131  [{'amount': 2.049, 'safe_price': 60273.1, 'ft_...   \n",
                            "132  [{'amount': 1.473, 'safe_price': 60527.0, 'ft_...   \n",
                            "133  [{'amount': 1.552, 'safe_price': 60860.5, 'ft_...   \n",
                            "134  [{'amount': 5.403, 'safe_price': 63196.0, 'ft_...   \n",
                            "135  [{'amount': 4.086, 'safe_price': 63260.7, 'ft_...   \n",
                            "136  [{'amount': 1.873, 'safe_price': 63190.1, 'ft_...   \n",
                            "\n",
                            "                                     desc  \n",
                            "120     2.89%, Bull_POC, Bear_Div, 25 min  \n",
                            "121   -6.55%, Bull_POC, stop_loss, 50 min  \n",
                            "122   -6.80%, Bull_POC, stop_loss, 20 min  \n",
                            "123   -6.77%, Bull_POC, stop_loss, 20 min  \n",
                            "124   3.65%, Bull_POC, VWAP_Lower, 10 min  \n",
                            "125   7.45%, Bull_POC, VWAP_Lower, 55 min  \n",
                            "126   1.19%, Bear_POC, VWAP_Lower, 65 min  \n",
                            "127   0.04%, Bear_POC, VWAP_Lower, 65 min  \n",
                            "128     2.35%, Bear_POC, Bull_Div, 15 min  \n",
                            "129  -1.81%, Bear_POC, VWAP_Lower, 90 min  \n",
                            "130  8.59%, Bull_POC, VWAP_Lower, 110 min  \n",
                            "131  -1.38%, Bear_POC, VWAP_Lower, 75 min  \n",
                            "132   -6.03%, Bear_POC, stop_loss, 30 min  \n",
                            "133    -1.26%, Bear_POC, POC_Upper, 5 min  \n",
                            "134   -9.25%, Bear_POC, stop_loss, 20 min  \n",
                            "135   -8.54%, Bear_POC, stop_loss, 20 min  \n",
                            "136    1.76%, Bull_POC, POC_Lower, 40 min  \n",
                            "\n",
                            "[17 rows x 28 columns]"
                        ]
                    },
                    "execution_count": 10,
                    "metadata": {},
                    "output_type": "execute_result"
                }
            ],
            "source": [
                "trades_filtered"
            ]
        },
        {
            "cell_type": "markdown",
            "metadata": {},
            "source": [
                "## Conclusion\n",
                "\n",
                "This notebook provides an in-depth analysis of the CVDDivergence strategy. Based on the results, we can draw the following conclusions:\n",
                "\n",
                "1. Trade Performance: [Summarize the overall performance, profitability, and drawdown]\n",
                "2. Entry/Exit Signals: [Discuss the effectiveness of the entry and exit signals]\n",
                "3. Pair Performance: [Highlight any pairs that performed particularly well or poorly]\n",
                "4. Trade Parallelism: [Comment on the strategy's ability to manage multiple concurrent trades]\n",
                "5. Profit Distribution: [Analyze the distribution of profits, noting any skewness or outliers]\n",
                "\n",
                "Areas for improvement:\n",
                "1. [Suggestion 1]\n",
                "2. [Suggestion 2]\n",
                "3. [Suggestion 3]\n",
                "\n",
                "Next steps:\n",
                "1. [Step 1]\n",
                "2. [Step 2]\n",
                "3. [Step 3]\n",
                "\n",
                "Remember to thoroughly test any changes before using this strategy in live trading."
            ]
        }
    ],
    "metadata": {
        "kernelspec": {
            "display_name": "Python 3",
            "language": "python",
            "name": "python3"
        },
        "language_info": {
            "codemirror_mode": {
                "name": "ipython",
                "version": 3
            },
            "file_extension": ".py",
            "mimetype": "text/x-python",
            "name": "python",
            "nbconvert_exporter": "python",
            "pygments_lexer": "ipython3",
            "version": "3.12.6"
        }
    },
    "nbformat": 4,
    "nbformat_minor": 4
}
