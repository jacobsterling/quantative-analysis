{
 "cells": [
  {
   "cell_type": "markdown",
   "metadata": {},
   "source": [
    "### Set Project Root"
   ]
  },
  {
   "cell_type": "code",
   "execution_count": 2,
   "metadata": {},
   "outputs": [],
   "source": [
    "from constants import set_cwd_to_project_root\n",
    "\n",
    "set_cwd_to_project_root()\n",
    "\n",
    "PAIR = \"BTC/USDT:USDT\""
   ]
  },
  {
   "cell_type": "markdown",
   "metadata": {},
   "source": [
    "### Initialize Datahandler"
   ]
  },
  {
   "cell_type": "code",
   "execution_count": 3,
   "metadata": {},
   "outputs": [],
   "source": [
    "# Load data using values set above\n",
    "from freqtrade.data.history import get_datahandler\n",
    "\n",
    "from freqtrade.enums import CandleType\n",
    "from constants import DATA_DIR\n",
    "\n",
    "data_handler = get_datahandler(\n",
    "    datadir=DATA_DIR / \"binance\",\n",
    "    data_format=\"feather\",\n",
    ")"
   ]
  },
  {
   "cell_type": "markdown",
   "metadata": {},
   "source": [
    "### Load Trades and Candles"
   ]
  },
  {
   "cell_type": "code",
   "execution_count": 5,
   "metadata": {},
   "outputs": [],
   "source": [
    "from freqtrade.data.converter import populate_dataframe_with_trades\n",
    "from collections import OrderedDict\n",
    "\n",
    "# Initialize an empty OrderedDict for cached_grouped_trades\n",
    "cached_grouped_trades = OrderedDict()\n",
    "\n",
    "dataframe, cached_grouped_trades = populate_dataframe_with_trades(\n",
    "    cached_grouped_trades=cached_grouped_trades,\n",
    "    config=dict(\n",
    "        timeframe=\"5m\", \n",
    "        orderflow=dict(\n",
    "            cache_size=1000,\n",
    "            max_candles=10000,\n",
    "            scale=0.5,\n",
    "            stacked_imbalance_range=3,\n",
    "            imbalance_volume=1,\n",
    "            imbalance_ratio=3\n",
    "        )\n",
    "    ),\n",
    "    dataframe=data_handler.ohlcv_load(PAIR, \"5m\", CandleType.FUTURES),\n",
    "    trades=data_handler.trades_load(PAIR, CandleType.FUTURES)\n",
    ").dropna(subset=\"delta\")\n",
    "\n",
    "dataframe.head()"
   ]
  },
  {
   "cell_type": "markdown",
   "metadata": {},
   "source": [
    "### Populate indicators"
   ]
  },
  {
   "cell_type": "code",
   "execution_count": null,
   "metadata": {},
   "outputs": [],
   "source": [
    "from pandas import DataFrame\n",
    "\n",
    "dataframe[\"day\"] = dataframe[\"date\"].dt.date\n",
    "\n",
    "dataframe.set_index(\"date\", inplace=True)\n",
    "\n",
    "def _calculations(group: DataFrame) -> DataFrame:\n",
    "    # Calculate CVD and related indicators\n",
    "    group[\"cvd\"] = group[\"delta\"].cumsum()\n",
    "\n",
    "    return group\n",
    "\n",
    "dataframe = dataframe.groupby(\"day\").apply(_calculations).reset_index(level=0, drop=True)"
   ]
  },
  {
   "cell_type": "code",
   "execution_count": null,
   "metadata": {},
   "outputs": [],
   "source": [
    "import numpy as np\n",
    "from pandas import Series\n",
    "\n",
    "# Add new hyperparameters\n",
    "lookback = default=50\n",
    "threshold = 2.0\n",
    "roc_period = 5\n",
    "\n",
    "def detect_divergences(df: DataFrame):\n",
    "    \"\"\"\n",
    "    Detect both bullish and bearish divergences using a quantitative approach.\n",
    "    \"\"\"\n",
    "\n",
    "    # Calculate rate of change\n",
    "    df[\"price_roc\"] = df[\"close\"].pct_change(roc_period)\n",
    "    df[\"cvd_roc\"] = df[\"cvd\"].pct_change(roc_period)\n",
    "\n",
    "    bullish_div = np.zeros(len(df), dtype=bool)\n",
    "    bearish_div = np.zeros(len(df), dtype=bool)\n",
    "\n",
    "    for i in range(lookback, len(df)):\n",
    "        price_window = df[\"close\"].iloc[i - lookback : i]\n",
    "        cvd_window = df[\"cvd\"].iloc[i - lookback : i]\n",
    "\n",
    "        # Find local min/max\n",
    "        price_min_idx = price_window.idxmin()\n",
    "        price_max_idx = price_window.idxmax()\n",
    "        cvd_min_idx = cvd_window.idxmin()\n",
    "        cvd_max_idx = cvd_window.idxmax()\n",
    "\n",
    "        # Calculate slopes\n",
    "        price_slope = (df[\"close\"].iloc[i] - price_window.iloc[0]) / lookback\n",
    "        cvd_slope = (df[\"cvd\"].iloc[i] - cvd_window.iloc[0]) / lookback\n",
    "\n",
    "        # Detect bullish divergence\n",
    "        if (\n",
    "            price_min_idx == price_window.index[-1]\n",
    "            and cvd_min_idx != cvd_window.index[-1]\n",
    "            and price_slope < 0\n",
    "            and cvd_slope > 0\n",
    "            and df[\"price_roc\"].iloc[i] < -threshold\n",
    "            and df[\"cvd_roc\"].iloc[i] > threshold\n",
    "        ):\n",
    "            bullish_div[i] = True\n",
    "\n",
    "        # Detect bearish divergence\n",
    "        if (\n",
    "            price_max_idx == price_window.index[-1]\n",
    "            and cvd_max_idx != cvd_window.index[-1]\n",
    "            and price_slope > 0\n",
    "            and cvd_slope < 0\n",
    "            and df[\"price_roc\"].iloc[i] > threshold\n",
    "            and df[\"cvd_roc\"].iloc[i] < -threshold\n",
    "        ):\n",
    "            bearish_div[i] = True\n",
    "\n",
    "    return Series(bullish_div, index=df.index), Series(bearish_div, index=df.index)\n",
    "\n",
    "bullish_div, bearish_div = detect_divergences(dataframe)\n",
    "\n",
    "dataframe.loc[\n",
    "    (bullish_div)\n",
    "    & (dataframe[\"close\"] < dataframe[\"vwap\"])\n",
    "    & (dataframe[\"low\"] > dataframe[\"bear_poc_upper\"])\n",
    "    & (dataframe[\"rsi\"] < 30),\n",
    "    [\"enter_long\", \"enter_tag\"],\n",
    "] = (1, \"Long_Divergence\")\n",
    "\n",
    "dataframe.loc[\n",
    "    (bearish_div)\n",
    "    & (dataframe[\"close\"] > dataframe[\"vwap\"])\n",
    "    & (dataframe[\"high\"] < dataframe[\"bull_poc_lower\"])\n",
    "    & (dataframe[\"rsi\"] > 70),\n",
    "    [\"enter_short\", \"enter_tag\"],\n",
    "] = (1, \"Short_Divergence\")\n",
    "\n",
    "dataframe.head()"
   ]
  },
  {
   "cell_type": "markdown",
   "metadata": {},
   "source": [
    "### Imports"
   ]
  },
  {
   "cell_type": "code",
   "execution_count": null,
   "metadata": {},
   "outputs": [],
   "source": [
    "import pandas as pd\n",
    "from sklearn.ensemble import RandomForestClassifier\n",
    "from sklearn.model_selection import train_test_split\n",
    "from sklearn.metrics import accuracy_score"
   ]
  },
  {
   "cell_type": "markdown",
   "metadata": {},
   "source": [
    "### Add features for model training"
   ]
  },
  {
   "cell_type": "code",
   "execution_count": null,
   "metadata": {},
   "outputs": [],
   "source": [
    "dataframe['price_change'] = dataframe['close'].pct_change()\n",
    "dataframe['cvd_change'] = dataframe['cvd'].pct_change()\n",
    "dataframe['price_cvd_diff'] = dataframe['close'] - dataframe['cvd']"
   ]
  },
  {
   "cell_type": "markdown",
   "metadata": {},
   "source": [
    "### Define target variable (1 for divergence, 0 for no divergence)"
   ]
  },
  {
   "cell_type": "code",
   "execution_count": null,
   "metadata": {},
   "outputs": [],
   "source": [
    "dataframe['divergence'] = (dataframe['price_change'] * dataframe['cvd_change'] < 0).astype(int)\n",
    "\n",
    "# Drop NaN values\n",
    "dataframe.dropna(inplace=True)"
   ]
  },
  {
   "cell_type": "markdown",
   "metadata": {},
   "source": [
    "### Features and target"
   ]
  },
  {
   "cell_type": "code",
   "execution_count": null,
   "metadata": {},
   "outputs": [],
   "source": [
    "X = dataframe[['price_change', 'cvd_change', 'price_cvd_diff']]\n",
    "y = dataframe['divergence']"
   ]
  },
  {
   "cell_type": "markdown",
   "metadata": {},
   "source": [
    "### Split the data"
   ]
  },
  {
   "cell_type": "code",
   "execution_count": null,
   "metadata": {},
   "outputs": [],
   "source": [
    "X_train, X_test, y_train, y_test = train_test_split(X, y, test_size=0.2, random_state=42)"
   ]
  },
  {
   "cell_type": "markdown",
   "metadata": {},
   "source": [
    "### Train the model"
   ]
  },
  {
   "cell_type": "code",
   "execution_count": null,
   "metadata": {},
   "outputs": [],
   "source": [
    "model = RandomForestClassifier(n_estimators=100, random_state=42)\n",
    "model.fit(X_train, y_train)"
   ]
  },
  {
   "cell_type": "markdown",
   "metadata": {},
   "source": [
    "### Predict and evaluate"
   ]
  },
  {
   "cell_type": "code",
   "execution_count": null,
   "metadata": {},
   "outputs": [],
   "source": [
    "y_pred = model.predict(X_test)\n",
    "accuracy = accuracy_score(y_test, y_pred)\n",
    "\n",
    "f\"Model Accuracy: {accuracy:.2f}\""
   ]
  },
  {
   "cell_type": "markdown",
   "metadata": {},
   "source": [
    "### Strategy Integration"
   ]
  },
  {
   "cell_type": "code",
   "execution_count": null,
   "metadata": {},
   "outputs": [],
   "source": [
    "def detect_divergence_with_ml(dataframe: pd.DataFrame) -> pd.Series:\n",
    "    features = dataframe[['price_change', 'cvd_change', 'price_cvd_diff']].fillna(0)\n",
    "    predictions = model.predict(features)\n",
    "    return pd.Series(predictions, index=dataframe.index)\n",
    "\n",
    "# Integrate into your strategy\n",
    "dataframe['ml_divergence'] = detect_divergence_with_ml(dataframe)"
   ]
  },
  {
   "cell_type": "code",
   "execution_count": null,
   "metadata": {},
   "outputs": [],
   "source": [
    "import plotly.graph_objects as go\n",
    "from plotly.subplots import make_subplots\n",
    "\n",
    "# Create the candlestick chart\n",
    "fig = go.Figure(\n",
    "    data=[\n",
    "        go.Candlestick(\n",
    "            x=dataframe.index,\n",
    "            open=dataframe['open'],\n",
    "            high=dataframe['high'],\n",
    "            low=dataframe['low'],\n",
    "            close=dataframe['close']\n",
    "        )\n",
    "])\n",
    "\n",
    "# Add ML divergence markers\n",
    "divergence_points = dataframe[dataframe['ml_divergence'] == 1]\n",
    "\n",
    "fig.add_trace(go.Scatter(\n",
    "    x=divergence_points.index,\n",
    "    y=divergence_points['close'],\n",
    "    mode='markers',\n",
    "    marker=dict(\n",
    "        size=10,\n",
    "        symbol='star',\n",
    "        color='red',\n",
    "        line=dict(width=2, color='DarkSlateGrey')\n",
    "    ),\n",
    "    name='ML Divergence'\n",
    "))\n",
    "\n",
    "# Add CVD subplot\n",
    "fig = make_subplots(rows=2, cols=1, shared_xaxes=True, vertical_spacing=0.1, row_heights=[0.7, 0.3])\n",
    "\n",
    "# Add candlestick chart to the first subplot\n",
    "fig.add_trace(\n",
    "    go.Candlestick(\n",
    "        x=dataframe.index,\n",
    "        open=dataframe['open'],\n",
    "        high=dataframe['high'],\n",
    "        low=dataframe['low'],\n",
    "        close=dataframe['close'],\n",
    "        name='Candlesticks'\n",
    "    ),\n",
    "    row=1, col=1\n",
    ")\n",
    "\n",
    "# Add ML divergence markers to the first subplot\n",
    "fig.add_trace(\n",
    "    go.Scatter(\n",
    "        x=divergence_points.index,\n",
    "        y=divergence_points['close'],\n",
    "        mode='markers',\n",
    "        marker=dict(\n",
    "            size=10,\n",
    "            symbol='star',\n",
    "            color='red',\n",
    "            line=dict(width=2, color='DarkSlateGrey')\n",
    "        ),\n",
    "        name='ML Divergence'\n",
    "    ),\n",
    "    row=1, col=1\n",
    ")\n",
    "\n",
    "# Add CVD to the second subplot\n",
    "fig.add_trace(\n",
    "    go.Scatter(\n",
    "        x=dataframe.index,\n",
    "        y=dataframe['cvd'],\n",
    "        mode='lines',\n",
    "        name='CVD'\n",
    "    ),\n",
    "    row=2, col=1\n",
    ")\n",
    "\n",
    "# Update layout for both subplots\n",
    "fig.update_layout(\n",
    "    title=f'{PAIR} OHLCV Chart with Pivot Points and CVD',\n",
    "    yaxis_title='Price',\n",
    "    xaxis_title='Date',\n",
    "    xaxis_rangeslider_visible=False,\n",
    "    legend=dict(orientation=\"h\", yanchor=\"bottom\", y=1.02, xanchor=\"right\", x=1),\n",
    "    height=800  # Increase the overall height to accommodate the subplot\n",
    ")\n",
    "\n",
    "# Update y-axis labels\n",
    "fig.update_yaxes(title_text=\"Price\", row=1, col=1)\n",
    "fig.update_yaxes(title_text=\"CVD\", row=2, col=1)\n",
    "\n",
    "\n",
    "# Update layout\n",
    "fig.update_layout(\n",
    "    title=f'{PAIR} OHLCV Chart with Pivot Points',\n",
    "    yaxis_title='Price',\n",
    "    xaxis_title='Date',\n",
    "    xaxis_rangeslider_visible=False,\n",
    "    legend=dict(orientation=\"h\", yanchor=\"bottom\", y=1.02, xanchor=\"right\", x=1)\n",
    ")\n",
    "\n",
    "# Show the plot\n",
    "fig.show()"
   ]
  }
 ],
 "metadata": {
  "kernelspec": {
   "display_name": "Python 3",
   "language": "python",
   "name": "python3"
  },
  "language_info": {
   "codemirror_mode": {
    "name": "ipython",
    "version": 3
   },
   "file_extension": ".py",
   "mimetype": "text/x-python",
   "name": "python",
   "nbconvert_exporter": "python",
   "pygments_lexer": "ipython3",
   "version": "3.12.6"
  }
 },
 "nbformat": 4,
 "nbformat_minor": 2
}
